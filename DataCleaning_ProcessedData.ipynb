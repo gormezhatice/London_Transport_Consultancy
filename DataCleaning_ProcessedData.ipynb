{
 "cells": [
  {
   "cell_type": "markdown",
   "id": "59711a08",
   "metadata": {},
   "source": [
    "### LSE Data Analytics Online Career Accelerator \n",
    "\n",
    "# Project Title"
   ]
  },
  {
   "cell_type": "markdown",
   "id": "4dcb1a0a",
   "metadata": {},
   "source": [
    "# Assignment Scenario\n",
    "\n",
    "### GREATER LONDON AUTHORITY (GLA) PROJECT TO ASSESS CYCLING IN LONDON, AND SUGGEST HOW TO INCREASE LONDON CYCLING.\n",
    "\n",
    "### Understand the changes in cycling behaviour 2018-2023, and how it might have been impacted by the MTS policies. \n",
    "### Inform decisions to adjust the MTS and policies to enhance cycling uptake in London.\n"
   ]
  },
  {
   "cell_type": "markdown",
   "id": "6edc28f5",
   "metadata": {},
   "source": [
    "## 1.3) Imports and Downloads."
   ]
  },
  {
   "cell_type": "code",
   "execution_count": 1,
   "id": "6c836ef4",
   "metadata": {},
   "outputs": [
    {
     "name": "stderr",
     "output_type": "stream",
     "text": [
      "[nltk_data] Downloading package punkt to\n",
      "[nltk_data]     /Users/haticegormez/nltk_data...\n",
      "[nltk_data]   Package punkt is already up-to-date!\n",
      "[nltk_data] Downloading package stopwords to\n",
      "[nltk_data]     /Users/haticegormez/nltk_data...\n",
      "[nltk_data]   Package stopwords is already up-to-date!\n",
      "[nltk_data] Downloading package wordnet to\n",
      "[nltk_data]     /Users/haticegormez/nltk_data...\n",
      "[nltk_data]   Package wordnet is already up-to-date!\n",
      "[nltk_data] Downloading package stopwords to\n",
      "[nltk_data]     /Users/haticegormez/nltk_data...\n",
      "[nltk_data]   Package stopwords is already up-to-date!\n",
      "[nltk_data] Downloading package words to\n",
      "[nltk_data]     /Users/haticegormez/nltk_data...\n",
      "[nltk_data]   Package words is already up-to-date!\n"
     ]
    }
   ],
   "source": [
    "# Import useful packages for DataFrames.  \n",
    "import pandas as pd\n",
    "import numpy as np\n",
    "import datetime as dt\n",
    "import time\n",
    "\n",
    "# Import plotting packages\n",
    "import matplotlib.pyplot as plt\n",
    "import seaborn as sns\n",
    "from matplotlib.dates import *\n",
    "import matplotlib.ticker as ticker\n",
    "import matplotlib.dates as mdates\n",
    "\n",
    "# Import API useful packages\n",
    "import requests\n",
    "import json\n",
    "import dotenv\n",
    "from bs4 import BeautifulSoup\n",
    "from dotenv import load_dotenv\n",
    "from io import StringIO\n",
    "\n",
    "# Import other useful packages\n",
    "import timeit\n",
    "import math\n",
    "\n",
    "# Imports\n",
    "import numpy as np\n",
    "import pandas as pd\n",
    "import matplotlib.pyplot as plt\n",
    "import seaborn as sns\n",
    "import statsmodels.api as sm \n",
    "from statsmodels.formula.api import ols\n",
    "\n",
    "from sklearn.model_selection import train_test_split\n",
    "from statsmodels.stats.stattools import durbin_watson\n",
    "from statsmodels.stats.stattools import jarque_bera\n",
    "import statsmodels.stats.api as sms\n",
    "from statsmodels.stats.outliers_influence import variance_inflation_factor\n",
    "\n",
    "# Import the necessary package.\n",
    "from sklearn.linear_model import LinearRegression\n",
    "from sklearn import linear_model\n",
    "from sklearn import metrics\n",
    "\n",
    "import warnings\n",
    "warnings.filterwarnings('ignore')\n",
    "\n",
    "from sklearn.preprocessing import StandardScaler\n",
    "from sklearn.cluster import KMeans\n",
    "from sklearn.metrics import silhouette_score\n",
    "from sklearn.metrics import accuracy_score\n",
    "from scipy.spatial.distance import cdist\n",
    "\n",
    "# The Elbow method.\n",
    "# Import the KMeans class.\n",
    "from sklearn.cluster import KMeans\n",
    "\n",
    "# The Silhouette method.\n",
    "# Import the silhouette_score class from sklearn.\n",
    "from sklearn.metrics import silhouette_score\n",
    "\n",
    "# Import all the necessary packages.\n",
    "import nltk \n",
    "\n",
    "from wordcloud import WordCloud\n",
    "from nltk.tokenize import word_tokenize\n",
    "from nltk.probability import FreqDist\n",
    "from nltk.corpus import stopwords\n",
    "from textblob import TextBlob\n",
    "from scipy.stats import norm\n",
    "\n",
    "# Import Counter.\n",
    "from collections import Counter\n",
    "\n",
    "import warnings\n",
    "warnings.filterwarnings('ignore')\n",
    "\n",
    "# Install the required tokenisation model.\n",
    "nltk.download('punkt')\n",
    "# Download the stopwords.\n",
    "nltk.download('stopwords')\n",
    "# Download the resource.\n",
    "nltk.download('wordnet')\n",
    "# Import the Counter class.\n",
    "from collections import Counter\n",
    "\n",
    "from nltk.corpus import words\n",
    "nltk.download('stopwords')\n",
    "nltk.download('words')\n",
    "\n",
    "# Import the necessary package.\n",
    "from textblob import TextBlob\n",
    "\n",
    "# Import the vader class SentimentIntensityAnalyser.\n",
    "from nltk.sentiment.vader import SentimentIntensityAnalyzer\n",
    "\n",
    "# Import the necessary class.\n",
    "from vaderSentiment.vaderSentiment import SentimentIntensityAnalyzer\n",
    "\n",
    "import pkg_resources"
   ]
  },
  {
   "cell_type": "markdown",
   "id": "448d5c41",
   "metadata": {},
   "source": [
    "# 2.0) Load the data into DataFrames."
   ]
  },
  {
   "cell_type": "markdown",
   "id": "243453ff",
   "metadata": {},
   "source": [
    "## 2.1) Set general parameters for the private GitHub API request."
   ]
  },
  {
   "cell_type": "markdown",
   "id": "b4b92e6f",
   "metadata": {},
   "source": [
    "## 2.2) Load London cycling data from given Employer Project data."
   ]
  },
  {
   "cell_type": "code",
   "execution_count": 2,
   "id": "348c6400",
   "metadata": {},
   "outputs": [
    {
     "name": "stdout",
     "output_type": "stream",
     "text": [
      "  Survey wave (calendar quarter) Equivalent financial quarter   Site ID  \\\n",
      "0        2014 Q1 (January-March)                   2013-14 Q4  CENCY001   \n",
      "1        2014 Q1 (January-March)                   2013-14 Q4  CENCY001   \n",
      "2        2014 Q1 (January-March)                   2013-14 Q4  CENCY001   \n",
      "3        2014 Q1 (January-March)                   2013-14 Q4  CENCY001   \n",
      "4        2014 Q1 (January-March)                   2013-14 Q4  CENCY001   \n",
      "\n",
      "                             Location    Survey date Weather         Time  \\\n",
      "0  Millbank (south of Thorney Street)  ven, 24/01/14     Dry  0600 - 0615   \n",
      "1  Millbank (south of Thorney Street)  ven, 24/01/14     Dry  0615 - 0630   \n",
      "2  Millbank (south of Thorney Street)  ven, 24/01/14     Dry  0630 - 0645   \n",
      "3  Millbank (south of Thorney Street)  ven, 24/01/14     Dry  0645 - 0700   \n",
      "4  Millbank (south of Thorney Street)  ven, 24/01/14     Dry  0700 - 0715   \n",
      "\n",
      "                        Period   Direction  Start hour  Start minute  \\\n",
      "0  Early Morning (06:00-07:00)  Northbound         6.0           0.0   \n",
      "1  Early Morning (06:00-07:00)  Northbound         6.0          15.0   \n",
      "2  Early Morning (06:00-07:00)  Northbound         6.0          30.0   \n",
      "3  Early Morning (06:00-07:00)  Northbound         6.0          45.0   \n",
      "4        AM peak (07:00-10:00)  Northbound         7.0           0.0   \n",
      "\n",
      "   Number of private cycles  Number of cycle hire bikes  Total cycles  \\\n",
      "0                       0.0                         0.0           0.0   \n",
      "1                      15.0                         0.0          15.0   \n",
      "2                      35.0                         0.0          35.0   \n",
      "3                      59.0                         2.0          61.0   \n",
      "4                      73.0                         0.0          73.0   \n",
      "\n",
      "   Unnamed: 14  Unnamed: 15  Unnamed: 16  \n",
      "0          NaN          NaN          NaN  \n",
      "1          NaN          NaN          NaN  \n",
      "2          NaN          NaN          NaN  \n",
      "3          NaN          NaN          NaN  \n",
      "4          NaN          NaN          NaN  \n"
     ]
    }
   ],
   "source": [
    "# Define specific filepaths for the two CSV files.\n",
    "name_filepath_1 = '/Users/haticegormez/Downloads/Group_4_Team_Project/Data/EP_Data/London/Central London_1.csv'\n",
    "name_filepath_2 = '/Users/haticegormez/Downloads/Group_4_Team_Project/Data/EP_Data/London/Central London_2.csv'\n",
    "\n",
    "# Read the first CSV file into a DataFrame\n",
    "central_london_1 = pd.read_csv(name_filepath_1)\n",
    "\n",
    "# Read the second CSV file into another DataFrame\n",
    "central_london_2 = pd.read_csv(name_filepath_2)\n",
    "\n",
    "# Concatenate the two DataFrames into one\n",
    "central_london = pd.concat([central_london_1, central_london_2], axis=0)\n",
    "\n",
    "# Reset the index to the default integer index\n",
    "central_london = central_london.reset_index(drop=True)\n",
    "\n",
    "#View the OutPut\n",
    "print(central_london.head())"
   ]
  },
  {
   "cell_type": "code",
   "execution_count": 3,
   "id": "39049039",
   "metadata": {},
   "outputs": [
    {
     "name": "stdout",
     "output_type": "stream",
     "text": [
      "   Survey wave (year)   Site ID    Location    Survey date Weather  \\\n",
      "0              2015.0  INNCY001  Grove Road  mer, 20/05/15     Dry   \n",
      "1              2015.0  INNCY001  Grove Road  mer, 20/05/15     Dry   \n",
      "2              2015.0  INNCY001  Grove Road  mer, 20/05/15     Dry   \n",
      "3              2015.0  INNCY001  Grove Road  mer, 20/05/15     Dry   \n",
      "4              2015.0  INNCY001  Grove Road  mer, 20/05/15     Dry   \n",
      "\n",
      "          Time                       Period   Direction  Start hour  \\\n",
      "0  0600 - 0615  Early Morning (06:00-07:00)  Northbound         6.0   \n",
      "1  0615 - 0630  Early Morning (06:00-07:00)  Northbound         6.0   \n",
      "2  0630 - 0645  Early Morning (06:00-07:00)  Northbound         6.0   \n",
      "3  0645 - 0700  Early Morning (06:00-07:00)  Northbound         6.0   \n",
      "4  0700 - 0715        AM peak (07:00-10:00)  Northbound         7.0   \n",
      "\n",
      "   Start minute  Number of private cycles  Number of cycle hire bikes  \\\n",
      "0           0.0                       1.0                         0.0   \n",
      "1          15.0                       2.0                         0.0   \n",
      "2          30.0                       2.0                         0.0   \n",
      "3          45.0                       4.0                         0.0   \n",
      "4           0.0                       4.0                         0.0   \n",
      "\n",
      "   Total cycles  \n",
      "0           1.0  \n",
      "1           2.0  \n",
      "2           2.0  \n",
      "3           4.0  \n",
      "4           4.0  \n"
     ]
    }
   ],
   "source": [
    "# Define specific filepath.\n",
    "name_filepath = '/Users/haticegormez/Downloads/Group_4_Team_Project/Data/EP_Data/London/Inner London.csv'\n",
    "\n",
    "# Read the CSV file into a DataFrame\n",
    "inner_london = pd.read_csv(name_filepath)\n",
    "\n",
    "#View the OutPut\n",
    "print(inner_london.head())"
   ]
  },
  {
   "cell_type": "code",
   "execution_count": 4,
   "id": "0ed7cb27",
   "metadata": {},
   "outputs": [
    {
     "name": "stdout",
     "output_type": "stream",
     "text": [
      "   Survey wave (year)   Site ID          Location    Survey date Weather  \\\n",
      "0                2015  OUTCY001  High Road Leyton  ven, 26/06/15     Dry   \n",
      "1                2015  OUTCY001  High Road Leyton  ven, 26/06/15     Dry   \n",
      "2                2015  OUTCY001  High Road Leyton  ven, 26/06/15     Dry   \n",
      "3                2015  OUTCY001  High Road Leyton  ven, 26/06/15     Dry   \n",
      "4                2015  OUTCY001  High Road Leyton  ven, 26/06/15     Dry   \n",
      "\n",
      "          Time                       Period   Direction  Start hour  \\\n",
      "0  0600 - 0615  Early Morning (06:00-07:00)  Northbound           6   \n",
      "1  0615 - 0630  Early Morning (06:00-07:00)  Northbound           6   \n",
      "2  0630 - 0645  Early Morning (06:00-07:00)  Northbound           6   \n",
      "3  0645 - 0700  Early Morning (06:00-07:00)  Northbound           6   \n",
      "4  0700 - 0715        AM peak (07:00-10:00)  Northbound           7   \n",
      "\n",
      "   Start minute  Number of male cycles  Number of female cycles  \\\n",
      "0             0                      2                        1   \n",
      "1            15                      3                        0   \n",
      "2            30                      2                        0   \n",
      "3            45                      4                        0   \n",
      "4             0                      4                        1   \n",
      "\n",
      "   Number of unknown cycles  Total cycles  \n",
      "0                         0             3  \n",
      "1                         0             3  \n",
      "2                         0             2  \n",
      "3                         0             4  \n",
      "4                         0             5  \n"
     ]
    }
   ],
   "source": [
    "# Define specific filepath.\n",
    "name_filepath = '/Users/haticegormez/Downloads/Group_4_Team_Project/Data/EP_Data/London/Outer London.csv'\n",
    "\n",
    "# Read the CSV file into a DataFrame\n",
    "outer_london = pd.read_csv(name_filepath)\n",
    "\n",
    "#View the OutPut\n",
    "print(outer_london.head())"
   ]
  },
  {
   "cell_type": "code",
   "execution_count": 5,
   "id": "d6f7f5ad",
   "metadata": {},
   "outputs": [
    {
     "name": "stdout",
     "output_type": "stream",
     "text": [
      "      UnqID ProgID           SurveyDescription  Easting  Northing  \\\n",
      "0  CENCY001  CENCY  Central area cycle surveys   530251    178742   \n",
      "1  CENCY002  CENCY  Central area cycle surveys   533363    181824   \n",
      "2  CENCY003  CENCY  Central area cycle surveys   532334    180520   \n",
      "3  CENCY004  CENCY  Central area cycle surveys   532053    179678   \n",
      "4  CENCY005  CENCY  Central area cycle surveys   533032    180213   \n",
      "\n",
      "                             Location         Borough Functional cycling area  \n",
      "0  Millbank (south of Thorney Street)     Westminster                 Central  \n",
      "1                         Bishopsgate  City of London                 Central  \n",
      "2                    Southwark Bridge       Southwark                 Central  \n",
      "3               Southwark Bridge Road       Southwark                 Central  \n",
      "4                       Tooley Street       Southwark                 Central  \n"
     ]
    }
   ],
   "source": [
    "# Define specific filepath.\n",
    "name_filepath = '/Users/haticegormez/Downloads/Group_4_Team_Project/Data/EP_Data/London/Biking Sites.csv'\n",
    "\n",
    "# Read the CSV file into a DataFrame\n",
    "london_biking_sites = pd.read_csv(name_filepath)\n",
    "\n",
    "#View the OutPut\n",
    "print(london_biking_sites.head())"
   ]
  },
  {
   "cell_type": "markdown",
   "id": "fa41578f",
   "metadata": {},
   "source": [
    "## 2.3) Load New York cycling data from given Employer Project data."
   ]
  },
  {
   "cell_type": "code",
   "execution_count": 6,
   "id": "91697bc1",
   "metadata": {},
   "outputs": [
    {
     "name": "stdout",
     "output_type": "stream",
     "text": [
      "          id                    date  counts  status\n",
      "0  100009425  06/24/2022 12:00:00 AM      15       0\n",
      "1  100009425  06/24/2022 12:15:00 AM      12       0\n",
      "2  100009425  06/24/2022 12:30:00 AM      14       0\n",
      "3  100009425  06/24/2022 12:45:00 AM       5       0\n",
      "4  100009425  06/24/2022 01:00:00 AM      10       0\n"
     ]
    }
   ],
   "source": [
    "# Define specific filepaths for the three CSV files.\n",
    "name_filepath_1 = '/Users/haticegormez/Downloads/Group_4_Team_Project/Data/EP_Data/New York/Bicycle_Counts_1.csv'\n",
    "name_filepath_2 = '/Users/haticegormez/Downloads/Group_4_Team_Project/Data/EP_Data/New York/Bicycle_Counts_2.csv'\n",
    "name_filepath_3 = '/Users/haticegormez/Downloads/Group_4_Team_Project/Data/EP_Data/New York/Bicycle_Counts_3.csv'\n",
    "\n",
    "# Read each CSV file into separate DataFrames\n",
    "ny_bicycle_counts_1 = pd.read_csv(name_filepath_1)\n",
    "ny_bicycle_counts_2 = pd.read_csv(name_filepath_2)\n",
    "ny_bicycle_counts_3 = pd.read_csv(name_filepath_3)\n",
    "\n",
    "# Concatenate the three DataFrames into one\n",
    "ny_bicycle_counts = pd.concat([ny_bicycle_counts_1, ny_bicycle_counts_2, ny_bicycle_counts_3], axis=0)\n",
    "\n",
    "# Reset the index to the default integer index\n",
    "ny_bicycle_counts = ny_bicycle_counts.reset_index(drop=True)\n",
    "\n",
    "#View the OutPut\n",
    "print(ny_bicycle_counts.head())"
   ]
  },
  {
   "cell_type": "code",
   "execution_count": 7,
   "id": "c3d8619e",
   "metadata": {},
   "outputs": [
    {
     "name": "stdout",
     "output_type": "stream",
     "text": [
      "   BoroCode   BoroName  CounDist  AssemDist  StSenDist  CongDist  STREETON  \\\n",
      "0         1  Manhattan        10         72         31        13  W 207 ST   \n",
      "1         3   Brooklyn        35         57         25         9       NaN   \n",
      "2         4     Queens        29         27         16         6    108 ST   \n",
      "3         4     Queens        29         27         16         6    108 ST   \n",
      "4         1  Manhattan         1         66         26        10       NaN   \n",
      "\n",
      "      XSTREET1      XSTREET2 SIDE  ASSETSUBTY  \n",
      "0     BROADWAY     COOPER ST    S  Small Hoop  \n",
      "1          NaN           NaN  NaN  Large Hoop  \n",
      "2        63 RD         63 DR    W  Small Hoop  \n",
      "3        63 RD         63 DR    W  Small Hoop  \n",
      "4  BLEECKER ST  W HOUSTON ST    W      U-Rack  \n"
     ]
    }
   ],
   "source": [
    "# Define specific filepath.\n",
    "name_filepath = '/Users/haticegormez/Downloads/Group_4_Team_Project/Data/EP_Data/New York/Bicycle_Parking.csv'\n",
    "\n",
    "# Read the CSV file into a DataFrame\n",
    "ny_bicycle_parking = pd.read_csv(name_filepath)\n",
    "\n",
    "#View the OutPut\n",
    "print(ny_bicycle_parking.head())"
   ]
  },
  {
   "cell_type": "code",
   "execution_count": 8,
   "id": "0007778c",
   "metadata": {},
   "outputs": [
    {
     "name": "stdout",
     "output_type": "stream",
     "text": [
      "  segmentid  boro                          street  fromstreet       tostreet  \\\n",
      "0        53     5  CONFERENCE HOUSE PARK GREENWAY  HYLAN BLVD  SWINNERTON ST   \n",
      "1        57     5  CONFERENCE HOUSE PARK GREENWAY  HYLAN BLVD  SWINNERTON ST   \n",
      "2        59     5  CONFERENCE HOUSE PARK GREENWAY  HYLAN BLVD  SWINNERTON ST   \n",
      "3        61     5  CONFERENCE HOUSE PARK GREENWAY  HYLAN BLVD  SWINNERTON ST   \n",
      "4        64     5  CONFERENCE HOUSE PARK GREENWAY  HYLAN BLVD  SWINNERTON ST   \n",
      "\n",
      "  bikedir  lanecount ft_facilit  \n",
      "0       2          2   Greenway  \n",
      "1       2          2   Greenway  \n",
      "2       2          2   Greenway  \n",
      "3       2          2   Greenway  \n",
      "4       2          2   Greenway  \n"
     ]
    }
   ],
   "source": [
    "# Define specific filepath.\n",
    "name_filepath = '/Users/haticegormez/Downloads/Group_4_Team_Project/Data/EP_Data/New York/Bicycle_Routes.csv'\n",
    "\n",
    "# Read the CSV file into a DataFrame\n",
    "ny_bicycle_routes = pd.read_csv(name_filepath)\n",
    "\n",
    "#View the OutPut\n",
    "print(ny_bicycle_routes.head())"
   ]
  },
  {
   "cell_type": "markdown",
   "id": "d2eab680",
   "metadata": {},
   "source": [
    "## 2.4) Load Sydney cycling data from given Employer Project data."
   ]
  },
  {
   "cell_type": "code",
   "execution_count": 9,
   "id": "578d3a3c",
   "metadata": {},
   "outputs": [
    {
     "name": "stdout",
     "output_type": "stream",
     "text": [
      "            X          Y  OBJECTID  SiteID  \\\n",
      "0  151.204168 -33.882846         1       1   \n",
      "1  151.208601 -33.878286         2       2   \n",
      "2  151.205783 -33.863364         3       3   \n",
      "3  151.209897 -33.873292         4       4   \n",
      "4  151.209083 -33.879797         5       5   \n",
      "\n",
      "                                        Intersection  \n",
      "0  Intersection of Broadway, Lee Street, Quay Str...  \n",
      "1  Intersection of Castlereagh Street and Goulbur...  \n",
      "2  Intersection of Grosvenor Street and Glouceste...  \n",
      "3   Intersection of Elizabeth Street and Park Street  \n",
      "4  Intersection of Elizabeth Street, Wentworth Av...  \n"
     ]
    }
   ],
   "source": [
    "# Define specific filepath.\n",
    "name_filepath = '/Users/haticegormez/Downloads/Group_4_Team_Project/Data/EP_Data/Sydney/Bicycle_count_sites.csv'\n",
    "\n",
    "# Read the CSV file into a DataFrame\n",
    "syd_bicycle_count_sites = pd.read_csv(name_filepath)\n",
    "\n",
    "#View the OutPut\n",
    "print(syd_bicycle_count_sites.head())"
   ]
  },
  {
   "cell_type": "code",
   "execution_count": 10,
   "id": "29524da1",
   "metadata": {},
   "outputs": [
    {
     "name": "stdout",
     "output_type": "stream",
     "text": [
      "   SiteID    Month  Year  TotalCount  ObjectId2  Time_0600  Time_0700  \\\n",
      "0      51    March  2010         263          1         12         45   \n",
      "1       1  October  2015         383          2         37         69   \n",
      "2      52    March  2010         136          3          7         18   \n",
      "3      53    March  2010         333          4         25         86   \n",
      "4       2  October  2015         447          5         32         75   \n",
      "\n",
      "   Time_0800  Time_1600  Time_1700  Time_1800  \n",
      "0         56         27         56         67  \n",
      "1        100         47         68         62  \n",
      "2         31         29         30         21  \n",
      "3         93         15         62         52  \n",
      "4         72         56        114         98  \n"
     ]
    }
   ],
   "source": [
    "# Define specific filepath.\n",
    "name_filepath = '/Users/haticegormez/Downloads/Group_4_Team_Project/Data/EP_Data/Sydney/Bicycle_count_surveys.csv'\n",
    "\n",
    "# Read the CSV file into a DataFrame\n",
    "syd_bicycle_count_surveys = pd.read_csv(name_filepath)\n",
    "\n",
    "#View the OutPut\n",
    "print(syd_bicycle_count_surveys.head())"
   ]
  },
  {
   "cell_type": "markdown",
   "id": "881a0045",
   "metadata": {},
   "source": [
    "# 3.0) Explore, assess and clean data."
   ]
  },
  {
   "cell_type": "markdown",
   "id": "794ebc08",
   "metadata": {},
   "source": [
    "## 3.1) Explore and assess the data"
   ]
  },
  {
   "cell_type": "code",
   "execution_count": 11,
   "id": "ff532532",
   "metadata": {},
   "outputs": [
    {
     "name": "stdout",
     "output_type": "stream",
     "text": [
      "(1048364, 17)\n",
      "Survey wave (calendar quarter)     object\n",
      "Equivalent financial quarter       object\n",
      "Site ID                            object\n",
      "Location                           object\n",
      "Survey date                        object\n",
      "Weather                            object\n",
      "Time                               object\n",
      "Period                             object\n",
      "Direction                          object\n",
      "Start hour                        float64\n",
      "Start minute                      float64\n",
      "Number of private cycles          float64\n",
      "Number of cycle hire bikes        float64\n",
      "Total cycles                      float64\n",
      "Unnamed: 14                       float64\n",
      "Unnamed: 15                       float64\n",
      "Unnamed: 16                       float64\n",
      "dtype: object\n",
      "Index(['Survey wave (calendar quarter)', 'Equivalent financial quarter',\n",
      "       'Site ID', 'Location', 'Survey date', 'Weather', 'Time', 'Period',\n",
      "       'Direction', 'Start hour', 'Start minute', 'Number of private cycles',\n",
      "       'Number of cycle hire bikes', 'Total cycles', 'Unnamed: 14',\n",
      "       'Unnamed: 15', 'Unnamed: 16'],\n",
      "      dtype='object')\n"
     ]
    }
   ],
   "source": [
    "# Explore the data set.\n",
    "\n",
    "print(central_london.shape)\n",
    "print(central_london.dtypes)\n",
    "print(central_london.columns)"
   ]
  },
  {
   "cell_type": "code",
   "execution_count": 12,
   "id": "60dccc5b",
   "metadata": {},
   "outputs": [
    {
     "data": {
      "text/html": [
       "<div>\n",
       "<style scoped>\n",
       "    .dataframe tbody tr th:only-of-type {\n",
       "        vertical-align: middle;\n",
       "    }\n",
       "\n",
       "    .dataframe tbody tr th {\n",
       "        vertical-align: top;\n",
       "    }\n",
       "\n",
       "    .dataframe thead th {\n",
       "        text-align: right;\n",
       "    }\n",
       "</style>\n",
       "<table border=\"1\" class=\"dataframe\">\n",
       "  <thead>\n",
       "    <tr style=\"text-align: right;\">\n",
       "      <th></th>\n",
       "      <th>Survey wave (calendar quarter)</th>\n",
       "      <th>Equivalent financial quarter</th>\n",
       "      <th>Site ID</th>\n",
       "      <th>Location</th>\n",
       "      <th>Survey date</th>\n",
       "      <th>Weather</th>\n",
       "      <th>Time</th>\n",
       "      <th>Period</th>\n",
       "      <th>Direction</th>\n",
       "      <th>Start hour</th>\n",
       "      <th>Start minute</th>\n",
       "      <th>Number of private cycles</th>\n",
       "      <th>Number of cycle hire bikes</th>\n",
       "      <th>Total cycles</th>\n",
       "      <th>Unnamed: 14</th>\n",
       "      <th>Unnamed: 15</th>\n",
       "      <th>Unnamed: 16</th>\n",
       "    </tr>\n",
       "  </thead>\n",
       "  <tbody>\n",
       "    <tr>\n",
       "      <th>1048359</th>\n",
       "      <td>NaN</td>\n",
       "      <td>NaN</td>\n",
       "      <td>NaN</td>\n",
       "      <td>NaN</td>\n",
       "      <td>NaN</td>\n",
       "      <td>NaN</td>\n",
       "      <td>NaN</td>\n",
       "      <td>NaN</td>\n",
       "      <td>NaN</td>\n",
       "      <td>NaN</td>\n",
       "      <td>NaN</td>\n",
       "      <td>NaN</td>\n",
       "      <td>NaN</td>\n",
       "      <td>NaN</td>\n",
       "      <td>NaN</td>\n",
       "      <td>NaN</td>\n",
       "      <td>NaN</td>\n",
       "    </tr>\n",
       "    <tr>\n",
       "      <th>1048360</th>\n",
       "      <td>NaN</td>\n",
       "      <td>NaN</td>\n",
       "      <td>NaN</td>\n",
       "      <td>NaN</td>\n",
       "      <td>NaN</td>\n",
       "      <td>NaN</td>\n",
       "      <td>NaN</td>\n",
       "      <td>NaN</td>\n",
       "      <td>NaN</td>\n",
       "      <td>NaN</td>\n",
       "      <td>NaN</td>\n",
       "      <td>NaN</td>\n",
       "      <td>NaN</td>\n",
       "      <td>NaN</td>\n",
       "      <td>NaN</td>\n",
       "      <td>NaN</td>\n",
       "      <td>NaN</td>\n",
       "    </tr>\n",
       "    <tr>\n",
       "      <th>1048361</th>\n",
       "      <td>NaN</td>\n",
       "      <td>NaN</td>\n",
       "      <td>NaN</td>\n",
       "      <td>NaN</td>\n",
       "      <td>NaN</td>\n",
       "      <td>NaN</td>\n",
       "      <td>NaN</td>\n",
       "      <td>NaN</td>\n",
       "      <td>NaN</td>\n",
       "      <td>NaN</td>\n",
       "      <td>NaN</td>\n",
       "      <td>NaN</td>\n",
       "      <td>NaN</td>\n",
       "      <td>NaN</td>\n",
       "      <td>NaN</td>\n",
       "      <td>NaN</td>\n",
       "      <td>NaN</td>\n",
       "    </tr>\n",
       "    <tr>\n",
       "      <th>1048362</th>\n",
       "      <td>NaN</td>\n",
       "      <td>NaN</td>\n",
       "      <td>NaN</td>\n",
       "      <td>NaN</td>\n",
       "      <td>NaN</td>\n",
       "      <td>NaN</td>\n",
       "      <td>NaN</td>\n",
       "      <td>NaN</td>\n",
       "      <td>NaN</td>\n",
       "      <td>NaN</td>\n",
       "      <td>NaN</td>\n",
       "      <td>NaN</td>\n",
       "      <td>NaN</td>\n",
       "      <td>NaN</td>\n",
       "      <td>NaN</td>\n",
       "      <td>NaN</td>\n",
       "      <td>NaN</td>\n",
       "    </tr>\n",
       "    <tr>\n",
       "      <th>1048363</th>\n",
       "      <td>NaN</td>\n",
       "      <td>NaN</td>\n",
       "      <td>NaN</td>\n",
       "      <td>NaN</td>\n",
       "      <td>NaN</td>\n",
       "      <td>NaN</td>\n",
       "      <td>NaN</td>\n",
       "      <td>NaN</td>\n",
       "      <td>NaN</td>\n",
       "      <td>NaN</td>\n",
       "      <td>NaN</td>\n",
       "      <td>NaN</td>\n",
       "      <td>NaN</td>\n",
       "      <td>NaN</td>\n",
       "      <td>NaN</td>\n",
       "      <td>NaN</td>\n",
       "      <td>NaN</td>\n",
       "    </tr>\n",
       "  </tbody>\n",
       "</table>\n",
       "</div>"
      ],
      "text/plain": [
       "        Survey wave (calendar quarter) Equivalent financial quarter Site ID  \\\n",
       "1048359                            NaN                          NaN     NaN   \n",
       "1048360                            NaN                          NaN     NaN   \n",
       "1048361                            NaN                          NaN     NaN   \n",
       "1048362                            NaN                          NaN     NaN   \n",
       "1048363                            NaN                          NaN     NaN   \n",
       "\n",
       "        Location Survey date Weather Time Period Direction  Start hour  \\\n",
       "1048359      NaN         NaN     NaN  NaN    NaN       NaN         NaN   \n",
       "1048360      NaN         NaN     NaN  NaN    NaN       NaN         NaN   \n",
       "1048361      NaN         NaN     NaN  NaN    NaN       NaN         NaN   \n",
       "1048362      NaN         NaN     NaN  NaN    NaN       NaN         NaN   \n",
       "1048363      NaN         NaN     NaN  NaN    NaN       NaN         NaN   \n",
       "\n",
       "         Start minute  Number of private cycles  Number of cycle hire bikes  \\\n",
       "1048359           NaN                       NaN                         NaN   \n",
       "1048360           NaN                       NaN                         NaN   \n",
       "1048361           NaN                       NaN                         NaN   \n",
       "1048362           NaN                       NaN                         NaN   \n",
       "1048363           NaN                       NaN                         NaN   \n",
       "\n",
       "         Total cycles  Unnamed: 14  Unnamed: 15  Unnamed: 16  \n",
       "1048359           NaN          NaN          NaN          NaN  \n",
       "1048360           NaN          NaN          NaN          NaN  \n",
       "1048361           NaN          NaN          NaN          NaN  \n",
       "1048362           NaN          NaN          NaN          NaN  \n",
       "1048363           NaN          NaN          NaN          NaN  "
      ]
     },
     "execution_count": 12,
     "metadata": {},
     "output_type": "execute_result"
    }
   ],
   "source": [
    "# Explore the data set with tail()\n",
    "central_london.tail()"
   ]
  },
  {
   "cell_type": "markdown",
   "id": "1be69b1e",
   "metadata": {},
   "source": [
    "# Central London as central_london df "
   ]
  },
  {
   "cell_type": "code",
   "execution_count": 13,
   "id": "02eae964",
   "metadata": {},
   "outputs": [
    {
     "name": "stdout",
     "output_type": "stream",
     "text": [
      "<class 'pandas.core.frame.DataFrame'>\n",
      "RangeIndex: 1048364 entries, 0 to 1048363\n",
      "Data columns (total 17 columns):\n",
      " #   Column                          Non-Null Count   Dtype  \n",
      "---  ------                          --------------   -----  \n",
      " 0   Survey wave (calendar quarter)  758163 non-null  object \n",
      " 1   Equivalent financial quarter    758163 non-null  object \n",
      " 2   Site ID                         758163 non-null  object \n",
      " 3   Location                        758163 non-null  object \n",
      " 4   Survey date                     748007 non-null  object \n",
      " 5   Weather                         746329 non-null  object \n",
      " 6   Time                            758163 non-null  object \n",
      " 7   Period                          758163 non-null  object \n",
      " 8   Direction                       758163 non-null  object \n",
      " 9   Start hour                      758163 non-null  float64\n",
      " 10  Start minute                    758163 non-null  float64\n",
      " 11  Number of private cycles        758099 non-null  float64\n",
      " 12  Number of cycle hire bikes      758099 non-null  float64\n",
      " 13  Total cycles                    758163 non-null  float64\n",
      " 14  Unnamed: 14                     0 non-null       float64\n",
      " 15  Unnamed: 15                     0 non-null       float64\n",
      " 16  Unnamed: 16                     0 non-null       float64\n",
      "dtypes: float64(8), object(9)\n",
      "memory usage: 136.0+ MB\n"
     ]
    }
   ],
   "source": [
    "# Viewing info for null values etc.\n",
    "central_london.info()"
   ]
  },
  {
   "cell_type": "code",
   "execution_count": 14,
   "id": "8cc9f94c",
   "metadata": {},
   "outputs": [
    {
     "data": {
      "text/plain": [
       "Survey wave (calendar quarter)     290201\n",
       "Equivalent financial quarter       290201\n",
       "Site ID                            290201\n",
       "Location                           290201\n",
       "Survey date                        300357\n",
       "Weather                            302035\n",
       "Time                               290201\n",
       "Period                             290201\n",
       "Direction                          290201\n",
       "Start hour                         290201\n",
       "Start minute                       290201\n",
       "Number of private cycles           290265\n",
       "Number of cycle hire bikes         290265\n",
       "Total cycles                       290201\n",
       "Unnamed: 14                       1048364\n",
       "Unnamed: 15                       1048364\n",
       "Unnamed: 16                       1048364\n",
       "dtype: int64"
      ]
     },
     "execution_count": 14,
     "metadata": {},
     "output_type": "execute_result"
    }
   ],
   "source": [
    "# Identify missing values\n",
    "central_london.isna().sum()"
   ]
  },
  {
   "cell_type": "code",
   "execution_count": 15,
   "id": "58906fbd",
   "metadata": {},
   "outputs": [
    {
     "data": {
      "text/html": [
       "<div>\n",
       "<style scoped>\n",
       "    .dataframe tbody tr th:only-of-type {\n",
       "        vertical-align: middle;\n",
       "    }\n",
       "\n",
       "    .dataframe tbody tr th {\n",
       "        vertical-align: top;\n",
       "    }\n",
       "\n",
       "    .dataframe thead th {\n",
       "        text-align: right;\n",
       "    }\n",
       "</style>\n",
       "<table border=\"1\" class=\"dataframe\">\n",
       "  <thead>\n",
       "    <tr style=\"text-align: right;\">\n",
       "      <th></th>\n",
       "      <th>Start hour</th>\n",
       "      <th>Start minute</th>\n",
       "      <th>Number of private cycles</th>\n",
       "      <th>Number of cycle hire bikes</th>\n",
       "      <th>Total cycles</th>\n",
       "      <th>Unnamed: 14</th>\n",
       "      <th>Unnamed: 15</th>\n",
       "      <th>Unnamed: 16</th>\n",
       "    </tr>\n",
       "  </thead>\n",
       "  <tbody>\n",
       "    <tr>\n",
       "      <th>count</th>\n",
       "      <td>758163.0</td>\n",
       "      <td>758163.0</td>\n",
       "      <td>758099.0</td>\n",
       "      <td>758099.0</td>\n",
       "      <td>758163.0</td>\n",
       "      <td>0.0</td>\n",
       "      <td>0.0</td>\n",
       "      <td>0.0</td>\n",
       "    </tr>\n",
       "    <tr>\n",
       "      <th>mean</th>\n",
       "      <td>13.0</td>\n",
       "      <td>22.0</td>\n",
       "      <td>15.0</td>\n",
       "      <td>2.0</td>\n",
       "      <td>17.0</td>\n",
       "      <td>NaN</td>\n",
       "      <td>NaN</td>\n",
       "      <td>NaN</td>\n",
       "    </tr>\n",
       "    <tr>\n",
       "      <th>std</th>\n",
       "      <td>5.0</td>\n",
       "      <td>17.0</td>\n",
       "      <td>26.0</td>\n",
       "      <td>3.0</td>\n",
       "      <td>29.0</td>\n",
       "      <td>NaN</td>\n",
       "      <td>NaN</td>\n",
       "      <td>NaN</td>\n",
       "    </tr>\n",
       "    <tr>\n",
       "      <th>min</th>\n",
       "      <td>6.0</td>\n",
       "      <td>0.0</td>\n",
       "      <td>0.0</td>\n",
       "      <td>0.0</td>\n",
       "      <td>0.0</td>\n",
       "      <td>NaN</td>\n",
       "      <td>NaN</td>\n",
       "      <td>NaN</td>\n",
       "    </tr>\n",
       "    <tr>\n",
       "      <th>25%</th>\n",
       "      <td>9.0</td>\n",
       "      <td>0.0</td>\n",
       "      <td>2.0</td>\n",
       "      <td>0.0</td>\n",
       "      <td>3.0</td>\n",
       "      <td>NaN</td>\n",
       "      <td>NaN</td>\n",
       "      <td>NaN</td>\n",
       "    </tr>\n",
       "    <tr>\n",
       "      <th>50%</th>\n",
       "      <td>13.0</td>\n",
       "      <td>15.0</td>\n",
       "      <td>7.0</td>\n",
       "      <td>1.0</td>\n",
       "      <td>8.0</td>\n",
       "      <td>NaN</td>\n",
       "      <td>NaN</td>\n",
       "      <td>NaN</td>\n",
       "    </tr>\n",
       "    <tr>\n",
       "      <th>75%</th>\n",
       "      <td>17.0</td>\n",
       "      <td>30.0</td>\n",
       "      <td>16.0</td>\n",
       "      <td>2.0</td>\n",
       "      <td>18.0</td>\n",
       "      <td>NaN</td>\n",
       "      <td>NaN</td>\n",
       "      <td>NaN</td>\n",
       "    </tr>\n",
       "    <tr>\n",
       "      <th>max</th>\n",
       "      <td>21.0</td>\n",
       "      <td>45.0</td>\n",
       "      <td>1177.0</td>\n",
       "      <td>108.0</td>\n",
       "      <td>1200.0</td>\n",
       "      <td>NaN</td>\n",
       "      <td>NaN</td>\n",
       "      <td>NaN</td>\n",
       "    </tr>\n",
       "  </tbody>\n",
       "</table>\n",
       "</div>"
      ],
      "text/plain": [
       "       Start hour  Start minute  Number of private cycles  \\\n",
       "count    758163.0      758163.0                  758099.0   \n",
       "mean         13.0          22.0                      15.0   \n",
       "std           5.0          17.0                      26.0   \n",
       "min           6.0           0.0                       0.0   \n",
       "25%           9.0           0.0                       2.0   \n",
       "50%          13.0          15.0                       7.0   \n",
       "75%          17.0          30.0                      16.0   \n",
       "max          21.0          45.0                    1177.0   \n",
       "\n",
       "       Number of cycle hire bikes  Total cycles  Unnamed: 14  Unnamed: 15  \\\n",
       "count                    758099.0      758163.0          0.0          0.0   \n",
       "mean                          2.0          17.0          NaN          NaN   \n",
       "std                           3.0          29.0          NaN          NaN   \n",
       "min                           0.0           0.0          NaN          NaN   \n",
       "25%                           0.0           3.0          NaN          NaN   \n",
       "50%                           1.0           8.0          NaN          NaN   \n",
       "75%                           2.0          18.0          NaN          NaN   \n",
       "max                         108.0        1200.0          NaN          NaN   \n",
       "\n",
       "       Unnamed: 16  \n",
       "count          0.0  \n",
       "mean           NaN  \n",
       "std            NaN  \n",
       "min            NaN  \n",
       "25%            NaN  \n",
       "50%            NaN  \n",
       "75%            NaN  \n",
       "max            NaN  "
      ]
     },
     "execution_count": 15,
     "metadata": {},
     "output_type": "execute_result"
    }
   ],
   "source": [
    "# View descriptive statistics\n",
    "central_london.describe().round()"
   ]
  },
  {
   "cell_type": "code",
   "execution_count": 16,
   "id": "0ccccd4f",
   "metadata": {},
   "outputs": [
    {
     "name": "stdout",
     "output_type": "stream",
     "text": [
      "<class 'pandas.core.frame.DataFrame'>\n",
      "RangeIndex: 1048364 entries, 0 to 1048363\n",
      "Data columns (total 14 columns):\n",
      " #   Column                          Non-Null Count   Dtype  \n",
      "---  ------                          --------------   -----  \n",
      " 0   Survey wave (calendar quarter)  758163 non-null  object \n",
      " 1   Equivalent financial quarter    758163 non-null  object \n",
      " 2   Site ID                         758163 non-null  object \n",
      " 3   Location                        758163 non-null  object \n",
      " 4   Survey date                     748007 non-null  object \n",
      " 5   Weather                         746329 non-null  object \n",
      " 6   Time                            758163 non-null  object \n",
      " 7   Period                          758163 non-null  object \n",
      " 8   Direction                       758163 non-null  object \n",
      " 9   Start hour                      758163 non-null  float64\n",
      " 10  Start minute                    758163 non-null  float64\n",
      " 11  Number of private cycles        758099 non-null  float64\n",
      " 12  Number of cycle hire bikes      758099 non-null  float64\n",
      " 13  Total cycles                    758163 non-null  float64\n",
      "dtypes: float64(5), object(9)\n",
      "memory usage: 112.0+ MB\n"
     ]
    }
   ],
   "source": [
    "# Delete irrelevant/unnamed columns\n",
    "central_london_clean = central_london.drop(['Unnamed: 14','Unnamed: 15', 'Unnamed: 16'], axis = 1)\n",
    "central_london_clean.info()"
   ]
  },
  {
   "cell_type": "code",
   "execution_count": 17,
   "id": "e4fe3f7d",
   "metadata": {},
   "outputs": [
    {
     "data": {
      "text/plain": [
       "290200"
      ]
     },
     "execution_count": 17,
     "metadata": {},
     "output_type": "execute_result"
    }
   ],
   "source": [
    "#Determine Duplicated values\n",
    "count_duplicates_cl = central_london_clean.duplicated().sum()\n",
    "count_duplicates_cl"
   ]
  },
  {
   "cell_type": "code",
   "execution_count": 18,
   "id": "9428d48e",
   "metadata": {},
   "outputs": [
    {
     "data": {
      "text/plain": [
       "Survey wave (calendar quarter)        0\n",
       "Equivalent financial quarter          0\n",
       "Site ID                               0\n",
       "Location                              0\n",
       "Survey date                       10156\n",
       "Weather                           11834\n",
       "Time                                  0\n",
       "Period                                0\n",
       "Direction                             0\n",
       "Start hour                            0\n",
       "Start minute                          0\n",
       "Number of private cycles             64\n",
       "Number of cycle hire bikes           64\n",
       "Total cycles                          0\n",
       "dtype: int64"
      ]
     },
     "execution_count": 18,
     "metadata": {},
     "output_type": "execute_result"
    }
   ],
   "source": [
    "## Determine missing values & dropping NaN values using dropna 'how' method.\n",
    "central_london_clean = central_london_clean.dropna(how='all')\n",
    "# Identify missing values left\n",
    "central_london_clean.isna().sum()"
   ]
  },
  {
   "cell_type": "code",
   "execution_count": 19,
   "id": "af81f464",
   "metadata": {},
   "outputs": [
    {
     "data": {
      "text/plain": [
       "Survey wave (calendar quarter)    0\n",
       "Equivalent financial quarter      0\n",
       "Site ID                           0\n",
       "Location                          0\n",
       "Survey date                       0\n",
       "Weather                           0\n",
       "Time                              0\n",
       "Period                            0\n",
       "Direction                         0\n",
       "Start hour                        0\n",
       "Start minute                      0\n",
       "Number of private cycles          0\n",
       "Number of cycle hire bikes        0\n",
       "Total cycles                      0\n",
       "dtype: int64"
      ]
     },
     "execution_count": 19,
     "metadata": {},
     "output_type": "execute_result"
    }
   ],
   "source": [
    "#Survey date,Weather,Number of private cycles,Number of cycle hire bikes has left..\n",
    "#using subset function to remove the rows where these colmuns contains missing values\n",
    "central_london_clean = central_london_clean.dropna(subset = ['Survey date','Weather','Number of private cycles','Number of cycle hire bikes'])\n",
    "# Identify missing values after subsets\n",
    "central_london_clean.isna().sum()"
   ]
  },
  {
   "cell_type": "code",
   "execution_count": 20,
   "id": "21748493",
   "metadata": {},
   "outputs": [
    {
     "name": "stdout",
     "output_type": "stream",
     "text": [
      "<class 'pandas.core.frame.DataFrame'>\n",
      "Index: 743317 entries, 0 to 758162\n",
      "Data columns (total 14 columns):\n",
      " #   Column                          Non-Null Count   Dtype  \n",
      "---  ------                          --------------   -----  \n",
      " 0   Survey wave (calendar quarter)  743317 non-null  object \n",
      " 1   Equivalent financial quarter    743317 non-null  object \n",
      " 2   Site ID                         743317 non-null  object \n",
      " 3   Location                        743317 non-null  object \n",
      " 4   Survey date                     743317 non-null  object \n",
      " 5   Weather                         743317 non-null  object \n",
      " 6   Time                            743317 non-null  object \n",
      " 7   Period                          743317 non-null  object \n",
      " 8   Direction                       743317 non-null  object \n",
      " 9   Start hour                      743317 non-null  float64\n",
      " 10  Start minute                    743317 non-null  float64\n",
      " 11  Number of private cycles        743317 non-null  float64\n",
      " 12  Number of cycle hire bikes      743317 non-null  float64\n",
      " 13  Total cycles                    743317 non-null  float64\n",
      "dtypes: float64(5), object(9)\n",
      "memory usage: 85.1+ MB\n",
      "Number of duplicates:  0\n"
     ]
    }
   ],
   "source": [
    "#central_london_clean df is ready to use.\n",
    "central_london_clean.info()\n",
    "count_duplicates_cl = central_london_clean.duplicated().sum()\n",
    "print('Number of duplicates: ',count_duplicates_cl)"
   ]
  },
  {
   "cell_type": "code",
   "execution_count": 21,
   "id": "3cb3f664",
   "metadata": {},
   "outputs": [
    {
     "data": {
      "text/html": [
       "<div>\n",
       "<style scoped>\n",
       "    .dataframe tbody tr th:only-of-type {\n",
       "        vertical-align: middle;\n",
       "    }\n",
       "\n",
       "    .dataframe tbody tr th {\n",
       "        vertical-align: top;\n",
       "    }\n",
       "\n",
       "    .dataframe thead th {\n",
       "        text-align: right;\n",
       "    }\n",
       "</style>\n",
       "<table border=\"1\" class=\"dataframe\">\n",
       "  <thead>\n",
       "    <tr style=\"text-align: right;\">\n",
       "      <th></th>\n",
       "      <th>Start hour</th>\n",
       "      <th>Start minute</th>\n",
       "      <th>Number of private cycles</th>\n",
       "      <th>Number of cycle hire bikes</th>\n",
       "      <th>Total cycles</th>\n",
       "    </tr>\n",
       "  </thead>\n",
       "  <tbody>\n",
       "    <tr>\n",
       "      <th>count</th>\n",
       "      <td>743317.0</td>\n",
       "      <td>743317.0</td>\n",
       "      <td>743317.0</td>\n",
       "      <td>743317.0</td>\n",
       "      <td>743317.0</td>\n",
       "    </tr>\n",
       "    <tr>\n",
       "      <th>mean</th>\n",
       "      <td>14.0</td>\n",
       "      <td>23.0</td>\n",
       "      <td>15.0</td>\n",
       "      <td>2.0</td>\n",
       "      <td>17.0</td>\n",
       "    </tr>\n",
       "    <tr>\n",
       "      <th>std</th>\n",
       "      <td>5.0</td>\n",
       "      <td>17.0</td>\n",
       "      <td>26.0</td>\n",
       "      <td>3.0</td>\n",
       "      <td>29.0</td>\n",
       "    </tr>\n",
       "    <tr>\n",
       "      <th>min</th>\n",
       "      <td>6.0</td>\n",
       "      <td>0.0</td>\n",
       "      <td>0.0</td>\n",
       "      <td>0.0</td>\n",
       "      <td>0.0</td>\n",
       "    </tr>\n",
       "    <tr>\n",
       "      <th>25%</th>\n",
       "      <td>10.0</td>\n",
       "      <td>15.0</td>\n",
       "      <td>2.0</td>\n",
       "      <td>0.0</td>\n",
       "      <td>3.0</td>\n",
       "    </tr>\n",
       "    <tr>\n",
       "      <th>50%</th>\n",
       "      <td>14.0</td>\n",
       "      <td>30.0</td>\n",
       "      <td>7.0</td>\n",
       "      <td>1.0</td>\n",
       "      <td>8.0</td>\n",
       "    </tr>\n",
       "    <tr>\n",
       "      <th>75%</th>\n",
       "      <td>18.0</td>\n",
       "      <td>45.0</td>\n",
       "      <td>16.0</td>\n",
       "      <td>2.0</td>\n",
       "      <td>18.0</td>\n",
       "    </tr>\n",
       "    <tr>\n",
       "      <th>max</th>\n",
       "      <td>21.0</td>\n",
       "      <td>45.0</td>\n",
       "      <td>1177.0</td>\n",
       "      <td>108.0</td>\n",
       "      <td>1200.0</td>\n",
       "    </tr>\n",
       "  </tbody>\n",
       "</table>\n",
       "</div>"
      ],
      "text/plain": [
       "       Start hour  Start minute  Number of private cycles  \\\n",
       "count    743317.0      743317.0                  743317.0   \n",
       "mean         14.0          23.0                      15.0   \n",
       "std           5.0          17.0                      26.0   \n",
       "min           6.0           0.0                       0.0   \n",
       "25%          10.0          15.0                       2.0   \n",
       "50%          14.0          30.0                       7.0   \n",
       "75%          18.0          45.0                      16.0   \n",
       "max          21.0          45.0                    1177.0   \n",
       "\n",
       "       Number of cycle hire bikes  Total cycles  \n",
       "count                    743317.0      743317.0  \n",
       "mean                          2.0          17.0  \n",
       "std                           3.0          29.0  \n",
       "min                           0.0           0.0  \n",
       "25%                           0.0           3.0  \n",
       "50%                           1.0           8.0  \n",
       "75%                           2.0          18.0  \n",
       "max                         108.0        1200.0  "
      ]
     },
     "execution_count": 21,
     "metadata": {},
     "output_type": "execute_result"
    }
   ],
   "source": [
    "# View final descriptive statistics\n",
    "central_london_clean.describe().round()"
   ]
  },
  {
   "cell_type": "code",
   "execution_count": 102,
   "id": "0ac2ab3e",
   "metadata": {},
   "outputs": [
    {
     "name": "stdout",
     "output_type": "stream",
     "text": [
      "<class 'pandas.core.frame.DataFrame'>\n",
      "Index: 743317 entries, 0 to 758162\n",
      "Data columns (total 14 columns):\n",
      " #   Column                          Non-Null Count   Dtype         \n",
      "---  ------                          --------------   -----         \n",
      " 0   Survey wave (calendar quarter)  743317 non-null  object        \n",
      " 1   Equivalent financial quarter    743317 non-null  object        \n",
      " 2   Site ID                         743317 non-null  object        \n",
      " 3   Location                        743317 non-null  object        \n",
      " 4   Survey date                     743061 non-null  datetime64[ns]\n",
      " 5   Weather                         743317 non-null  object        \n",
      " 6   Time                            743317 non-null  object        \n",
      " 7   Period                          743317 non-null  object        \n",
      " 8   Direction                       743317 non-null  object        \n",
      " 9   Start hour                      743317 non-null  float64       \n",
      " 10  Start minute                    743317 non-null  float64       \n",
      " 11  Number of private cycles        743317 non-null  float64       \n",
      " 12  Number of cycle hire bikes      743317 non-null  float64       \n",
      " 13  Total cycles                    743317 non-null  float64       \n",
      "dtypes: datetime64[ns](1), float64(5), object(8)\n",
      "memory usage: 85.1+ MB\n"
     ]
    }
   ],
   "source": [
    "# Convert 'Survey date' to datetime\n",
    "central_london_clean['Survey date'] = pd.to_datetime(central_london_clean['Survey date'].str[5:], format='%d/%m/%y')\n",
    "\n",
    "central_london_clean.info()"
   ]
  },
  {
   "cell_type": "code",
   "execution_count": 103,
   "id": "c4e2e8cb",
   "metadata": {},
   "outputs": [
    {
     "name": "stdout",
     "output_type": "stream",
     "text": [
      "Index(['Survey wave (calendar quarter)', 'Equivalent financial quarter',\n",
      "       'Site ID', 'Location', 'Survey date', 'Weather', 'Time', 'Period',\n",
      "       'Direction', 'Start hour', 'Start minute', 'Number of private cycles',\n",
      "       'Number of cycle hire bikes', 'Total cycles'],\n",
      "      dtype='object')\n"
     ]
    }
   ],
   "source": [
    "# View the Column Names\n",
    "column_names = central_london_clean.columns\n",
    "print(column_names)"
   ]
  },
  {
   "cell_type": "code",
   "execution_count": 104,
   "id": "531a8cbe",
   "metadata": {},
   "outputs": [],
   "source": [
    "import os\n",
    "\n",
    "# Define the directory where you want to save the CSV file\n",
    "output_directory = '/Users/haticegormez/Downloads/Group_4_Team_Project/Data/EP_Data/London/'\n",
    "\n",
    "# Specify the full file path, including the directory and filename\n",
    "csv_file_path = os.path.join(output_directory, 'central_london_clean.csv')\n",
    "\n",
    "# Export the DataFrame to the specified file path\n",
    "central_london_clean.to_csv(csv_file_path, index=False)"
   ]
  },
  {
   "cell_type": "markdown",
   "id": "1474a2e2",
   "metadata": {},
   "source": [
    "# Inner London as inner_london"
   ]
  },
  {
   "cell_type": "code",
   "execution_count": 24,
   "id": "552c192b",
   "metadata": {},
   "outputs": [
    {
     "data": {
      "text/html": [
       "<div>\n",
       "<style scoped>\n",
       "    .dataframe tbody tr th:only-of-type {\n",
       "        vertical-align: middle;\n",
       "    }\n",
       "\n",
       "    .dataframe tbody tr th {\n",
       "        vertical-align: top;\n",
       "    }\n",
       "\n",
       "    .dataframe thead th {\n",
       "        text-align: right;\n",
       "    }\n",
       "</style>\n",
       "<table border=\"1\" class=\"dataframe\">\n",
       "  <thead>\n",
       "    <tr style=\"text-align: right;\">\n",
       "      <th></th>\n",
       "      <th>Survey wave (year)</th>\n",
       "      <th>Site ID</th>\n",
       "      <th>Location</th>\n",
       "      <th>Survey date</th>\n",
       "      <th>Weather</th>\n",
       "      <th>Time</th>\n",
       "      <th>Period</th>\n",
       "      <th>Direction</th>\n",
       "      <th>Start hour</th>\n",
       "      <th>Start minute</th>\n",
       "      <th>Number of private cycles</th>\n",
       "      <th>Number of cycle hire bikes</th>\n",
       "      <th>Total cycles</th>\n",
       "    </tr>\n",
       "  </thead>\n",
       "  <tbody>\n",
       "    <tr>\n",
       "      <th>615163</th>\n",
       "      <td>NaN</td>\n",
       "      <td>NaN</td>\n",
       "      <td>NaN</td>\n",
       "      <td>NaN</td>\n",
       "      <td>NaN</td>\n",
       "      <td>NaN</td>\n",
       "      <td>NaN</td>\n",
       "      <td>NaN</td>\n",
       "      <td>NaN</td>\n",
       "      <td>NaN</td>\n",
       "      <td>NaN</td>\n",
       "      <td>NaN</td>\n",
       "      <td>NaN</td>\n",
       "    </tr>\n",
       "    <tr>\n",
       "      <th>615164</th>\n",
       "      <td>NaN</td>\n",
       "      <td>NaN</td>\n",
       "      <td>NaN</td>\n",
       "      <td>NaN</td>\n",
       "      <td>NaN</td>\n",
       "      <td>NaN</td>\n",
       "      <td>NaN</td>\n",
       "      <td>NaN</td>\n",
       "      <td>NaN</td>\n",
       "      <td>NaN</td>\n",
       "      <td>NaN</td>\n",
       "      <td>NaN</td>\n",
       "      <td>NaN</td>\n",
       "    </tr>\n",
       "    <tr>\n",
       "      <th>615165</th>\n",
       "      <td>NaN</td>\n",
       "      <td>NaN</td>\n",
       "      <td>NaN</td>\n",
       "      <td>NaN</td>\n",
       "      <td>NaN</td>\n",
       "      <td>NaN</td>\n",
       "      <td>NaN</td>\n",
       "      <td>NaN</td>\n",
       "      <td>NaN</td>\n",
       "      <td>NaN</td>\n",
       "      <td>NaN</td>\n",
       "      <td>NaN</td>\n",
       "      <td>NaN</td>\n",
       "    </tr>\n",
       "    <tr>\n",
       "      <th>615166</th>\n",
       "      <td>NaN</td>\n",
       "      <td>NaN</td>\n",
       "      <td>NaN</td>\n",
       "      <td>NaN</td>\n",
       "      <td>NaN</td>\n",
       "      <td>NaN</td>\n",
       "      <td>NaN</td>\n",
       "      <td>NaN</td>\n",
       "      <td>NaN</td>\n",
       "      <td>NaN</td>\n",
       "      <td>NaN</td>\n",
       "      <td>NaN</td>\n",
       "      <td>NaN</td>\n",
       "    </tr>\n",
       "    <tr>\n",
       "      <th>615167</th>\n",
       "      <td>NaN</td>\n",
       "      <td>NaN</td>\n",
       "      <td>NaN</td>\n",
       "      <td>NaN</td>\n",
       "      <td>NaN</td>\n",
       "      <td>NaN</td>\n",
       "      <td>NaN</td>\n",
       "      <td>NaN</td>\n",
       "      <td>NaN</td>\n",
       "      <td>NaN</td>\n",
       "      <td>NaN</td>\n",
       "      <td>NaN</td>\n",
       "      <td>NaN</td>\n",
       "    </tr>\n",
       "  </tbody>\n",
       "</table>\n",
       "</div>"
      ],
      "text/plain": [
       "        Survey wave (year) Site ID Location Survey date Weather Time Period  \\\n",
       "615163                 NaN     NaN      NaN         NaN     NaN  NaN    NaN   \n",
       "615164                 NaN     NaN      NaN         NaN     NaN  NaN    NaN   \n",
       "615165                 NaN     NaN      NaN         NaN     NaN  NaN    NaN   \n",
       "615166                 NaN     NaN      NaN         NaN     NaN  NaN    NaN   \n",
       "615167                 NaN     NaN      NaN         NaN     NaN  NaN    NaN   \n",
       "\n",
       "       Direction  Start hour  Start minute  Number of private cycles  \\\n",
       "615163       NaN         NaN           NaN                       NaN   \n",
       "615164       NaN         NaN           NaN                       NaN   \n",
       "615165       NaN         NaN           NaN                       NaN   \n",
       "615166       NaN         NaN           NaN                       NaN   \n",
       "615167       NaN         NaN           NaN                       NaN   \n",
       "\n",
       "        Number of cycle hire bikes  Total cycles  \n",
       "615163                         NaN           NaN  \n",
       "615164                         NaN           NaN  \n",
       "615165                         NaN           NaN  \n",
       "615166                         NaN           NaN  \n",
       "615167                         NaN           NaN  "
      ]
     },
     "execution_count": 24,
     "metadata": {},
     "output_type": "execute_result"
    }
   ],
   "source": [
    "# Explore the data set.\n",
    "inner_london.tail()"
   ]
  },
  {
   "cell_type": "code",
   "execution_count": 25,
   "id": "dc915acf",
   "metadata": {},
   "outputs": [
    {
     "name": "stdout",
     "output_type": "stream",
     "text": [
      "<class 'pandas.core.frame.DataFrame'>\n",
      "RangeIndex: 615168 entries, 0 to 615167\n",
      "Data columns (total 13 columns):\n",
      " #   Column                      Non-Null Count   Dtype  \n",
      "---  ------                      --------------   -----  \n",
      " 0   Survey wave (year)          523776 non-null  float64\n",
      " 1   Site ID                     523776 non-null  object \n",
      " 2   Location                    523776 non-null  object \n",
      " 3   Survey date                 521024 non-null  object \n",
      " 4   Weather                     519102 non-null  object \n",
      " 5   Time                        523770 non-null  object \n",
      " 6   Period                      523770 non-null  object \n",
      " 7   Direction                   523776 non-null  object \n",
      " 8   Start hour                  523770 non-null  float64\n",
      " 9   Start minute                523770 non-null  float64\n",
      " 10  Number of private cycles    523776 non-null  float64\n",
      " 11  Number of cycle hire bikes  523776 non-null  float64\n",
      " 12  Total cycles                523776 non-null  float64\n",
      "dtypes: float64(6), object(7)\n",
      "memory usage: 61.0+ MB\n"
     ]
    },
    {
     "data": {
      "text/plain": [
       "Index(['Survey wave (year)', 'Site ID', 'Location', 'Survey date', 'Weather',\n",
       "       'Time', 'Period', 'Direction', 'Start hour', 'Start minute',\n",
       "       'Number of private cycles', 'Number of cycle hire bikes',\n",
       "       'Total cycles'],\n",
       "      dtype='object')"
      ]
     },
     "execution_count": 25,
     "metadata": {},
     "output_type": "execute_result"
    }
   ],
   "source": [
    "## View data types\n",
    "inner_london.info()\n",
    "inner_london.columns"
   ]
  },
  {
   "cell_type": "code",
   "execution_count": 26,
   "id": "f703af5c",
   "metadata": {},
   "outputs": [
    {
     "data": {
      "text/html": [
       "<div>\n",
       "<style scoped>\n",
       "    .dataframe tbody tr th:only-of-type {\n",
       "        vertical-align: middle;\n",
       "    }\n",
       "\n",
       "    .dataframe tbody tr th {\n",
       "        vertical-align: top;\n",
       "    }\n",
       "\n",
       "    .dataframe thead th {\n",
       "        text-align: right;\n",
       "    }\n",
       "</style>\n",
       "<table border=\"1\" class=\"dataframe\">\n",
       "  <thead>\n",
       "    <tr style=\"text-align: right;\">\n",
       "      <th></th>\n",
       "      <th>Survey wave (year)</th>\n",
       "      <th>Start hour</th>\n",
       "      <th>Start minute</th>\n",
       "      <th>Number of private cycles</th>\n",
       "      <th>Number of cycle hire bikes</th>\n",
       "      <th>Total cycles</th>\n",
       "    </tr>\n",
       "  </thead>\n",
       "  <tbody>\n",
       "    <tr>\n",
       "      <th>count</th>\n",
       "      <td>523776.0</td>\n",
       "      <td>523770.0</td>\n",
       "      <td>523770.0</td>\n",
       "      <td>523776.0</td>\n",
       "      <td>523776.0</td>\n",
       "      <td>523776.0</td>\n",
       "    </tr>\n",
       "    <tr>\n",
       "      <th>mean</th>\n",
       "      <td>2018.0</td>\n",
       "      <td>13.0</td>\n",
       "      <td>22.0</td>\n",
       "      <td>6.0</td>\n",
       "      <td>0.0</td>\n",
       "      <td>6.0</td>\n",
       "    </tr>\n",
       "    <tr>\n",
       "      <th>std</th>\n",
       "      <td>2.0</td>\n",
       "      <td>5.0</td>\n",
       "      <td>17.0</td>\n",
       "      <td>11.0</td>\n",
       "      <td>1.0</td>\n",
       "      <td>11.0</td>\n",
       "    </tr>\n",
       "    <tr>\n",
       "      <th>min</th>\n",
       "      <td>2015.0</td>\n",
       "      <td>6.0</td>\n",
       "      <td>0.0</td>\n",
       "      <td>0.0</td>\n",
       "      <td>0.0</td>\n",
       "      <td>0.0</td>\n",
       "    </tr>\n",
       "    <tr>\n",
       "      <th>25%</th>\n",
       "      <td>2016.0</td>\n",
       "      <td>9.0</td>\n",
       "      <td>0.0</td>\n",
       "      <td>1.0</td>\n",
       "      <td>0.0</td>\n",
       "      <td>1.0</td>\n",
       "    </tr>\n",
       "    <tr>\n",
       "      <th>50%</th>\n",
       "      <td>2018.0</td>\n",
       "      <td>13.0</td>\n",
       "      <td>15.0</td>\n",
       "      <td>3.0</td>\n",
       "      <td>0.0</td>\n",
       "      <td>3.0</td>\n",
       "    </tr>\n",
       "    <tr>\n",
       "      <th>75%</th>\n",
       "      <td>2020.0</td>\n",
       "      <td>17.0</td>\n",
       "      <td>30.0</td>\n",
       "      <td>7.0</td>\n",
       "      <td>0.0</td>\n",
       "      <td>7.0</td>\n",
       "    </tr>\n",
       "    <tr>\n",
       "      <th>max</th>\n",
       "      <td>2021.0</td>\n",
       "      <td>21.0</td>\n",
       "      <td>45.0</td>\n",
       "      <td>278.0</td>\n",
       "      <td>29.0</td>\n",
       "      <td>280.0</td>\n",
       "    </tr>\n",
       "  </tbody>\n",
       "</table>\n",
       "</div>"
      ],
      "text/plain": [
       "       Survey wave (year)  Start hour  Start minute  Number of private cycles  \\\n",
       "count            523776.0    523770.0      523770.0                  523776.0   \n",
       "mean               2018.0        13.0          22.0                       6.0   \n",
       "std                   2.0         5.0          17.0                      11.0   \n",
       "min                2015.0         6.0           0.0                       0.0   \n",
       "25%                2016.0         9.0           0.0                       1.0   \n",
       "50%                2018.0        13.0          15.0                       3.0   \n",
       "75%                2020.0        17.0          30.0                       7.0   \n",
       "max                2021.0        21.0          45.0                     278.0   \n",
       "\n",
       "       Number of cycle hire bikes  Total cycles  \n",
       "count                    523776.0      523776.0  \n",
       "mean                          0.0           6.0  \n",
       "std                           1.0          11.0  \n",
       "min                           0.0           0.0  \n",
       "25%                           0.0           1.0  \n",
       "50%                           0.0           3.0  \n",
       "75%                           0.0           7.0  \n",
       "max                          29.0         280.0  "
      ]
     },
     "execution_count": 26,
     "metadata": {},
     "output_type": "execute_result"
    }
   ],
   "source": [
    "# View descriptive statistics\n",
    "inner_london.describe().round()"
   ]
  },
  {
   "cell_type": "code",
   "execution_count": 27,
   "id": "7d7f2146",
   "metadata": {},
   "outputs": [
    {
     "data": {
      "text/plain": [
       "Survey wave (year)            91392\n",
       "Site ID                       91392\n",
       "Location                      91392\n",
       "Survey date                   94144\n",
       "Weather                       96066\n",
       "Time                          91398\n",
       "Period                        91398\n",
       "Direction                     91392\n",
       "Start hour                    91398\n",
       "Start minute                  91398\n",
       "Number of private cycles      91392\n",
       "Number of cycle hire bikes    91392\n",
       "Total cycles                  91392\n",
       "dtype: int64"
      ]
     },
     "execution_count": 27,
     "metadata": {},
     "output_type": "execute_result"
    }
   ],
   "source": [
    "# Identify missing values\n",
    "inner_london.isna().sum()"
   ]
  },
  {
   "cell_type": "code",
   "execution_count": 28,
   "id": "7b6347ef",
   "metadata": {},
   "outputs": [
    {
     "data": {
      "text/plain": [
       "106460"
      ]
     },
     "execution_count": 28,
     "metadata": {},
     "output_type": "execute_result"
    }
   ],
   "source": [
    "#Determine Duplicated values\n",
    "count_duplicates_IL = inner_london.duplicated().sum()\n",
    "count_duplicates_IL"
   ]
  },
  {
   "cell_type": "code",
   "execution_count": 29,
   "id": "1f70bd5e",
   "metadata": {},
   "outputs": [
    {
     "data": {
      "text/plain": [
       "Survey wave (year)               0\n",
       "Site ID                          0\n",
       "Location                         0\n",
       "Survey date                   2752\n",
       "Weather                       4674\n",
       "Time                             6\n",
       "Period                           6\n",
       "Direction                        0\n",
       "Start hour                       6\n",
       "Start minute                     6\n",
       "Number of private cycles         0\n",
       "Number of cycle hire bikes       0\n",
       "Total cycles                     0\n",
       "dtype: int64"
      ]
     },
     "execution_count": 29,
     "metadata": {},
     "output_type": "execute_result"
    }
   ],
   "source": [
    "#dropping NaN values using dropna how method first...\n",
    "inner_london_clean = inner_london.dropna(how='all')\n",
    "inner_london_clean.isna().sum()"
   ]
  },
  {
   "cell_type": "code",
   "execution_count": 30,
   "id": "595cc97f",
   "metadata": {},
   "outputs": [
    {
     "data": {
      "text/plain": [
       "Survey wave (year)            0\n",
       "Site ID                       0\n",
       "Location                      0\n",
       "Survey date                   0\n",
       "Weather                       0\n",
       "Time                          0\n",
       "Period                        0\n",
       "Direction                     0\n",
       "Start hour                    0\n",
       "Start minute                  0\n",
       "Number of private cycles      0\n",
       "Number of cycle hire bikes    0\n",
       "Total cycles                  0\n",
       "dtype: int64"
      ]
     },
     "execution_count": 30,
     "metadata": {},
     "output_type": "execute_result"
    }
   ],
   "source": [
    "#Weather and Survey date is still has Nan values:\n",
    "inner_london_clean = inner_london_clean.dropna(subset = ['Survey date','Weather','Start hour','Start minute'])\n",
    "inner_london_clean.isna().sum()"
   ]
  },
  {
   "cell_type": "code",
   "execution_count": 31,
   "id": "ad6a2bae",
   "metadata": {},
   "outputs": [
    {
     "data": {
      "text/plain": [
       "106460"
      ]
     },
     "execution_count": 31,
     "metadata": {},
     "output_type": "execute_result"
    }
   ],
   "source": [
    "# Final check for missing values\n",
    "inner_london_clean.isna().sum()\n",
    "count_duplicates_IL = inner_london.duplicated().sum()\n",
    "count_duplicates_IL"
   ]
  },
  {
   "cell_type": "code",
   "execution_count": 32,
   "id": "b8be0dcf",
   "metadata": {},
   "outputs": [],
   "source": [
    "#Create an additional df for the choice of the group which was duplicates removed b/o the size of duplicates\n",
    "inner_london_clean_no_duplicates = inner_london_clean.drop_duplicates()"
   ]
  },
  {
   "cell_type": "code",
   "execution_count": 33,
   "id": "47da8c66",
   "metadata": {},
   "outputs": [
    {
     "data": {
      "text/plain": [
       "0"
      ]
     },
     "execution_count": 33,
     "metadata": {},
     "output_type": "execute_result"
    }
   ],
   "source": [
    "#Duplicate checking\n",
    "count_duplicates_IL = inner_london_clean_no_duplicates.duplicated().sum()\n",
    "count_duplicates_IL\n"
   ]
  },
  {
   "cell_type": "code",
   "execution_count": 34,
   "id": "695edc8f",
   "metadata": {
    "scrolled": true
   },
   "outputs": [
    {
     "data": {
      "text/plain": [
       "0"
      ]
     },
     "execution_count": 34,
     "metadata": {},
     "output_type": "execute_result"
    }
   ],
   "source": [
    "#Create an addional df for choice of group which was duplicates removed.\n",
    "inner_london_clean_no_duplicates = inner_london_clean.drop_duplicates()\n",
    "#Duplicate checking\n",
    "count_duplicates_IL = inner_london_clean_no_duplicates.duplicated().sum()\n",
    "count_duplicates_IL"
   ]
  },
  {
   "cell_type": "code",
   "execution_count": 35,
   "id": "81c1e386",
   "metadata": {},
   "outputs": [
    {
     "data": {
      "text/html": [
       "<div>\n",
       "<style scoped>\n",
       "    .dataframe tbody tr th:only-of-type {\n",
       "        vertical-align: middle;\n",
       "    }\n",
       "\n",
       "    .dataframe tbody tr th {\n",
       "        vertical-align: top;\n",
       "    }\n",
       "\n",
       "    .dataframe thead th {\n",
       "        text-align: right;\n",
       "    }\n",
       "</style>\n",
       "<table border=\"1\" class=\"dataframe\">\n",
       "  <thead>\n",
       "    <tr style=\"text-align: right;\">\n",
       "      <th></th>\n",
       "      <th>Survey wave (year)</th>\n",
       "      <th>Start hour</th>\n",
       "      <th>Start minute</th>\n",
       "      <th>Number of private cycles</th>\n",
       "      <th>Number of cycle hire bikes</th>\n",
       "      <th>Total cycles</th>\n",
       "    </tr>\n",
       "  </thead>\n",
       "  <tbody>\n",
       "    <tr>\n",
       "      <th>count</th>\n",
       "      <td>501467.0</td>\n",
       "      <td>501467.0</td>\n",
       "      <td>501467.0</td>\n",
       "      <td>501467.0</td>\n",
       "      <td>501467.0</td>\n",
       "      <td>501467.0</td>\n",
       "    </tr>\n",
       "    <tr>\n",
       "      <th>mean</th>\n",
       "      <td>2018.0</td>\n",
       "      <td>14.0</td>\n",
       "      <td>22.0</td>\n",
       "      <td>6.0</td>\n",
       "      <td>0.0</td>\n",
       "      <td>6.0</td>\n",
       "    </tr>\n",
       "    <tr>\n",
       "      <th>std</th>\n",
       "      <td>2.0</td>\n",
       "      <td>5.0</td>\n",
       "      <td>17.0</td>\n",
       "      <td>11.0</td>\n",
       "      <td>1.0</td>\n",
       "      <td>11.0</td>\n",
       "    </tr>\n",
       "    <tr>\n",
       "      <th>min</th>\n",
       "      <td>2015.0</td>\n",
       "      <td>6.0</td>\n",
       "      <td>0.0</td>\n",
       "      <td>0.0</td>\n",
       "      <td>0.0</td>\n",
       "      <td>0.0</td>\n",
       "    </tr>\n",
       "    <tr>\n",
       "      <th>25%</th>\n",
       "      <td>2016.0</td>\n",
       "      <td>10.0</td>\n",
       "      <td>0.0</td>\n",
       "      <td>1.0</td>\n",
       "      <td>0.0</td>\n",
       "      <td>1.0</td>\n",
       "    </tr>\n",
       "    <tr>\n",
       "      <th>50%</th>\n",
       "      <td>2018.0</td>\n",
       "      <td>14.0</td>\n",
       "      <td>30.0</td>\n",
       "      <td>3.0</td>\n",
       "      <td>0.0</td>\n",
       "      <td>3.0</td>\n",
       "    </tr>\n",
       "    <tr>\n",
       "      <th>75%</th>\n",
       "      <td>2020.0</td>\n",
       "      <td>17.0</td>\n",
       "      <td>45.0</td>\n",
       "      <td>7.0</td>\n",
       "      <td>0.0</td>\n",
       "      <td>7.0</td>\n",
       "    </tr>\n",
       "    <tr>\n",
       "      <th>max</th>\n",
       "      <td>2021.0</td>\n",
       "      <td>21.0</td>\n",
       "      <td>45.0</td>\n",
       "      <td>278.0</td>\n",
       "      <td>29.0</td>\n",
       "      <td>280.0</td>\n",
       "    </tr>\n",
       "  </tbody>\n",
       "</table>\n",
       "</div>"
      ],
      "text/plain": [
       "       Survey wave (year)  Start hour  Start minute  Number of private cycles  \\\n",
       "count            501467.0    501467.0      501467.0                  501467.0   \n",
       "mean               2018.0        14.0          22.0                       6.0   \n",
       "std                   2.0         5.0          17.0                      11.0   \n",
       "min                2015.0         6.0           0.0                       0.0   \n",
       "25%                2016.0        10.0           0.0                       1.0   \n",
       "50%                2018.0        14.0          30.0                       3.0   \n",
       "75%                2020.0        17.0          45.0                       7.0   \n",
       "max                2021.0        21.0          45.0                     278.0   \n",
       "\n",
       "       Number of cycle hire bikes  Total cycles  \n",
       "count                    501467.0      501467.0  \n",
       "mean                          0.0           6.0  \n",
       "std                           1.0          11.0  \n",
       "min                           0.0           0.0  \n",
       "25%                           0.0           1.0  \n",
       "50%                           0.0           3.0  \n",
       "75%                           0.0           7.0  \n",
       "max                          29.0         280.0  "
      ]
     },
     "execution_count": 35,
     "metadata": {},
     "output_type": "execute_result"
    }
   ],
   "source": [
    "# View descriptive statistics\n",
    "inner_london_clean_no_duplicates.describe().round()"
   ]
  },
  {
   "cell_type": "code",
   "execution_count": 105,
   "id": "f1f4bdbe",
   "metadata": {},
   "outputs": [
    {
     "name": "stdout",
     "output_type": "stream",
     "text": [
      "<class 'pandas.core.frame.DataFrame'>\n",
      "Index: 501467 entries, 0 to 523775\n",
      "Data columns (total 13 columns):\n",
      " #   Column                      Non-Null Count   Dtype         \n",
      "---  ------                      --------------   -----         \n",
      " 0   Survey wave (year)          501467 non-null  float64       \n",
      " 1   Site ID                     501467 non-null  object        \n",
      " 2   Location                    501467 non-null  object        \n",
      " 3   Survey date                 501467 non-null  datetime64[ns]\n",
      " 4   Weather                     501467 non-null  object        \n",
      " 5   Time                        501467 non-null  object        \n",
      " 6   Period                      501467 non-null  object        \n",
      " 7   Direction                   501467 non-null  object        \n",
      " 8   Start hour                  501467 non-null  float64       \n",
      " 9   Start minute                501467 non-null  float64       \n",
      " 10  Number of private cycles    501467 non-null  float64       \n",
      " 11  Number of cycle hire bikes  501467 non-null  float64       \n",
      " 12  Total cycles                501467 non-null  float64       \n",
      "dtypes: datetime64[ns](1), float64(6), object(6)\n",
      "memory usage: 53.6+ MB\n"
     ]
    }
   ],
   "source": [
    "# Convert 'Survey date' to datetime\n",
    "inner_london_clean_no_duplicates['Survey date'] = pd.to_datetime(inner_london_clean_no_duplicates['Survey date'].str[5:], format='%d/%m/%y')\n",
    "\n",
    "inner_london_clean_no_duplicates.info()"
   ]
  },
  {
   "cell_type": "code",
   "execution_count": 106,
   "id": "47131450",
   "metadata": {},
   "outputs": [],
   "source": [
    "import os\n",
    "\n",
    "# Define the directory where you want to save the CSV file\n",
    "output_directory = '/Users/haticegormez/Downloads/Group_4_Team_Project/Data/EP_Data/London/'\n",
    "\n",
    "# Specify the full file path, including the directory and filename\n",
    "csv_file_path = os.path.join(output_directory, 'inner_london_clean_no_duplicates.csv')\n",
    "\n",
    "# Export the DataFrame to the specified file path\n",
    "inner_london_clean_no_duplicates.to_csv(csv_file_path, index=False)"
   ]
  },
  {
   "cell_type": "code",
   "execution_count": 37,
   "id": "c8e127e8",
   "metadata": {},
   "outputs": [
    {
     "name": "stdout",
     "output_type": "stream",
     "text": [
      "Index(['Survey wave (year)', 'Site ID', 'Location', 'Survey date', 'Weather',\n",
      "       'Time', 'Period', 'Direction', 'Start hour', 'Start minute',\n",
      "       'Number of private cycles', 'Number of cycle hire bikes',\n",
      "       'Total cycles'],\n",
      "      dtype='object')\n"
     ]
    }
   ],
   "source": [
    "# View the Column Names\n",
    "column_names = inner_london_clean_no_duplicates.columns\n",
    "print(column_names)"
   ]
  },
  {
   "cell_type": "markdown",
   "id": "87e9d5c0",
   "metadata": {},
   "source": [
    "# Outer London as outer_london df"
   ]
  },
  {
   "cell_type": "code",
   "execution_count": 38,
   "id": "c3c88ff6",
   "metadata": {},
   "outputs": [
    {
     "data": {
      "text/html": [
       "<div>\n",
       "<style scoped>\n",
       "    .dataframe tbody tr th:only-of-type {\n",
       "        vertical-align: middle;\n",
       "    }\n",
       "\n",
       "    .dataframe tbody tr th {\n",
       "        vertical-align: top;\n",
       "    }\n",
       "\n",
       "    .dataframe thead th {\n",
       "        text-align: right;\n",
       "    }\n",
       "</style>\n",
       "<table border=\"1\" class=\"dataframe\">\n",
       "  <thead>\n",
       "    <tr style=\"text-align: right;\">\n",
       "      <th></th>\n",
       "      <th>Survey wave (year)</th>\n",
       "      <th>Site ID</th>\n",
       "      <th>Location</th>\n",
       "      <th>Survey date</th>\n",
       "      <th>Weather</th>\n",
       "      <th>Time</th>\n",
       "      <th>Period</th>\n",
       "      <th>Direction</th>\n",
       "      <th>Start hour</th>\n",
       "      <th>Start minute</th>\n",
       "      <th>Number of male cycles</th>\n",
       "      <th>Number of female cycles</th>\n",
       "      <th>Number of unknown cycles</th>\n",
       "      <th>Total cycles</th>\n",
       "    </tr>\n",
       "  </thead>\n",
       "  <tbody>\n",
       "    <tr>\n",
       "      <th>375655</th>\n",
       "      <td>2021</td>\n",
       "      <td>OUTCY451</td>\n",
       "      <td>Thames Path (Lower Ham Road)</td>\n",
       "      <td>ven, 18/06/21</td>\n",
       "      <td>Wet</td>\n",
       "      <td>2045 - 2100</td>\n",
       "      <td>Evening (19:00-22:00)</td>\n",
       "      <td>Southbound</td>\n",
       "      <td>20</td>\n",
       "      <td>45</td>\n",
       "      <td>1</td>\n",
       "      <td>0</td>\n",
       "      <td>0</td>\n",
       "      <td>1</td>\n",
       "    </tr>\n",
       "    <tr>\n",
       "      <th>375656</th>\n",
       "      <td>2021</td>\n",
       "      <td>OUTCY451</td>\n",
       "      <td>Thames Path (Lower Ham Road)</td>\n",
       "      <td>ven, 18/06/21</td>\n",
       "      <td>Wet</td>\n",
       "      <td>2100 - 2115</td>\n",
       "      <td>Evening (19:00-22:00)</td>\n",
       "      <td>Southbound</td>\n",
       "      <td>21</td>\n",
       "      <td>0</td>\n",
       "      <td>2</td>\n",
       "      <td>0</td>\n",
       "      <td>0</td>\n",
       "      <td>2</td>\n",
       "    </tr>\n",
       "    <tr>\n",
       "      <th>375657</th>\n",
       "      <td>2021</td>\n",
       "      <td>OUTCY451</td>\n",
       "      <td>Thames Path (Lower Ham Road)</td>\n",
       "      <td>ven, 18/06/21</td>\n",
       "      <td>Wet</td>\n",
       "      <td>2115 - 2130</td>\n",
       "      <td>Evening (19:00-22:00)</td>\n",
       "      <td>Southbound</td>\n",
       "      <td>21</td>\n",
       "      <td>15</td>\n",
       "      <td>0</td>\n",
       "      <td>0</td>\n",
       "      <td>0</td>\n",
       "      <td>0</td>\n",
       "    </tr>\n",
       "    <tr>\n",
       "      <th>375658</th>\n",
       "      <td>2021</td>\n",
       "      <td>OUTCY451</td>\n",
       "      <td>Thames Path (Lower Ham Road)</td>\n",
       "      <td>ven, 18/06/21</td>\n",
       "      <td>Wet</td>\n",
       "      <td>2130 - 2145</td>\n",
       "      <td>Evening (19:00-22:00)</td>\n",
       "      <td>Southbound</td>\n",
       "      <td>21</td>\n",
       "      <td>30</td>\n",
       "      <td>0</td>\n",
       "      <td>0</td>\n",
       "      <td>0</td>\n",
       "      <td>0</td>\n",
       "    </tr>\n",
       "    <tr>\n",
       "      <th>375659</th>\n",
       "      <td>2021</td>\n",
       "      <td>OUTCY451</td>\n",
       "      <td>Thames Path (Lower Ham Road)</td>\n",
       "      <td>ven, 18/06/21</td>\n",
       "      <td>Wet</td>\n",
       "      <td>2145 - 2200</td>\n",
       "      <td>Evening (19:00-22:00)</td>\n",
       "      <td>Southbound</td>\n",
       "      <td>21</td>\n",
       "      <td>45</td>\n",
       "      <td>1</td>\n",
       "      <td>0</td>\n",
       "      <td>0</td>\n",
       "      <td>1</td>\n",
       "    </tr>\n",
       "  </tbody>\n",
       "</table>\n",
       "</div>"
      ],
      "text/plain": [
       "        Survey wave (year)   Site ID                      Location  \\\n",
       "375655                2021  OUTCY451  Thames Path (Lower Ham Road)   \n",
       "375656                2021  OUTCY451  Thames Path (Lower Ham Road)   \n",
       "375657                2021  OUTCY451  Thames Path (Lower Ham Road)   \n",
       "375658                2021  OUTCY451  Thames Path (Lower Ham Road)   \n",
       "375659                2021  OUTCY451  Thames Path (Lower Ham Road)   \n",
       "\n",
       "          Survey date Weather         Time                 Period   Direction  \\\n",
       "375655  ven, 18/06/21     Wet  2045 - 2100  Evening (19:00-22:00)  Southbound   \n",
       "375656  ven, 18/06/21     Wet  2100 - 2115  Evening (19:00-22:00)  Southbound   \n",
       "375657  ven, 18/06/21     Wet  2115 - 2130  Evening (19:00-22:00)  Southbound   \n",
       "375658  ven, 18/06/21     Wet  2130 - 2145  Evening (19:00-22:00)  Southbound   \n",
       "375659  ven, 18/06/21     Wet  2145 - 2200  Evening (19:00-22:00)  Southbound   \n",
       "\n",
       "        Start hour  Start minute  Number of male cycles  \\\n",
       "375655          20            45                      1   \n",
       "375656          21             0                      2   \n",
       "375657          21            15                      0   \n",
       "375658          21            30                      0   \n",
       "375659          21            45                      1   \n",
       "\n",
       "        Number of female cycles  Number of unknown cycles  Total cycles  \n",
       "375655                        0                         0             1  \n",
       "375656                        0                         0             2  \n",
       "375657                        0                         0             0  \n",
       "375658                        0                         0             0  \n",
       "375659                        0                         0             1  "
      ]
     },
     "execution_count": 38,
     "metadata": {},
     "output_type": "execute_result"
    }
   ],
   "source": [
    "# Explore the data set.\n",
    "outer_london.tail()"
   ]
  },
  {
   "cell_type": "code",
   "execution_count": 39,
   "id": "38da2d58",
   "metadata": {},
   "outputs": [
    {
     "name": "stdout",
     "output_type": "stream",
     "text": [
      "<class 'pandas.core.frame.DataFrame'>\n",
      "RangeIndex: 375660 entries, 0 to 375659\n",
      "Data columns (total 14 columns):\n",
      " #   Column                    Non-Null Count   Dtype \n",
      "---  ------                    --------------   ----- \n",
      " 0   Survey wave (year)        375660 non-null  int64 \n",
      " 1   Site ID                   375660 non-null  object\n",
      " 2   Location                  375660 non-null  object\n",
      " 3   Survey date               374492 non-null  object\n",
      " 4   Weather                   374692 non-null  object\n",
      " 5   Time                      375660 non-null  object\n",
      " 6   Period                    375660 non-null  object\n",
      " 7   Direction                 375660 non-null  object\n",
      " 8   Start hour                375660 non-null  int64 \n",
      " 9   Start minute              375660 non-null  int64 \n",
      " 10  Number of male cycles     375660 non-null  int64 \n",
      " 11  Number of female cycles   375660 non-null  int64 \n",
      " 12  Number of unknown cycles  375660 non-null  int64 \n",
      " 13  Total cycles              375660 non-null  int64 \n",
      "dtypes: int64(7), object(7)\n",
      "memory usage: 40.1+ MB\n"
     ]
    }
   ],
   "source": [
    "# Explore the data set.\n",
    "outer_london.info()"
   ]
  },
  {
   "cell_type": "code",
   "execution_count": 40,
   "id": "070cb154",
   "metadata": {},
   "outputs": [
    {
     "data": {
      "text/plain": [
       "Survey wave (year)             0\n",
       "Site ID                        0\n",
       "Location                       0\n",
       "Survey date                 1168\n",
       "Weather                      968\n",
       "Time                           0\n",
       "Period                         0\n",
       "Direction                      0\n",
       "Start hour                     0\n",
       "Start minute                   0\n",
       "Number of male cycles          0\n",
       "Number of female cycles        0\n",
       "Number of unknown cycles       0\n",
       "Total cycles                   0\n",
       "dtype: int64"
      ]
     },
     "execution_count": 40,
     "metadata": {},
     "output_type": "execute_result"
    }
   ],
   "source": [
    "#Check for missing values\n",
    "outer_london.isna().sum()"
   ]
  },
  {
   "cell_type": "code",
   "execution_count": 41,
   "id": "ee3d50a3",
   "metadata": {},
   "outputs": [
    {
     "data": {
      "text/html": [
       "<div>\n",
       "<style scoped>\n",
       "    .dataframe tbody tr th:only-of-type {\n",
       "        vertical-align: middle;\n",
       "    }\n",
       "\n",
       "    .dataframe tbody tr th {\n",
       "        vertical-align: top;\n",
       "    }\n",
       "\n",
       "    .dataframe thead th {\n",
       "        text-align: right;\n",
       "    }\n",
       "</style>\n",
       "<table border=\"1\" class=\"dataframe\">\n",
       "  <thead>\n",
       "    <tr style=\"text-align: right;\">\n",
       "      <th></th>\n",
       "      <th>Survey wave (year)</th>\n",
       "      <th>Start hour</th>\n",
       "      <th>Start minute</th>\n",
       "      <th>Number of male cycles</th>\n",
       "      <th>Number of female cycles</th>\n",
       "      <th>Number of unknown cycles</th>\n",
       "      <th>Total cycles</th>\n",
       "    </tr>\n",
       "  </thead>\n",
       "  <tbody>\n",
       "    <tr>\n",
       "      <th>count</th>\n",
       "      <td>375660.0</td>\n",
       "      <td>375660.0</td>\n",
       "      <td>375660.0</td>\n",
       "      <td>375660.0</td>\n",
       "      <td>375660.0</td>\n",
       "      <td>375660.0</td>\n",
       "      <td>375660.0</td>\n",
       "    </tr>\n",
       "    <tr>\n",
       "      <th>mean</th>\n",
       "      <td>2018.0</td>\n",
       "      <td>13.0</td>\n",
       "      <td>22.0</td>\n",
       "      <td>1.0</td>\n",
       "      <td>0.0</td>\n",
       "      <td>0.0</td>\n",
       "      <td>2.0</td>\n",
       "    </tr>\n",
       "    <tr>\n",
       "      <th>std</th>\n",
       "      <td>2.0</td>\n",
       "      <td>5.0</td>\n",
       "      <td>17.0</td>\n",
       "      <td>3.0</td>\n",
       "      <td>1.0</td>\n",
       "      <td>0.0</td>\n",
       "      <td>3.0</td>\n",
       "    </tr>\n",
       "    <tr>\n",
       "      <th>min</th>\n",
       "      <td>2015.0</td>\n",
       "      <td>6.0</td>\n",
       "      <td>0.0</td>\n",
       "      <td>0.0</td>\n",
       "      <td>0.0</td>\n",
       "      <td>0.0</td>\n",
       "      <td>0.0</td>\n",
       "    </tr>\n",
       "    <tr>\n",
       "      <th>25%</th>\n",
       "      <td>2016.0</td>\n",
       "      <td>9.0</td>\n",
       "      <td>0.0</td>\n",
       "      <td>0.0</td>\n",
       "      <td>0.0</td>\n",
       "      <td>0.0</td>\n",
       "      <td>0.0</td>\n",
       "    </tr>\n",
       "    <tr>\n",
       "      <th>50%</th>\n",
       "      <td>2018.0</td>\n",
       "      <td>13.0</td>\n",
       "      <td>15.0</td>\n",
       "      <td>0.0</td>\n",
       "      <td>0.0</td>\n",
       "      <td>0.0</td>\n",
       "      <td>0.0</td>\n",
       "    </tr>\n",
       "    <tr>\n",
       "      <th>75%</th>\n",
       "      <td>2019.0</td>\n",
       "      <td>17.0</td>\n",
       "      <td>30.0</td>\n",
       "      <td>2.0</td>\n",
       "      <td>0.0</td>\n",
       "      <td>0.0</td>\n",
       "      <td>2.0</td>\n",
       "    </tr>\n",
       "    <tr>\n",
       "      <th>max</th>\n",
       "      <td>2021.0</td>\n",
       "      <td>21.0</td>\n",
       "      <td>45.0</td>\n",
       "      <td>62.0</td>\n",
       "      <td>19.0</td>\n",
       "      <td>13.0</td>\n",
       "      <td>78.0</td>\n",
       "    </tr>\n",
       "  </tbody>\n",
       "</table>\n",
       "</div>"
      ],
      "text/plain": [
       "       Survey wave (year)  Start hour  Start minute  Number of male cycles  \\\n",
       "count            375660.0    375660.0      375660.0               375660.0   \n",
       "mean               2018.0        13.0          22.0                    1.0   \n",
       "std                   2.0         5.0          17.0                    3.0   \n",
       "min                2015.0         6.0           0.0                    0.0   \n",
       "25%                2016.0         9.0           0.0                    0.0   \n",
       "50%                2018.0        13.0          15.0                    0.0   \n",
       "75%                2019.0        17.0          30.0                    2.0   \n",
       "max                2021.0        21.0          45.0                   62.0   \n",
       "\n",
       "       Number of female cycles  Number of unknown cycles  Total cycles  \n",
       "count                 375660.0                  375660.0      375660.0  \n",
       "mean                       0.0                       0.0           2.0  \n",
       "std                        1.0                       0.0           3.0  \n",
       "min                        0.0                       0.0           0.0  \n",
       "25%                        0.0                       0.0           0.0  \n",
       "50%                        0.0                       0.0           0.0  \n",
       "75%                        0.0                       0.0           2.0  \n",
       "max                       19.0                      13.0          78.0  "
      ]
     },
     "execution_count": 41,
     "metadata": {},
     "output_type": "execute_result"
    }
   ],
   "source": [
    "# View descriptive statistics\n",
    "outer_london.describe().round()"
   ]
  },
  {
   "cell_type": "code",
   "execution_count": 42,
   "id": "840fad77",
   "metadata": {},
   "outputs": [
    {
     "data": {
      "text/plain": [
       "Survey wave (year)          0\n",
       "Site ID                     0\n",
       "Location                    0\n",
       "Survey date                 0\n",
       "Weather                     0\n",
       "Time                        0\n",
       "Period                      0\n",
       "Direction                   0\n",
       "Start hour                  0\n",
       "Start minute                0\n",
       "Number of male cycles       0\n",
       "Number of female cycles     0\n",
       "Number of unknown cycles    0\n",
       "Total cycles                0\n",
       "dtype: int64"
      ]
     },
     "execution_count": 42,
     "metadata": {},
     "output_type": "execute_result"
    }
   ],
   "source": [
    "#Weather and Survey date is still has Nan values:\n",
    "outer_london_clean = outer_london.dropna(subset = ['Survey date','Weather'])\n",
    "outer_london_clean.isna().sum()"
   ]
  },
  {
   "cell_type": "code",
   "execution_count": 43,
   "id": "47eeeace",
   "metadata": {},
   "outputs": [
    {
     "data": {
      "text/plain": [
       "0"
      ]
     },
     "execution_count": 43,
     "metadata": {},
     "output_type": "execute_result"
    }
   ],
   "source": [
    "#Duplicate checking\n",
    "count_duplicates_ol = outer_london.duplicated().sum()\n",
    "count_duplicates_ol"
   ]
  },
  {
   "cell_type": "code",
   "execution_count": 44,
   "id": "5ab8760b",
   "metadata": {},
   "outputs": [
    {
     "data": {
      "text/plain": [
       "0"
      ]
     },
     "execution_count": 44,
     "metadata": {},
     "output_type": "execute_result"
    }
   ],
   "source": [
    "#Remove the duplications\n",
    "outer_london_clean = outer_london_clean.drop_duplicates()\n",
    "count_duplicates_ol = outer_london_clean.duplicated().sum()\n",
    "count_duplicates_ol"
   ]
  },
  {
   "cell_type": "code",
   "execution_count": 45,
   "id": "5edec0af",
   "metadata": {},
   "outputs": [
    {
     "data": {
      "text/html": [
       "<div>\n",
       "<style scoped>\n",
       "    .dataframe tbody tr th:only-of-type {\n",
       "        vertical-align: middle;\n",
       "    }\n",
       "\n",
       "    .dataframe tbody tr th {\n",
       "        vertical-align: top;\n",
       "    }\n",
       "\n",
       "    .dataframe thead th {\n",
       "        text-align: right;\n",
       "    }\n",
       "</style>\n",
       "<table border=\"1\" class=\"dataframe\">\n",
       "  <thead>\n",
       "    <tr style=\"text-align: right;\">\n",
       "      <th></th>\n",
       "      <th>Survey wave (year)</th>\n",
       "      <th>Start hour</th>\n",
       "      <th>Start minute</th>\n",
       "      <th>Number of male cycles</th>\n",
       "      <th>Number of female cycles</th>\n",
       "      <th>Number of unknown cycles</th>\n",
       "      <th>Total cycles</th>\n",
       "    </tr>\n",
       "  </thead>\n",
       "  <tbody>\n",
       "    <tr>\n",
       "      <th>count</th>\n",
       "      <td>374180.0</td>\n",
       "      <td>374180.0</td>\n",
       "      <td>374180.0</td>\n",
       "      <td>374180.0</td>\n",
       "      <td>374180.0</td>\n",
       "      <td>374180.0</td>\n",
       "      <td>374180.0</td>\n",
       "    </tr>\n",
       "    <tr>\n",
       "      <th>mean</th>\n",
       "      <td>2018.0</td>\n",
       "      <td>14.0</td>\n",
       "      <td>23.0</td>\n",
       "      <td>1.0</td>\n",
       "      <td>0.0</td>\n",
       "      <td>0.0</td>\n",
       "      <td>2.0</td>\n",
       "    </tr>\n",
       "    <tr>\n",
       "      <th>std</th>\n",
       "      <td>2.0</td>\n",
       "      <td>5.0</td>\n",
       "      <td>17.0</td>\n",
       "      <td>3.0</td>\n",
       "      <td>1.0</td>\n",
       "      <td>0.0</td>\n",
       "      <td>3.0</td>\n",
       "    </tr>\n",
       "    <tr>\n",
       "      <th>min</th>\n",
       "      <td>2015.0</td>\n",
       "      <td>6.0</td>\n",
       "      <td>0.0</td>\n",
       "      <td>0.0</td>\n",
       "      <td>0.0</td>\n",
       "      <td>0.0</td>\n",
       "      <td>0.0</td>\n",
       "    </tr>\n",
       "    <tr>\n",
       "      <th>25%</th>\n",
       "      <td>2016.0</td>\n",
       "      <td>10.0</td>\n",
       "      <td>15.0</td>\n",
       "      <td>0.0</td>\n",
       "      <td>0.0</td>\n",
       "      <td>0.0</td>\n",
       "      <td>0.0</td>\n",
       "    </tr>\n",
       "    <tr>\n",
       "      <th>50%</th>\n",
       "      <td>2018.0</td>\n",
       "      <td>14.0</td>\n",
       "      <td>22.0</td>\n",
       "      <td>0.0</td>\n",
       "      <td>0.0</td>\n",
       "      <td>0.0</td>\n",
       "      <td>0.0</td>\n",
       "    </tr>\n",
       "    <tr>\n",
       "      <th>75%</th>\n",
       "      <td>2019.0</td>\n",
       "      <td>17.0</td>\n",
       "      <td>45.0</td>\n",
       "      <td>2.0</td>\n",
       "      <td>0.0</td>\n",
       "      <td>0.0</td>\n",
       "      <td>2.0</td>\n",
       "    </tr>\n",
       "    <tr>\n",
       "      <th>max</th>\n",
       "      <td>2021.0</td>\n",
       "      <td>21.0</td>\n",
       "      <td>45.0</td>\n",
       "      <td>62.0</td>\n",
       "      <td>19.0</td>\n",
       "      <td>13.0</td>\n",
       "      <td>78.0</td>\n",
       "    </tr>\n",
       "  </tbody>\n",
       "</table>\n",
       "</div>"
      ],
      "text/plain": [
       "       Survey wave (year)  Start hour  Start minute  Number of male cycles  \\\n",
       "count            374180.0    374180.0      374180.0               374180.0   \n",
       "mean               2018.0        14.0          23.0                    1.0   \n",
       "std                   2.0         5.0          17.0                    3.0   \n",
       "min                2015.0         6.0           0.0                    0.0   \n",
       "25%                2016.0        10.0          15.0                    0.0   \n",
       "50%                2018.0        14.0          22.0                    0.0   \n",
       "75%                2019.0        17.0          45.0                    2.0   \n",
       "max                2021.0        21.0          45.0                   62.0   \n",
       "\n",
       "       Number of female cycles  Number of unknown cycles  Total cycles  \n",
       "count                 374180.0                  374180.0      374180.0  \n",
       "mean                       0.0                       0.0           2.0  \n",
       "std                        1.0                       0.0           3.0  \n",
       "min                        0.0                       0.0           0.0  \n",
       "25%                        0.0                       0.0           0.0  \n",
       "50%                        0.0                       0.0           0.0  \n",
       "75%                        0.0                       0.0           2.0  \n",
       "max                       19.0                      13.0          78.0  "
      ]
     },
     "execution_count": 45,
     "metadata": {},
     "output_type": "execute_result"
    }
   ],
   "source": [
    "# View descriptive statistics\n",
    "outer_london_clean.describe().round()"
   ]
  },
  {
   "cell_type": "code",
   "execution_count": 107,
   "id": "1baaa3a3",
   "metadata": {},
   "outputs": [
    {
     "name": "stdout",
     "output_type": "stream",
     "text": [
      "<class 'pandas.core.frame.DataFrame'>\n",
      "Index: 374180 entries, 0 to 375659\n",
      "Data columns (total 14 columns):\n",
      " #   Column                    Non-Null Count   Dtype         \n",
      "---  ------                    --------------   -----         \n",
      " 0   Survey wave (year)        374180 non-null  int64         \n",
      " 1   Site ID                   374180 non-null  object        \n",
      " 2   Location                  374180 non-null  object        \n",
      " 3   Survey date               374180 non-null  datetime64[ns]\n",
      " 4   Weather                   374180 non-null  object        \n",
      " 5   Time                      374180 non-null  object        \n",
      " 6   Period                    374180 non-null  object        \n",
      " 7   Direction                 374180 non-null  object        \n",
      " 8   Start hour                374180 non-null  int64         \n",
      " 9   Start minute              374180 non-null  int64         \n",
      " 10  Number of male cycles     374180 non-null  int64         \n",
      " 11  Number of female cycles   374180 non-null  int64         \n",
      " 12  Number of unknown cycles  374180 non-null  int64         \n",
      " 13  Total cycles              374180 non-null  int64         \n",
      "dtypes: datetime64[ns](1), int64(7), object(6)\n",
      "memory usage: 42.8+ MB\n"
     ]
    }
   ],
   "source": [
    "# Convert 'Survey date' to datetime\n",
    "outer_london_clean['Survey date'] = pd.to_datetime(outer_london_clean['Survey date'].str[5:], format='%d/%m/%y')\n",
    "\n",
    "outer_london_clean.info()"
   ]
  },
  {
   "cell_type": "code",
   "execution_count": 108,
   "id": "7b9d5c89",
   "metadata": {},
   "outputs": [],
   "source": [
    "import os\n",
    "\n",
    "# Define the directory where you want to save the CSV file\n",
    "output_directory = '/Users/haticegormez/Downloads/Group_4_Team_Project/Data/EP_Data/London/'\n",
    "\n",
    "# Specify the full file path, including the directory and filename\n",
    "csv_file_path = os.path.join(output_directory, 'outer_london_clean.csv')\n",
    "\n",
    "# Export the DataFrame to the specified file path\n",
    "outer_london_clean.to_csv(csv_file_path, index=False)"
   ]
  },
  {
   "cell_type": "code",
   "execution_count": 49,
   "id": "4d2e59ec",
   "metadata": {},
   "outputs": [
    {
     "name": "stdout",
     "output_type": "stream",
     "text": [
      "Index(['Survey wave (year)', 'Site ID', 'Location', 'Survey date', 'Weather',\n",
      "       'Time', 'Period', 'Direction', 'Start hour', 'Start minute',\n",
      "       'Number of male cycles', 'Number of female cycles',\n",
      "       'Number of unknown cycles', 'Total cycles'],\n",
      "      dtype='object')\n"
     ]
    }
   ],
   "source": [
    "# View the Column Names\n",
    "column_names = outer_london_clean.columns\n",
    "print(column_names)"
   ]
  },
  {
   "cell_type": "markdown",
   "id": "107b74d9",
   "metadata": {},
   "source": [
    "# London Bike Sites as london_biking_sites"
   ]
  },
  {
   "cell_type": "code",
   "execution_count": 50,
   "id": "1ed1d451",
   "metadata": {},
   "outputs": [
    {
     "name": "stdout",
     "output_type": "stream",
     "text": [
      "<class 'pandas.core.frame.DataFrame'>\n",
      "RangeIndex: 2023 entries, 0 to 2022\n",
      "Data columns (total 8 columns):\n",
      " #   Column                   Non-Null Count  Dtype \n",
      "---  ------                   --------------  ----- \n",
      " 0   UnqID                    2023 non-null   object\n",
      " 1   ProgID                   2023 non-null   object\n",
      " 2   SurveyDescription        2023 non-null   object\n",
      " 3   Easting                  2023 non-null   int64 \n",
      " 4   Northing                 2023 non-null   int64 \n",
      " 5   Location                 2023 non-null   object\n",
      " 6   Borough                  2023 non-null   object\n",
      " 7   Functional cycling area  2021 non-null   object\n",
      "dtypes: int64(2), object(6)\n",
      "memory usage: 126.6+ KB\n"
     ]
    }
   ],
   "source": [
    "# Explore the data set.\n",
    "london_biking_sites.info()"
   ]
  },
  {
   "cell_type": "code",
   "execution_count": 172,
   "id": "81487b96",
   "metadata": {},
   "outputs": [
    {
     "data": {
      "text/html": [
       "<div>\n",
       "<style scoped>\n",
       "    .dataframe tbody tr th:only-of-type {\n",
       "        vertical-align: middle;\n",
       "    }\n",
       "\n",
       "    .dataframe tbody tr th {\n",
       "        vertical-align: top;\n",
       "    }\n",
       "\n",
       "    .dataframe thead th {\n",
       "        text-align: right;\n",
       "    }\n",
       "</style>\n",
       "<table border=\"1\" class=\"dataframe\">\n",
       "  <thead>\n",
       "    <tr style=\"text-align: right;\">\n",
       "      <th></th>\n",
       "      <th>UnqID</th>\n",
       "      <th>ProgID</th>\n",
       "      <th>SurveyDescription</th>\n",
       "      <th>Easting</th>\n",
       "      <th>Northing</th>\n",
       "      <th>Location</th>\n",
       "      <th>Borough</th>\n",
       "      <th>Functional cycling area</th>\n",
       "    </tr>\n",
       "  </thead>\n",
       "  <tbody>\n",
       "    <tr>\n",
       "      <th>0</th>\n",
       "      <td>CENCY001</td>\n",
       "      <td>CENCY</td>\n",
       "      <td>Central area cycle surveys</td>\n",
       "      <td>530251</td>\n",
       "      <td>178742</td>\n",
       "      <td>Millbank (south of Thorney Street)</td>\n",
       "      <td>Westminster</td>\n",
       "      <td>Central</td>\n",
       "    </tr>\n",
       "    <tr>\n",
       "      <th>1</th>\n",
       "      <td>CENCY002</td>\n",
       "      <td>CENCY</td>\n",
       "      <td>Central area cycle surveys</td>\n",
       "      <td>533363</td>\n",
       "      <td>181824</td>\n",
       "      <td>Bishopsgate</td>\n",
       "      <td>City of London</td>\n",
       "      <td>Central</td>\n",
       "    </tr>\n",
       "    <tr>\n",
       "      <th>2</th>\n",
       "      <td>CENCY003</td>\n",
       "      <td>CENCY</td>\n",
       "      <td>Central area cycle surveys</td>\n",
       "      <td>532334</td>\n",
       "      <td>180520</td>\n",
       "      <td>Southwark Bridge</td>\n",
       "      <td>Southwark</td>\n",
       "      <td>Central</td>\n",
       "    </tr>\n",
       "    <tr>\n",
       "      <th>3</th>\n",
       "      <td>CENCY004</td>\n",
       "      <td>CENCY</td>\n",
       "      <td>Central area cycle surveys</td>\n",
       "      <td>532053</td>\n",
       "      <td>179678</td>\n",
       "      <td>Southwark Bridge Road</td>\n",
       "      <td>Southwark</td>\n",
       "      <td>Central</td>\n",
       "    </tr>\n",
       "    <tr>\n",
       "      <th>4</th>\n",
       "      <td>CENCY005</td>\n",
       "      <td>CENCY</td>\n",
       "      <td>Central area cycle surveys</td>\n",
       "      <td>533032</td>\n",
       "      <td>180213</td>\n",
       "      <td>Tooley Street</td>\n",
       "      <td>Southwark</td>\n",
       "      <td>Central</td>\n",
       "    </tr>\n",
       "  </tbody>\n",
       "</table>\n",
       "</div>"
      ],
      "text/plain": [
       "      UnqID ProgID           SurveyDescription  Easting  Northing  \\\n",
       "0  CENCY001  CENCY  Central area cycle surveys   530251    178742   \n",
       "1  CENCY002  CENCY  Central area cycle surveys   533363    181824   \n",
       "2  CENCY003  CENCY  Central area cycle surveys   532334    180520   \n",
       "3  CENCY004  CENCY  Central area cycle surveys   532053    179678   \n",
       "4  CENCY005  CENCY  Central area cycle surveys   533032    180213   \n",
       "\n",
       "                             Location         Borough Functional cycling area  \n",
       "0  Millbank (south of Thorney Street)     Westminster                 Central  \n",
       "1                         Bishopsgate  City of London                 Central  \n",
       "2                    Southwark Bridge       Southwark                 Central  \n",
       "3               Southwark Bridge Road       Southwark                 Central  \n",
       "4                       Tooley Street       Southwark                 Central  "
      ]
     },
     "execution_count": 172,
     "metadata": {},
     "output_type": "execute_result"
    }
   ],
   "source": [
    "# Explore the data set.\n",
    "london_biking_sites.head()"
   ]
  },
  {
   "cell_type": "code",
   "execution_count": 173,
   "id": "e1054565",
   "metadata": {},
   "outputs": [
    {
     "name": "stdout",
     "output_type": "stream",
     "text": [
      "UnqID                      0\n",
      "ProgID                     0\n",
      "SurveyDescription          0\n",
      "Easting                    0\n",
      "Northing                   0\n",
      "Location                   0\n",
      "Borough                    0\n",
      "Functional cycling area    2\n",
      "dtype: int64\n"
     ]
    }
   ],
   "source": [
    "# Print total of missing values in the data set.\n",
    "print(london_biking_sites.isnull().sum())"
   ]
  },
  {
   "cell_type": "code",
   "execution_count": 174,
   "id": "fae73359",
   "metadata": {},
   "outputs": [
    {
     "name": "stdout",
     "output_type": "stream",
     "text": [
      "UnqID                      0\n",
      "ProgID                     0\n",
      "SurveyDescription          0\n",
      "Easting                    0\n",
      "Northing                   0\n",
      "Location                   0\n",
      "Borough                    0\n",
      "Functional cycling area    0\n",
      "dtype: int64\n"
     ]
    }
   ],
   "source": [
    "# Fill missing values with 0.\n",
    "london_biking_sites.fillna(0, inplace = True)\n",
    "print(london_biking_sites.isnull().sum())"
   ]
  },
  {
   "cell_type": "code",
   "execution_count": 175,
   "id": "a5164cbb",
   "metadata": {},
   "outputs": [
    {
     "data": {
      "text/plain": [
       "0"
      ]
     },
     "execution_count": 175,
     "metadata": {},
     "output_type": "execute_result"
    }
   ],
   "source": [
    "#Duplicate checking\n",
    "count_duplicates_bs = london_biking_sites.duplicated().sum()\n",
    "count_duplicates_bs"
   ]
  },
  {
   "cell_type": "code",
   "execution_count": 176,
   "id": "82fd0abf",
   "metadata": {},
   "outputs": [
    {
     "data": {
      "text/plain": [
       "0"
      ]
     },
     "execution_count": 176,
     "metadata": {},
     "output_type": "execute_result"
    }
   ],
   "source": [
    "#Remove the duplications\n",
    "london_biking_sites = london_biking_sites.drop_duplicates()\n",
    "london_biking_sites.duplicated().sum()"
   ]
  },
  {
   "cell_type": "code",
   "execution_count": 179,
   "id": "c1642971",
   "metadata": {},
   "outputs": [
    {
     "name": "stdout",
     "output_type": "stream",
     "text": [
      "Index(['UnqID', 'ProgID', 'SurveyDescription', 'Easting', 'Northing',\n",
      "       'Location', 'Borough', 'Functional cycling area'],\n",
      "      dtype='object')\n"
     ]
    }
   ],
   "source": [
    "# View the Column Names\n",
    "column_names = london_biking_sites.columns\n",
    "print(column_names)"
   ]
  },
  {
   "cell_type": "markdown",
   "id": "dea8c6b3",
   "metadata": {},
   "source": [
    "### New York Bicycle Counts"
   ]
  },
  {
   "cell_type": "markdown",
   "id": "1ee953bb",
   "metadata": {},
   "source": [
    "## Summary of Data Cleaning and Transformation Steps\n",
    "\n",
    "##### Data Timeframe: The data spans from December 12, 2012, to June 24, 2022.\n",
    "\n",
    "### Data Processing Steps:\n",
    "##### Divided the datetime columns into separate date and time columns.\n",
    "##### Checked for duplicates after the separation of date and time.\n",
    "##### Reordered columns for better organization and readability.\n",
    "##### Renamed the dataset to 'cleaned_ny_bicycle_counts'.\n",
    "\n",
    "### Data Quality Checks:\n",
    "##### Confirmed there were no duplicate entries.\n",
    "##### Verified there were no missing values or negative values in the dataset.\n",
    "\n",
    "### Data Analysis:\n",
    "##### Identified 25 unique values in each column.\n",
    "##### Conducted a detailed statistical summary for each ID.\n",
    "##### Visualized the data corresponding to each ID."
   ]
  },
  {
   "cell_type": "code",
   "execution_count": 51,
   "id": "35812039",
   "metadata": {},
   "outputs": [
    {
     "name": "stdout",
     "output_type": "stream",
     "text": [
      "<class 'pandas.core.frame.DataFrame'>\n",
      "RangeIndex: 4167507 entries, 0 to 4167506\n",
      "Data columns (total 4 columns):\n",
      " #   Column  Dtype \n",
      "---  ------  ----- \n",
      " 0   id      int64 \n",
      " 1   date    object\n",
      " 2   counts  int64 \n",
      " 3   status  int64 \n",
      "dtypes: int64(3), object(1)\n",
      "memory usage: 127.2+ MB\n"
     ]
    }
   ],
   "source": [
    "# View the DataFrame\n",
    "ny_bicycle_counts.info()"
   ]
  },
  {
   "cell_type": "code",
   "execution_count": 52,
   "id": "efe35c55",
   "metadata": {},
   "outputs": [
    {
     "name": "stdout",
     "output_type": "stream",
     "text": [
      "<class 'pandas.core.frame.DataFrame'>\n",
      "RangeIndex: 4167507 entries, 0 to 4167506\n",
      "Data columns (total 4 columns):\n",
      " #   Column  Dtype         \n",
      "---  ------  -----         \n",
      " 0   id      int64         \n",
      " 1   date    datetime64[ns]\n",
      " 2   counts  int64         \n",
      " 3   status  int64         \n",
      "dtypes: datetime64[ns](1), int64(3)\n",
      "memory usage: 127.2 MB\n"
     ]
    }
   ],
   "source": [
    "# Convert the 'date' column to datetime\n",
    "ny_bicycle_counts['date'] = pd.to_datetime(ny_bicycle_counts['date'])\n",
    "\n",
    "# View the DataFrame\n",
    "ny_bicycle_counts.info()"
   ]
  },
  {
   "cell_type": "code",
   "execution_count": 53,
   "id": "8873ee2e",
   "metadata": {},
   "outputs": [
    {
     "name": "stdout",
     "output_type": "stream",
     "text": [
      "                id        date  counts  status      time\n",
      "0        100009425  2022-06-24      15       0  00:00:00\n",
      "1        100009425  2022-06-24      12       0  00:15:00\n",
      "2        100009425  2022-06-24      14       0  00:30:00\n",
      "3        100009425  2022-06-24       5       0  00:45:00\n",
      "4        100009425  2022-06-24      10       0  01:00:00\n",
      "...            ...         ...     ...     ...       ...\n",
      "4167502  100005020  2012-12-12       3       4  02:45:00\n",
      "4167503  100005020  2012-12-12       2       4  03:00:00\n",
      "4167504  100005020  2012-12-12       3       4  03:15:00\n",
      "4167505  100005020  2012-12-12       1       4  03:30:00\n",
      "4167506  100005020  2012-12-12       2       4  03:45:00\n",
      "\n",
      "[4167507 rows x 5 columns]\n"
     ]
    }
   ],
   "source": [
    "# Separate the time and retain the date\n",
    "ny_bicycle_counts['time'] = ny_bicycle_counts['date'].dt.time\n",
    "ny_bicycle_counts['date'] = ny_bicycle_counts['date'].dt.date\n",
    "\n",
    "# Display the result\n",
    "print(ny_bicycle_counts)"
   ]
  },
  {
   "cell_type": "code",
   "execution_count": 54,
   "id": "53765a59",
   "metadata": {},
   "outputs": [
    {
     "name": "stdout",
     "output_type": "stream",
     "text": [
      "                id        date      time  counts  status\n",
      "0        100009425  2022-06-24  00:00:00      15       0\n",
      "1        100009425  2022-06-24  00:15:00      12       0\n",
      "2        100009425  2022-06-24  00:30:00      14       0\n",
      "3        100009425  2022-06-24  00:45:00       5       0\n",
      "4        100009425  2022-06-24  01:00:00      10       0\n",
      "...            ...         ...       ...     ...     ...\n",
      "4167502  100005020  2012-12-12  02:45:00       3       4\n",
      "4167503  100005020  2012-12-12  03:00:00       2       4\n",
      "4167504  100005020  2012-12-12  03:15:00       3       4\n",
      "4167505  100005020  2012-12-12  03:30:00       1       4\n",
      "4167506  100005020  2012-12-12  03:45:00       2       4\n",
      "\n",
      "[4167507 rows x 5 columns]\n"
     ]
    }
   ],
   "source": [
    "# Reorder the columns\n",
    "ny_bicycle_counts = ny_bicycle_counts[['id', 'date', 'time', 'counts', 'status']]\n",
    "\n",
    "# Display the result\n",
    "print(ny_bicycle_counts)"
   ]
  },
  {
   "cell_type": "code",
   "execution_count": 55,
   "id": "d6c5d678",
   "metadata": {},
   "outputs": [
    {
     "name": "stdout",
     "output_type": "stream",
     "text": [
      "Duplicate rows: 0\n",
      "Duplicate rows details:\n",
      "Empty DataFrame\n",
      "Columns: [id, date, time, counts, status]\n",
      "Index: []\n"
     ]
    }
   ],
   "source": [
    "# Check for duplicates\n",
    "duplicates = ny_bicycle_counts.duplicated()\n",
    "\n",
    "# Count the duplicates\n",
    "num_duplicates = duplicates.sum()\n",
    "\n",
    "# Show the results\n",
    "print(\"Duplicate rows:\", num_duplicates)\n",
    "print(\"Duplicate rows details:\")\n",
    "print(ny_bicycle_counts[duplicates])"
   ]
  },
  {
   "cell_type": "code",
   "execution_count": 56,
   "id": "f08ef4a6",
   "metadata": {},
   "outputs": [
    {
     "name": "stdout",
     "output_type": "stream",
     "text": [
      "Missing values in each column:\n",
      " id        0\n",
      "date      0\n",
      "time      0\n",
      "counts    0\n",
      "status    0\n",
      "dtype: int64\n"
     ]
    }
   ],
   "source": [
    "# Check for missing values\n",
    "missing_values = ny_bicycle_counts.isnull().sum()\n",
    "print(\"Missing values in each column:\\n\", missing_values)"
   ]
  },
  {
   "cell_type": "code",
   "execution_count": 57,
   "id": "854e9ee9",
   "metadata": {},
   "outputs": [],
   "source": [
    "# Validate data \n",
    "if (ny_bicycle_counts['counts'] < 0).any() or (ny_bicycle_counts['status'] < 0).any():\n",
    "    print(\"There are negative values in 'counts' or 'status' columns\") # there are no negative values in the 'counts' or 'status' columns"
   ]
  },
  {
   "cell_type": "code",
   "execution_count": 58,
   "id": "0e18b112",
   "metadata": {},
   "outputs": [
    {
     "name": "stdout",
     "output_type": "stream",
     "text": [
      "Number of unique values in each column:\n",
      " id          25\n",
      "date      3595\n",
      "time        96\n",
      "counts     939\n",
      "status       2\n",
      "dtype: int64\n"
     ]
    }
   ],
   "source": [
    "#  Check Unique Values in Each Column\n",
    "unique_values = ny_bicycle_counts.nunique()\n",
    "print(\"Number of unique values in each column:\\n\", unique_values)"
   ]
  },
  {
   "cell_type": "code",
   "execution_count": 59,
   "id": "c0312990",
   "metadata": {},
   "outputs": [
    {
     "name": "stdout",
     "output_type": "stream",
     "text": [
      "                id        date      time  counts  status\n",
      "0        100009425  2022-06-24  00:00:00      15       0\n",
      "1        100009425  2022-06-24  00:15:00      12       0\n",
      "2        100009425  2022-06-24  00:30:00      14       0\n",
      "3        100009425  2022-06-24  00:45:00       5       0\n",
      "4        100009425  2022-06-24  01:00:00      10       0\n",
      "...            ...         ...       ...     ...     ...\n",
      "4167502  100005020  2012-12-12  02:45:00       3       4\n",
      "4167503  100005020  2012-12-12  03:00:00       2       4\n",
      "4167504  100005020  2012-12-12  03:15:00       3       4\n",
      "4167505  100005020  2012-12-12  03:30:00       1       4\n",
      "4167506  100005020  2012-12-12  03:45:00       2       4\n",
      "\n",
      "[4167507 rows x 5 columns]\n"
     ]
    }
   ],
   "source": [
    "# Rename the DataFrame\n",
    "cleaned_ny_bicycle_counts = ny_bicycle_counts\n",
    "print(cleaned_ny_bicycle_counts)"
   ]
  },
  {
   "cell_type": "code",
   "execution_count": 60,
   "id": "876447fb",
   "metadata": {
    "scrolled": true
   },
   "outputs": [
    {
     "name": "stdout",
     "output_type": "stream",
     "text": [
      "Index(['id', 'date', 'time', 'counts', 'status'], dtype='object')\n"
     ]
    }
   ],
   "source": [
    "# View the Column Names\n",
    "column_names = cleaned_ny_bicycle_counts.columns\n",
    "print(column_names)"
   ]
  },
  {
   "cell_type": "code",
   "execution_count": 61,
   "id": "81ec541b",
   "metadata": {},
   "outputs": [
    {
     "name": "stdout",
     "output_type": "stream",
     "text": [
      "Unique IDs: [100009425 100009426 100009427 100009428 100010017 100010018 100010019\n",
      " 100010022 100047029 100057316 100057320 100062893 300020241 300020904\n",
      " 300024007 100057319 100005020 100009424 100009429 100010020 100039064\n",
      " 100051865 100055175 100057318 100058279]\n"
     ]
    }
   ],
   "source": [
    "# List Unique Values in the id Column\n",
    "unique_ids = cleaned_ny_bicycle_counts['id'].unique()\n",
    "print(\"Unique IDs:\", unique_ids)"
   ]
  },
  {
   "cell_type": "code",
   "execution_count": 62,
   "id": "6dc75932",
   "metadata": {},
   "outputs": [
    {
     "name": "stdout",
     "output_type": "stream",
     "text": [
      "Statistics for id 100009425:\n",
      "                 id        date      time         counts         status\n",
      "count      198130.0      198130    198130  198130.000000  198130.000000\n",
      "unique          NaN        2065        96            NaN            NaN\n",
      "top             NaN  2022-06-24  23:45:00            NaN            NaN\n",
      "freq            NaN          96      2065            NaN            NaN\n",
      "mean    100009425.0         NaN       NaN      24.718715       0.005814\n",
      "std             0.0         NaN       NaN      21.827720       0.152393\n",
      "min     100009425.0         NaN       NaN       0.000000       0.000000\n",
      "25%     100009425.0         NaN       NaN       7.000000       0.000000\n",
      "50%     100009425.0         NaN       NaN      21.000000       0.000000\n",
      "75%     100009425.0         NaN       NaN      36.000000       0.000000\n",
      "max     100009425.0         NaN       NaN     506.000000       4.000000 \n",
      "\n",
      "Statistics for id 100009426:\n",
      "                 id        date      time         counts    status\n",
      "count      300807.0      300807    300807  300807.000000  300807.0\n",
      "unique          NaN        3135        96            NaN       NaN\n",
      "top             NaN  2022-06-24  23:45:00            NaN       NaN\n",
      "freq            NaN          96      3135            NaN       NaN\n",
      "mean    100009426.0         NaN       NaN       1.644081       0.0\n",
      "std             0.0         NaN       NaN       2.352821       0.0\n",
      "min     100009426.0         NaN       NaN       0.000000       0.0\n",
      "25%     100009426.0         NaN       NaN       0.000000       0.0\n",
      "50%     100009426.0         NaN       NaN       1.000000       0.0\n",
      "75%     100009426.0         NaN       NaN       2.000000       0.0\n",
      "max     100009426.0         NaN       NaN     261.000000       0.0 \n",
      "\n",
      "Statistics for id 100009427:\n",
      "                 id        date      time         counts         status\n",
      "count      300961.0      300961    300961  300961.000000  300961.000000\n",
      "unique          NaN        3136        96            NaN            NaN\n",
      "top             NaN  2022-06-23  23:45:00            NaN            NaN\n",
      "freq            NaN          96      3136            NaN            NaN\n",
      "mean    100009427.0         NaN       NaN      50.349198       0.001276\n",
      "std             0.0         NaN       NaN      47.568001       0.071429\n",
      "min     100009427.0         NaN       NaN       0.000000       0.000000\n",
      "25%     100009427.0         NaN       NaN      13.000000       0.000000\n",
      "50%     100009427.0         NaN       NaN      37.000000       0.000000\n",
      "75%     100009427.0         NaN       NaN      74.000000       0.000000\n",
      "max     100009427.0         NaN       NaN     471.000000       4.000000 \n",
      "\n",
      "Statistics for id 100009428:\n",
      "                 id        date      time         counts         status\n",
      "count      300667.0      300667    300667  300667.000000  300667.000000\n",
      "unique          NaN        3133        96            NaN            NaN\n",
      "top             NaN  2022-06-24  12:00:00            NaN            NaN\n",
      "freq            NaN          96      3133            NaN            NaN\n",
      "mean    100009428.0         NaN       NaN      38.595599       0.001277\n",
      "std             0.0         NaN       NaN      32.330557       0.071463\n",
      "min     100009428.0         NaN       NaN       0.000000       0.000000\n",
      "25%     100009428.0         NaN       NaN      12.000000       0.000000\n",
      "50%     100009428.0         NaN       NaN      31.000000       0.000000\n",
      "75%     100009428.0         NaN       NaN      56.000000       0.000000\n",
      "max     100009428.0         NaN       NaN     699.000000       4.000000 \n",
      "\n",
      "Statistics for id 100010017:\n",
      "                 id        date      time         counts    status\n",
      "count      219416.0      219416    219416  219416.000000  219416.0\n",
      "unique          NaN        2286        96            NaN       NaN\n",
      "top             NaN  2022-06-23  12:00:00            NaN       NaN\n",
      "freq            NaN          96      2286            NaN       NaN\n",
      "mean    100010017.0         NaN       NaN       4.050452       0.0\n",
      "std             0.0         NaN       NaN       4.866167       0.0\n",
      "min     100010017.0         NaN       NaN       0.000000       0.0\n",
      "25%     100010017.0         NaN       NaN       0.000000       0.0\n",
      "50%     100010017.0         NaN       NaN       2.000000       0.0\n",
      "75%     100010017.0         NaN       NaN       6.000000       0.0\n",
      "max     100010017.0         NaN       NaN     270.000000       0.0 \n",
      "\n",
      "Statistics for id 100010018:\n",
      "                 id        date      time         counts         status\n",
      "count      176332.0      176332    176332  176332.000000  176332.000000\n",
      "unique          NaN        1837        96            NaN            NaN\n",
      "top             NaN  2022-06-24  00:00:00            NaN            NaN\n",
      "freq            NaN          96      1837            NaN            NaN\n",
      "mean    100010018.0         NaN       NaN      19.461544       0.004355\n",
      "std             0.0         NaN       NaN      19.786291       0.131920\n",
      "min     100010018.0         NaN       NaN       0.000000       0.000000\n",
      "25%     100010018.0         NaN       NaN       4.000000       0.000000\n",
      "50%     100010018.0         NaN       NaN      14.000000       0.000000\n",
      "75%     100010018.0         NaN       NaN      28.000000       0.000000\n",
      "max     100010018.0         NaN       NaN     325.000000       4.000000 \n",
      "\n",
      "Statistics for id 100010019:\n",
      "                 id        date      time         counts         status\n",
      "count      196680.0      196680    196680  196680.000000  196680.000000\n",
      "unique          NaN        2051        96            NaN            NaN\n",
      "top             NaN  2022-06-24  23:45:00            NaN            NaN\n",
      "freq            NaN          96      2051            NaN            NaN\n",
      "mean    100010019.0         NaN       NaN      27.538535       0.001952\n",
      "std             0.0         NaN       NaN      29.872669       0.088351\n",
      "min     100010019.0         NaN       NaN       0.000000       0.000000\n",
      "25%     100010019.0         NaN       NaN       5.000000       0.000000\n",
      "50%     100010019.0         NaN       NaN      18.000000       0.000000\n",
      "75%     100010019.0         NaN       NaN      40.000000       0.000000\n",
      "max     100010019.0         NaN       NaN     562.000000       4.000000 \n",
      "\n",
      "Statistics for id 100010022:\n",
      "                 id        date      time         counts         status\n",
      "count      298155.0      298155    298155  298155.000000  298155.000000\n",
      "unique          NaN        3107        96            NaN            NaN\n",
      "top             NaN  2022-06-24  12:00:00            NaN            NaN\n",
      "freq            NaN          96      3107            NaN            NaN\n",
      "mean    100010022.0         NaN       NaN      17.174463       0.001288\n",
      "std             0.0         NaN       NaN      22.374190       0.071764\n",
      "min     100010022.0         NaN       NaN       0.000000       0.000000\n",
      "25%     100010022.0         NaN       NaN       1.000000       0.000000\n",
      "50%     100010022.0         NaN       NaN       8.000000       0.000000\n",
      "75%     100010022.0         NaN       NaN      26.000000       0.000000\n",
      "max     100010022.0         NaN       NaN     645.000000       4.000000 \n",
      "\n",
      "Statistics for id 100047029:\n",
      "                 id        date      time         counts         status\n",
      "count      313512.0      313512    313512  313512.000000  313512.000000\n",
      "unique          NaN        3267        96            NaN            NaN\n",
      "top             NaN  2022-06-24  00:00:00            NaN            NaN\n",
      "freq            NaN          96      3267            NaN            NaN\n",
      "mean    100047029.0         NaN       NaN      39.717341       2.445788\n",
      "std             0.0         NaN       NaN      42.516498       1.949688\n",
      "min     100047029.0         NaN       NaN       0.000000       0.000000\n",
      "25%     100047029.0         NaN       NaN       7.000000       0.000000\n",
      "50%     100047029.0         NaN       NaN      26.000000       4.000000\n",
      "75%     100047029.0         NaN       NaN      58.000000       4.000000\n",
      "max     100047029.0         NaN       NaN     728.000000       4.000000 \n",
      "\n",
      "Statistics for id 100057316:\n",
      "                 id        date      time         counts    status\n",
      "count      128073.0      128073    128073  128073.000000  128073.0\n",
      "unique          NaN        1335        96            NaN       NaN\n",
      "top             NaN  2022-06-24  12:00:00            NaN       NaN\n",
      "freq            NaN          96      1335            NaN       NaN\n",
      "mean    100057316.0         NaN       NaN      24.701873       0.0\n",
      "std             0.0         NaN       NaN      42.825334       0.0\n",
      "min     100057316.0         NaN       NaN       0.000000       0.0\n",
      "25%     100057316.0         NaN       NaN       0.000000       0.0\n",
      "50%     100057316.0         NaN       NaN      10.000000       0.0\n",
      "75%     100057316.0         NaN       NaN      40.000000       0.0\n",
      "max     100057316.0         NaN       NaN    1064.000000       0.0 \n",
      "\n",
      "Statistics for id 100057320:\n",
      "                 id        date      time        counts   status\n",
      "count       94446.0       94446     94446  94446.000000  94446.0\n",
      "unique          NaN         984        96           NaN      NaN\n",
      "top             NaN  2022-06-23  00:00:00           NaN      NaN\n",
      "freq            NaN          96       984           NaN      NaN\n",
      "mean    100057320.0         NaN       NaN     14.654332      0.0\n",
      "std             0.0         NaN       NaN     13.164812      0.0\n",
      "min     100057320.0         NaN       NaN      0.000000      0.0\n",
      "25%     100057320.0         NaN       NaN      2.000000      0.0\n",
      "50%     100057320.0         NaN       NaN     12.000000      0.0\n",
      "75%     100057320.0         NaN       NaN     25.000000      0.0\n",
      "max     100057320.0         NaN       NaN     87.000000      0.0 \n",
      "\n",
      "Statistics for id 100062893:\n",
      "                 id        date      time         counts         status\n",
      "count      313512.0      313512    313512  313512.000000  313512.000000\n",
      "unique          NaN        3267        96            NaN            NaN\n",
      "top             NaN  2022-06-24  00:00:00            NaN            NaN\n",
      "freq            NaN          96      3267            NaN            NaN\n",
      "mean    100062893.0         NaN       NaN      39.717341       2.445788\n",
      "std             0.0         NaN       NaN      42.516498       1.949688\n",
      "min     100062893.0         NaN       NaN       0.000000       0.000000\n",
      "25%     100062893.0         NaN       NaN       7.000000       0.000000\n",
      "50%     100062893.0         NaN       NaN      26.000000       4.000000\n",
      "75%     100062893.0         NaN       NaN      58.000000       4.000000\n",
      "max     100062893.0         NaN       NaN     728.000000       4.000000 \n",
      "\n",
      "Statistics for id 300020241:\n",
      "                 id        date      time        counts        status\n",
      "count       28162.0       28162     28162  28162.000000  28162.000000\n",
      "unique          NaN         294        96           NaN           NaN\n",
      "top             NaN  2022-06-24  23:45:00           NaN           NaN\n",
      "freq            NaN          96       294           NaN           NaN\n",
      "mean    300020241.0         NaN       NaN     29.137810      0.447980\n",
      "std             0.0         NaN       NaN     57.309073      1.261463\n",
      "min     300020241.0         NaN       NaN      0.000000      0.000000\n",
      "25%     300020241.0         NaN       NaN      4.000000      0.000000\n",
      "50%     300020241.0         NaN       NaN     16.000000      0.000000\n",
      "75%     300020241.0         NaN       NaN     42.000000      0.000000\n",
      "max     300020241.0         NaN       NaN   1805.000000      4.000000 \n",
      "\n",
      "Statistics for id 300020904:\n",
      "                 id        date      time         counts         status\n",
      "count      298155.0      298155    298155  298155.000000  298155.000000\n",
      "unique          NaN        3107        96            NaN            NaN\n",
      "top             NaN  2022-06-24  12:00:00            NaN            NaN\n",
      "freq            NaN          96      3107            NaN            NaN\n",
      "mean    300020904.0         NaN       NaN      19.889685       3.664497\n",
      "std             0.0         NaN       NaN      28.112165       1.108808\n",
      "min     300020904.0         NaN       NaN       0.000000       0.000000\n",
      "25%     300020904.0         NaN       NaN       2.000000       4.000000\n",
      "50%     300020904.0         NaN       NaN      10.000000       4.000000\n",
      "75%     300020904.0         NaN       NaN      30.000000       4.000000\n",
      "max     300020904.0         NaN       NaN    1805.000000       4.000000 \n",
      "\n",
      "Statistics for id 300024007:\n",
      "                 id        date      time       counts  status\n",
      "count        5412.0        5412      5412  5412.000000  5412.0\n",
      "unique          NaN          57        96          NaN     NaN\n",
      "top             NaN  2022-06-24  23:45:00          NaN     NaN\n",
      "freq            NaN          96        57          NaN     NaN\n",
      "mean    300024007.0         NaN       NaN     2.906135     0.0\n",
      "std             0.0         NaN       NaN     3.210484     0.0\n",
      "min     300024007.0         NaN       NaN     0.000000     0.0\n",
      "25%     300024007.0         NaN       NaN     1.000000     0.0\n",
      "50%     300024007.0         NaN       NaN     2.000000     0.0\n",
      "75%     300024007.0         NaN       NaN     4.000000     0.0\n",
      "max     300024007.0         NaN       NaN    26.000000     0.0 \n",
      "\n",
      "Statistics for id 100057319:\n",
      "                 id        date      time        counts   status\n",
      "count       94543.0       94543     94543  94543.000000  94543.0\n",
      "unique          NaN         985        96           NaN      NaN\n",
      "top             NaN  2022-06-24  00:00:00           NaN      NaN\n",
      "freq            NaN          96       985           NaN      NaN\n",
      "mean    100057319.0         NaN       NaN     25.276107      0.0\n",
      "std             0.0         NaN       NaN     55.855064      0.0\n",
      "min     100057319.0         NaN       NaN      0.000000      0.0\n",
      "25%     100057319.0         NaN       NaN      3.000000      0.0\n",
      "50%     100057319.0         NaN       NaN     15.000000      0.0\n",
      "75%     100057319.0         NaN       NaN     32.000000      0.0\n",
      "max     100057319.0         NaN       NaN   1133.000000      0.0 \n",
      "\n",
      "Statistics for id 100005020:\n",
      "                 id        date      time        counts   status\n",
      "count       36120.0       36120     36120  36120.000000  36120.0\n",
      "unique          NaN         377        96           NaN      NaN\n",
      "top             NaN  2012-09-09  03:45:00           NaN      NaN\n",
      "freq            NaN          96       377           NaN      NaN\n",
      "mean    100005020.0         NaN       NaN     11.532198      4.0\n",
      "std             0.0         NaN       NaN     27.007225      0.0\n",
      "min     100005020.0         NaN       NaN      0.000000      4.0\n",
      "25%     100005020.0         NaN       NaN      0.000000      4.0\n",
      "50%     100005020.0         NaN       NaN      0.000000      4.0\n",
      "75%     100005020.0         NaN       NaN      9.000000      4.0\n",
      "max     100005020.0         NaN       NaN    424.000000      4.0 \n",
      "\n",
      "Statistics for id 100009424:\n",
      "                 id        date      time         counts    status\n",
      "count      136329.0      136329    136329  136329.000000  136329.0\n",
      "unique          NaN        1422        96            NaN       NaN\n",
      "top             NaN  2017-05-02  21:15:00            NaN       NaN\n",
      "freq            NaN          96      1421            NaN       NaN\n",
      "mean    100009424.0         NaN       NaN      21.923208       4.0\n",
      "std             0.0         NaN       NaN      26.368051       0.0\n",
      "min     100009424.0         NaN       NaN       0.000000       4.0\n",
      "25%     100009424.0         NaN       NaN       0.000000       4.0\n",
      "50%     100009424.0         NaN       NaN      13.000000       4.0\n",
      "75%     100009424.0         NaN       NaN      36.000000       4.0\n",
      "max     100009424.0         NaN       NaN     614.000000       4.0 \n",
      "\n",
      "Statistics for id 100009429:\n",
      "                 id        date      time         counts    status\n",
      "count      165505.0      165505    165505  165505.000000  165505.0\n",
      "unique          NaN        1725        96            NaN       NaN\n",
      "top             NaN  2016-04-13  11:00:00            NaN       NaN\n",
      "freq            NaN          96      1725            NaN       NaN\n",
      "mean    100009429.0         NaN       NaN      38.634821       4.0\n",
      "std             0.0         NaN       NaN      43.944063       0.0\n",
      "min     100009429.0         NaN       NaN       0.000000       4.0\n",
      "25%     100009429.0         NaN       NaN       7.000000       4.0\n",
      "50%     100009429.0         NaN       NaN      24.000000       4.0\n",
      "75%     100009429.0         NaN       NaN      55.000000       4.0\n",
      "max     100009429.0         NaN       NaN     366.000000       4.0 \n",
      "\n",
      "Statistics for id 100010020:\n",
      "                 id        date      time         counts    status\n",
      "count      218169.0      218169    218169  218169.000000  218169.0\n",
      "unique          NaN        2277        96            NaN       NaN\n",
      "top             NaN  2016-10-23  16:15:00            NaN       NaN\n",
      "freq            NaN          96      2276            NaN       NaN\n",
      "mean    100010020.0         NaN       NaN      37.557536       0.0\n",
      "std             0.0         NaN       NaN     101.616957       0.0\n",
      "min     100010020.0         NaN       NaN       0.000000       0.0\n",
      "25%     100010020.0         NaN       NaN       0.000000       0.0\n",
      "50%     100010020.0         NaN       NaN       5.000000       0.0\n",
      "75%     100010020.0         NaN       NaN      28.000000       0.0\n",
      "max     100010020.0         NaN       NaN    1032.000000       0.0 \n",
      "\n",
      "Statistics for id 100039064:\n",
      "                 id        date      time        counts   status\n",
      "count       14939.0       14939     14939  14939.000000  14939.0\n",
      "unique          NaN         157        96           NaN      NaN\n",
      "top             NaN  2018-04-14  13:00:00           NaN      NaN\n",
      "freq            NaN          96       156           NaN      NaN\n",
      "mean    100039064.0         NaN       NaN      1.256041      4.0\n",
      "std             0.0         NaN       NaN     10.508441      0.0\n",
      "min     100039064.0         NaN       NaN      0.000000      4.0\n",
      "25%     100039064.0         NaN       NaN      0.000000      4.0\n",
      "50%     100039064.0         NaN       NaN      0.000000      4.0\n",
      "75%     100039064.0         NaN       NaN      0.000000      4.0\n",
      "max     100039064.0         NaN       NaN    255.000000      4.0 \n",
      "\n",
      "Statistics for id 100051865:\n",
      "                 id        date      time         counts    status\n",
      "count      202785.0      202785    202785  202785.000000  202785.0\n",
      "unique          NaN        2113        96            NaN       NaN\n",
      "top             NaN  2012-08-31  00:00:00            NaN       NaN\n",
      "freq            NaN          96      2113            NaN       NaN\n",
      "mean    100051865.0         NaN       NaN      37.700663       4.0\n",
      "std             0.0         NaN       NaN      42.869582       0.0\n",
      "min     100051865.0         NaN       NaN       0.000000       4.0\n",
      "25%     100051865.0         NaN       NaN       7.000000       4.0\n",
      "50%     100051865.0         NaN       NaN      23.000000       4.0\n",
      "75%     100051865.0         NaN       NaN      54.000000       4.0\n",
      "max     100051865.0         NaN       NaN     424.000000       4.0 \n",
      "\n",
      "Statistics for id 100055175:\n",
      "                 id        date      time        counts   status\n",
      "count       27675.0       27675     27675  27675.000000  27675.0\n",
      "unique          NaN         290        96           NaN      NaN\n",
      "top             NaN  2019-12-20  15:45:00           NaN      NaN\n",
      "freq            NaN          96       289           NaN      NaN\n",
      "mean    100055175.0         NaN       NaN     33.195014      0.0\n",
      "std             0.0         NaN       NaN     37.989967      0.0\n",
      "min     100055175.0         NaN       NaN      0.000000      0.0\n",
      "25%     100055175.0         NaN       NaN      6.000000      0.0\n",
      "50%     100055175.0         NaN       NaN     21.000000      0.0\n",
      "75%     100055175.0         NaN       NaN     46.000000      0.0\n",
      "max     100055175.0         NaN       NaN    294.000000      0.0 \n",
      "\n",
      "Statistics for id 100057318:\n",
      "                 id        date      time        counts   status\n",
      "count       20544.0       20544     20544  20544.000000  20544.0\n",
      "unique          NaN         218        96           NaN      NaN\n",
      "top             NaN  2019-10-01  22:30:00           NaN      NaN\n",
      "freq            NaN          96       217           NaN      NaN\n",
      "mean    100057318.0         NaN       NaN      7.697965      0.0\n",
      "std             0.0         NaN       NaN     12.408208      0.0\n",
      "min     100057318.0         NaN       NaN      0.000000      0.0\n",
      "25%     100057318.0         NaN       NaN      0.000000      0.0\n",
      "50%     100057318.0         NaN       NaN      2.000000      0.0\n",
      "75%     100057318.0         NaN       NaN     14.000000      0.0\n",
      "max     100057318.0         NaN       NaN   1028.000000      0.0 \n",
      "\n",
      "Statistics for id 100058279:\n",
      "                 id        date      time        counts   status\n",
      "count       78478.0       78478     78478  78478.000000  78478.0\n",
      "unique          NaN         822        96           NaN      NaN\n",
      "top             NaN  2015-09-29  00:00:00           NaN      NaN\n",
      "freq            NaN          96       818           NaN      NaN\n",
      "mean    100058279.0         NaN       NaN     22.117447      4.0\n",
      "std             0.0         NaN       NaN     30.707365      0.0\n",
      "min     100058279.0         NaN       NaN      0.000000      4.0\n",
      "25%     100058279.0         NaN       NaN      4.000000      4.0\n",
      "50%     100058279.0         NaN       NaN     14.000000      4.0\n",
      "75%     100058279.0         NaN       NaN     31.000000      4.0\n",
      "max     100058279.0         NaN       NaN    777.000000      4.0 \n",
      "\n"
     ]
    }
   ],
   "source": [
    "# Summary Statistics for Each ID\n",
    "for unique_id in unique_ids:\n",
    "    subset = cleaned_ny_bicycle_counts[cleaned_ny_bicycle_counts['id'] == unique_id]\n",
    "    print(f\"Statistics for id {unique_id}:\")\n",
    "    print(subset.describe(include='all'), \"\\n\")"
   ]
  },
  {
   "cell_type": "code",
   "execution_count": 63,
   "id": "fdd88e34",
   "metadata": {},
   "outputs": [
    {
     "data": {
      "image/png": "[encoded data removed]",
      "text/plain": [
       "<Figure size 640x480 with 1 Axes>"
      ]
     },
     "metadata": {},
     "output_type": "display_data"
    },
    {
     "data": {
      "image/png": "[encoded data removed]",
      "text/plain": [
       "<Figure size 640x480 with 1 Axes>"
      ]
     },
     "metadata": {},
     "output_type": "display_data"
    },
    {
     "data": {
      "image/png": "[encoded data removed]",
      "text/plain": [
       "<Figure size 640x480 with 1 Axes>"
      ]
     },
     "metadata": {},
     "output_type": "display_data"
    },
    {
     "data": {
      "image/png": "[encoded data removed]",
      "text/plain": [
       "<Figure size 640x480 with 1 Axes>"
      ]
     },
     "metadata": {},
     "output_type": "display_data"
    },
    {
     "data": {
      "image/png": "[encoded data removed]",
      "text/plain": [
       "<Figure size 640x480 with 1 Axes>"
      ]
     },
     "metadata": {},
     "output_type": "display_data"
    },
    {
     "data": {
      "image/png": "[encoded data removed]",
      "text/plain": [
       "<Figure size 640x480 with 1 Axes>"
      ]
     },
     "metadata": {},
     "output_type": "display_data"
    },
    {
     "data": {
      "image/png": "[encoded data removed]",
      "text/plain": [
       "<Figure size 640x480 with 1 Axes>"
      ]
     },
     "metadata": {},
     "output_type": "display_data"
    },
    {
     "data": {
      "image/png": "[encoded data removed]",
      "text/plain": [
       "<Figure size 640x480 with 1 Axes>"
      ]
     },
     "metadata": {},
     "output_type": "display_data"
    },
    {
     "data": {
      "image/png": "[encoded data removed]",
      "text/plain": [
       "<Figure size 640x480 with 1 Axes>"
      ]
     },
     "metadata": {},
     "output_type": "display_data"
    },
    {
     "data": {
      "image/png": "[encoded data removed]",
      "text/plain": [
       "<Figure size 640x480 with 1 Axes>"
      ]
     },
     "metadata": {},
     "output_type": "display_data"
    },
    {
     "data": {
      "image/png": "[encoded data removed]",
      "text/plain": [
       "<Figure size 640x480 with 1 Axes>"
      ]
     },
     "metadata": {},
     "output_type": "display_data"
    },
    {
     "data": {
      "image/png": "[encoded data removed]",
      "text/plain": [
       "<Figure size 640x480 with 1 Axes>"
      ]
     },
     "metadata": {},
     "output_type": "display_data"
    },
    {
     "data": {
      "image/png": "[encoded data removed]",
      "text/plain": [
       "<Figure size 640x480 with 1 Axes>"
      ]
     },
     "metadata": {},
     "output_type": "display_data"
    },
    {
     "data": {
      "image/png": "[encoded data removed]",
      "text/plain": [
       "<Figure size 640x480 with 1 Axes>"
      ]
     },
     "metadata": {},
     "output_type": "display_data"
    },
    {
     "data": {
      "image/png": "[encoded data removed]",
      "text/plain": [
       "<Figure size 640x480 with 1 Axes>"
      ]
     },
     "metadata": {},
     "output_type": "display_data"
    },
    {
     "data": {
      "image/png": "[encoded data removed]",
      "text/plain": [
       "<Figure size 640x480 with 1 Axes>"
      ]
     },
     "metadata": {},
     "output_type": "display_data"
    },
    {
     "data": {
      "image/png": "[encoded data removed]",
      "text/plain": [
       "<Figure size 640x480 with 1 Axes>"
      ]
     },
     "metadata": {},
     "output_type": "display_data"
    },
    {
     "data": {
      "image/png": "[encoded data removed]",
      "text/plain": [
       "<Figure size 640x480 with 1 Axes>"
      ]
     },
     "metadata": {},
     "output_type": "display_data"
    },
    {
     "data": {
      "image/png": "[encoded data removed]",
      "text/plain": [
       "<Figure size 640x480 with 1 Axes>"
      ]
     },
     "metadata": {},
     "output_type": "display_data"
    },
    {
     "data": {
      "image/png": "[encoded data removed]",
      "text/plain": [
       "<Figure size 640x480 with 1 Axes>"
      ]
     },
     "metadata": {},
     "output_type": "display_data"
    },
    {
     "data": {
      "image/png": "[encoded data removed]",
      "text/plain": [
       "<Figure size 640x480 with 1 Axes>"
      ]
     },
     "metadata": {},
     "output_type": "display_data"
    },
    {
     "data": {
      "image/png": "[encoded data removed]",
      "text/plain": [
       "<Figure size 640x480 with 1 Axes>"
      ]
     },
     "metadata": {},
     "output_type": "display_data"
    },
    {
     "data": {
      "image/png": "[encoded data removed]",
      "text/plain": [
       "<Figure size 640x480 with 1 Axes>"
      ]
     },
     "metadata": {},
     "output_type": "display_data"
    },
    {
     "data": {
      "image/png": "[encoded data removed]",
      "text/plain": [
       "<Figure size 640x480 with 1 Axes>"
      ]
     },
     "metadata": {},
     "output_type": "display_data"
    },
    {
     "data": {
      "image/png": "[encoded data removed]",
      "text/plain": [
       "<Figure size 640x480 with 1 Axes>"
      ]
     },
     "metadata": {},
     "output_type": "display_data"
    }
   ],
   "source": [
    "# Visualizing Data for Each ID\n",
    "import matplotlib.pyplot as plt\n",
    "\n",
    "for unique_id in unique_ids:\n",
    "    subset = cleaned_ny_bicycle_counts[cleaned_ny_bicycle_counts['id'] == unique_id]\n",
    "    subset.plot(x='date', y='counts', title=f\"Counts over Time for id {unique_id}\")\n",
    "    plt.show()"
   ]
  },
  {
   "cell_type": "code",
   "execution_count": 64,
   "id": "950c448d",
   "metadata": {},
   "outputs": [],
   "source": [
    "import os\n",
    "\n",
    "# Define the directory where you want to save the CSV file\n",
    "output_directory = '/Users/haticegormez/Downloads/Group_4_Team_Project/Data/EP_Data/New York'\n",
    "\n",
    "# Specify the full file path, including the directory and filename\n",
    "csv_file_path = os.path.join(output_directory, 'cleaned_ny_bicycle_counts.csv')\n",
    "\n",
    "# Export the DataFrame to the specified file path\n",
    "cleaned_ny_bicycle_counts.to_csv(csv_file_path, index=False)"
   ]
  },
  {
   "cell_type": "markdown",
   "id": "17446fbf",
   "metadata": {},
   "source": [
    "### New York Bicycle Parking"
   ]
  },
  {
   "cell_type": "markdown",
   "id": "8ec0ad96",
   "metadata": {},
   "source": [
    "## Summary of Data Cleaning and Transformation Steps\n",
    "\n",
    "### Handling Missing Values:\n",
    "##### Replaced NaN values with \"unknown\" in the columns 'STREETON', 'XSTREET1', 'XSTREET2', and 'SIDE'.\n",
    "\n",
    "### Creating Cleaned Data Frame:\n",
    "##### Created a new data frame with cleaned data.\n",
    "##### Dropped duplicate rows from this data frame.\n",
    "##### Resulting number of rows after removing duplicates: 12,169.\n",
    "\n",
    "#### Simplifying Data for Geographic Analysis:\n",
    "##### Dropped the columns 'STREETON', 'XSTREET1', 'XSTREET2', and 'SIDE' to simplify the data set.\n",
    "##### This step was taken to focus on separating data specific to New York areas.\n",
    "##### Retained unique borough names: ['Manhattan', 'Brooklyn', 'Queens', 'Bronx', 'Staten Island'].\n",
    "\n",
    "### Future Steps:\n",
    "##### Suggested renaming of column names for better clarity, pending a thorough understanding of the metadata."
   ]
  },
  {
   "cell_type": "code",
   "execution_count": 65,
   "id": "a03f1b67",
   "metadata": {},
   "outputs": [
    {
     "name": "stdout",
     "output_type": "stream",
     "text": [
      "<class 'pandas.core.frame.DataFrame'>\n",
      "RangeIndex: 30178 entries, 0 to 30177\n",
      "Data columns (total 11 columns):\n",
      " #   Column      Non-Null Count  Dtype \n",
      "---  ------      --------------  ----- \n",
      " 0   BoroCode    30178 non-null  int64 \n",
      " 1   BoroName    30178 non-null  object\n",
      " 2   CounDist    30178 non-null  int64 \n",
      " 3   AssemDist   30178 non-null  int64 \n",
      " 4   StSenDist   30178 non-null  int64 \n",
      " 5   CongDist    30178 non-null  int64 \n",
      " 6   STREETON    17710 non-null  object\n",
      " 7   XSTREET1    21881 non-null  object\n",
      " 8   XSTREET2    21771 non-null  object\n",
      " 9   SIDE        18395 non-null  object\n",
      " 10  ASSETSUBTY  30178 non-null  object\n",
      "dtypes: int64(5), object(6)\n",
      "memory usage: 2.5+ MB\n"
     ]
    }
   ],
   "source": [
    "# View the DataFrame\n",
    "ny_bicycle_parking.info()"
   ]
  },
  {
   "cell_type": "code",
   "execution_count": 66,
   "id": "2c327ac0",
   "metadata": {
    "scrolled": true
   },
   "outputs": [
    {
     "name": "stdout",
     "output_type": "stream",
     "text": [
      "\n",
      "First Few Rows After Replacing NaN values:\n",
      "   BoroCode   BoroName  CounDist  AssemDist  StSenDist  CongDist  STREETON  \\\n",
      "0         1  Manhattan        10         72         31        13  W 207 ST   \n",
      "1         3   Brooklyn        35         57         25         9   Unknown   \n",
      "2         4     Queens        29         27         16         6    108 ST   \n",
      "3         4     Queens        29         27         16         6    108 ST   \n",
      "4         1  Manhattan         1         66         26        10   Unknown   \n",
      "\n",
      "      XSTREET1      XSTREET2     SIDE  ASSETSUBTY  \n",
      "0     BROADWAY     COOPER ST        S  Small Hoop  \n",
      "1      Unknown       Unknown  Unknown  Large Hoop  \n",
      "2        63 RD         63 DR        W  Small Hoop  \n",
      "3        63 RD         63 DR        W  Small Hoop  \n",
      "4  BLEECKER ST  W HOUSTON ST        W      U-Rack  \n"
     ]
    }
   ],
   "source": [
    "# Replace NaN values with 'Unknown' in specified columns\n",
    "columns_to_fill = ['STREETON', 'XSTREET1', 'XSTREET2', 'SIDE']\n",
    "ny_bicycle_parking[columns_to_fill] = ny_bicycle_parking[columns_to_fill].fillna('Unknown')\n",
    "\n",
    "print(\"\\nFirst Few Rows After Replacing NaN values:\")\n",
    "print(ny_bicycle_parking.head())"
   ]
  },
  {
   "cell_type": "code",
   "execution_count": 67,
   "id": "cea0eab0",
   "metadata": {},
   "outputs": [
    {
     "name": "stdout",
     "output_type": "stream",
     "text": [
      "   BoroughCode BoroughName  CouncilDistrict  AssemblyDistrict  \\\n",
      "0            1   Manhattan               10                72   \n",
      "1            3    Brooklyn               35                57   \n",
      "2            4      Queens               29                27   \n",
      "3            4      Queens               29                27   \n",
      "4            1   Manhattan                1                66   \n",
      "\n",
      "   StateSenateDistrict  CongressionalDistrict StreetName IntersectingStreet1  \\\n",
      "0                   31                     13   W 207 ST            BROADWAY   \n",
      "1                   25                      9    Unknown             Unknown   \n",
      "2                   16                      6     108 ST               63 RD   \n",
      "3                   16                      6     108 ST               63 RD   \n",
      "4                   26                     10    Unknown         BLEECKER ST   \n",
      "\n",
      "  IntersectingStreet2 StreetSide   AssetType  \n",
      "0           COOPER ST          S  Small Hoop  \n",
      "1             Unknown    Unknown  Large Hoop  \n",
      "2               63 DR          W  Small Hoop  \n",
      "3               63 DR          W  Small Hoop  \n",
      "4        W HOUSTON ST          W      U-Rack  \n"
     ]
    }
   ],
   "source": [
    "# Rename the columns for better clarification \n",
    "ny_bicycle_parking = ny_bicycle_parking.rename(columns={\n",
    "    \"BoroCode\": \"BoroughCode\",\n",
    "    \"BoroName\": \"BoroughName\",\n",
    "    \"CounDist\": \"CouncilDistrict\",\n",
    "    \"AssemDist\": \"AssemblyDistrict\",\n",
    "    \"StSenDist\": \"StateSenateDistrict\",\n",
    "    \"CongDist\": \"CongressionalDistrict\",\n",
    "    \"STREETON\": \"StreetName\",\n",
    "    \"XSTREET1\": \"IntersectingStreet1\",\n",
    "    \"XSTREET2\": \"IntersectingStreet2\",\n",
    "    \"SIDE\": \"StreetSide\",\n",
    "    \"ASSETSUBTY\": \"AssetType\"\n",
    "})\n",
    "\n",
    "# Display the Results\n",
    "print(ny_bicycle_parking.head())"
   ]
  },
  {
   "cell_type": "code",
   "execution_count": 68,
   "id": "abbdc19f",
   "metadata": {},
   "outputs": [
    {
     "name": "stdout",
     "output_type": "stream",
     "text": [
      "cleaned_ny_bicycle_parking DataFrame:\n",
      "       BoroughCode BoroughName  CouncilDistrict  AssemblyDistrict  \\\n",
      "0                1   Manhattan               10                72   \n",
      "1                3    Brooklyn               35                57   \n",
      "2                4      Queens               29                27   \n",
      "4                1   Manhattan                1                66   \n",
      "5                3    Brooklyn               35                57   \n",
      "...            ...         ...              ...               ...   \n",
      "30123            3    Brooklyn               46                59   \n",
      "30132            3    Brooklyn               35                57   \n",
      "30135            3    Brooklyn               46                59   \n",
      "30138            3    Brooklyn               35                57   \n",
      "30167            3    Brooklyn               35                57   \n",
      "\n",
      "       StateSenateDistrict  CongressionalDistrict         StreetName  \\\n",
      "0                       31                     13           W 207 ST   \n",
      "1                       25                      9            Unknown   \n",
      "2                       16                      6             108 ST   \n",
      "4                       26                     10            Unknown   \n",
      "5                       25                      8            Unknown   \n",
      "...                    ...                    ...                ...   \n",
      "30123                   19                      8       Ralph Avenue   \n",
      "30132                   20                      9     Sterling Place   \n",
      "30135                   19                      8       Utica Avenue   \n",
      "30138                   20                      9  Washington Avenue   \n",
      "30167                   21                      9  Washington Avenue   \n",
      "\n",
      "      IntersectingStreet1 IntersectingStreet2 StreetSide   AssetType  \n",
      "0                BROADWAY           COOPER ST          S  Small Hoop  \n",
      "1                 Unknown             Unknown    Unknown  Large Hoop  \n",
      "2                   63 RD               63 DR          W  Small Hoop  \n",
      "4             BLEECKER ST        W HOUSTON ST          W      U-Rack  \n",
      "5             ROCKWELL PL           HUDSON ST          N      U-Rack  \n",
      "...                   ...                 ...        ...         ...  \n",
      "30123             Unknown             Unknown    Unknown  Small Hoop  \n",
      "30132             Unknown             Unknown    Unknown  Small Hoop  \n",
      "30135             Unknown             Unknown    Unknown  Small Hoop  \n",
      "30138             Unknown             Unknown    Unknown  Small Hoop  \n",
      "30167             Unknown             Unknown    Unknown  Small Hoop  \n",
      "\n",
      "[12169 rows x 11 columns]\n",
      "Number of rows after removing duplicates: 12169\n",
      "Number of columns: 11\n"
     ]
    }
   ],
   "source": [
    "# Drop duplicates and name the new DataFrame as cleaned_ny_bicycle_parking\n",
    "cleaned_ny_bicycle_parking = ny_bicycle_parking.drop_duplicates()\n",
    "\n",
    "# Print the cleaned DataFrame\n",
    "print(\"cleaned_ny_bicycle_parking DataFrame:\")\n",
    "print(cleaned_ny_bicycle_parking)\n",
    "\n",
    "# Check the number of rows and columns\n",
    "print(f\"Number of rows after removing duplicates: {len(cleaned_ny_bicycle_parking)}\")\n",
    "print(f\"Number of columns: {len(cleaned_ny_bicycle_parking.columns)}\")"
   ]
  },
  {
   "cell_type": "code",
   "execution_count": 69,
   "id": "31df6c67",
   "metadata": {},
   "outputs": [
    {
     "name": "stdout",
     "output_type": "stream",
     "text": [
      "Index(['BoroughCode', 'BoroughName', 'CouncilDistrict', 'AssemblyDistrict',\n",
      "       'StateSenateDistrict', 'CongressionalDistrict', 'StreetName',\n",
      "       'IntersectingStreet1', 'IntersectingStreet2', 'StreetSide',\n",
      "       'AssetType'],\n",
      "      dtype='object')\n"
     ]
    }
   ],
   "source": [
    "# View the Column Names\n",
    "column_names = cleaned_ny_bicycle_parking.columns\n",
    "print(column_names)"
   ]
  },
  {
   "cell_type": "code",
   "execution_count": 70,
   "id": "525fbb95",
   "metadata": {
    "scrolled": true
   },
   "outputs": [
    {
     "name": "stdout",
     "output_type": "stream",
     "text": [
      "Unique BoroughName: ['Manhattan' 'Brooklyn' 'Queens' 'Bronx' 'Staten Island']\n"
     ]
    }
   ],
   "source": [
    "# List Unique Values in the BoroName Column\n",
    "unique_BoroughName = cleaned_ny_bicycle_parking['BoroughName'].unique()\n",
    "print(\"Unique BoroughName:\", unique_BoroughName)"
   ]
  },
  {
   "cell_type": "code",
   "execution_count": 71,
   "id": "16c79b02",
   "metadata": {},
   "outputs": [],
   "source": [
    "import os\n",
    "\n",
    "# Define the directory where you want to save the CSV file\n",
    "output_directory = '/Users/haticegormez/Downloads/Group_4_Team_Project/Data/EP_Data/New York'\n",
    "\n",
    "# Specify the full file path, including the directory and filename\n",
    "csv_file_path = os.path.join(output_directory, 'cleaned_ny_bicycle_parking.csv')\n",
    "\n",
    "# Export the DataFrame to the specified file path\n",
    "cleaned_ny_bicycle_parking.to_csv(csv_file_path, index=False)"
   ]
  },
  {
   "cell_type": "markdown",
   "id": "5612773d",
   "metadata": {},
   "source": [
    "### NY Bicycle Routes"
   ]
  },
  {
   "cell_type": "markdown",
   "id": "37e36b0d",
   "metadata": {},
   "source": [
    "## Summary of Data Cleaning and Transformation Steps\n",
    "\n",
    "### Missing Values in the Column\"ft_facilit\" :\n",
    "##### In the bicycle routes dataset, there was a column named \"ft_facilit.\"\n",
    "##### Replaced Missing Values with 'Unknown'\n",
    "\n",
    "### Identifying Duplicates:\n",
    "##### There were 17,812 rows that were exactly the same as others. \n",
    "##### Decided to display duplicates for investigation before removing them.\n",
    "\n",
    "### Removing Duplicates:\n",
    "##### After reviewing, removed these duplicate rows from the dataset. And, renamed the data frame as cleaned_ny_bicyle_routes\n",
    "\n",
    "### Future Steps:\n",
    "##### Suggested renaming of column names for better clarity, pending a thorough understanding of the metadata."
   ]
  },
  {
   "cell_type": "code",
   "execution_count": 72,
   "id": "5c24c2c1",
   "metadata": {
    "scrolled": false
   },
   "outputs": [
    {
     "name": "stdout",
     "output_type": "stream",
     "text": [
      "<class 'pandas.core.frame.DataFrame'>\n",
      "RangeIndex: 20824 entries, 0 to 20823\n",
      "Data columns (total 8 columns):\n",
      " #   Column      Non-Null Count  Dtype \n",
      "---  ------      --------------  ----- \n",
      " 0   segmentid   20824 non-null  object\n",
      " 1   boro        20824 non-null  int64 \n",
      " 2   street      20824 non-null  object\n",
      " 3   fromstreet  20824 non-null  object\n",
      " 4   tostreet    20824 non-null  object\n",
      " 5   bikedir     20824 non-null  object\n",
      " 6   lanecount   20824 non-null  int64 \n",
      " 7   ft_facilit  15430 non-null  object\n",
      "dtypes: int64(2), object(6)\n",
      "memory usage: 1.3+ MB\n"
     ]
    }
   ],
   "source": [
    "# View the DataFrame\n",
    "ny_bicycle_routes.info()"
   ]
  },
  {
   "cell_type": "code",
   "execution_count": 73,
   "id": "95ee7b70",
   "metadata": {},
   "outputs": [
    {
     "name": "stdout",
     "output_type": "stream",
     "text": [
      "  SegmentID  Borough                          Street  FromStreet  \\\n",
      "0        53        5  CONFERENCE HOUSE PARK GREENWAY  HYLAN BLVD   \n",
      "1        57        5  CONFERENCE HOUSE PARK GREENWAY  HYLAN BLVD   \n",
      "2        59        5  CONFERENCE HOUSE PARK GREENWAY  HYLAN BLVD   \n",
      "3        61        5  CONFERENCE HOUSE PARK GREENWAY  HYLAN BLVD   \n",
      "4        64        5  CONFERENCE HOUSE PARK GREENWAY  HYLAN BLVD   \n",
      "\n",
      "        ToStreet BikeDirection  LaneCount FacilityType  \n",
      "0  SWINNERTON ST             2          2     Greenway  \n",
      "1  SWINNERTON ST             2          2     Greenway  \n",
      "2  SWINNERTON ST             2          2     Greenway  \n",
      "3  SWINNERTON ST             2          2     Greenway  \n",
      "4  SWINNERTON ST             2          2     Greenway  \n"
     ]
    }
   ],
   "source": [
    "# Rename the columns\n",
    "ny_bicycle_routes = ny_bicycle_routes.rename(columns={\n",
    "    'segmentid': 'SegmentID',\n",
    "    'boro': 'Borough',\n",
    "    'street': 'Street',\n",
    "    'fromstreet': 'FromStreet',\n",
    "    'tostreet': 'ToStreet',\n",
    "    'bikedir': 'BikeDirection',\n",
    "    'lanecount': 'LaneCount',\n",
    "    'ft_facilit': 'FacilityType'\n",
    "})\n",
    "\n",
    "# Display the Results\n",
    "print(ny_bicycle_routes.head())"
   ]
  },
  {
   "cell_type": "code",
   "execution_count": 74,
   "id": "3acc70f1",
   "metadata": {
    "scrolled": false
   },
   "outputs": [
    {
     "name": "stdout",
     "output_type": "stream",
     "text": [
      "Missing values before cleaning:\n",
      "SegmentID           0\n",
      "Borough             0\n",
      "Street              0\n",
      "FromStreet          0\n",
      "ToStreet            0\n",
      "BikeDirection       0\n",
      "LaneCount           0\n",
      "FacilityType     5394\n",
      "dtype: int64\n"
     ]
    }
   ],
   "source": [
    "print(\"Missing values before cleaning:\")\n",
    "print(ny_bicycle_routes.isnull().sum())"
   ]
  },
  {
   "cell_type": "code",
   "execution_count": 75,
   "id": "0a19c83e",
   "metadata": {},
   "outputs": [
    {
     "name": "stdout",
     "output_type": "stream",
     "text": [
      "Number of duplicate rows: 26\n"
     ]
    }
   ],
   "source": [
    "# Checking for duplicates\n",
    "duplicate_rows = ny_bicycle_routes.duplicated()\n",
    "\n",
    "# Counting the number of duplicate rows\n",
    "num_duplicate_rows = duplicate_rows.sum()\n",
    "\n",
    "print(f\"Number of duplicate rows: {num_duplicate_rows}\")"
   ]
  },
  {
   "cell_type": "code",
   "execution_count": 76,
   "id": "29717324",
   "metadata": {},
   "outputs": [
    {
     "name": "stdout",
     "output_type": "stream",
     "text": [
      "Number of duplicate rows: 26\n",
      "\n",
      "Duplicate Rows:\n",
      "       SegmentID  Borough                      Street  \\\n",
      "19480          0        5         BROOKFIELD PARK GWY   \n",
      "19481          0        5         BROOKFIELD PARK GWY   \n",
      "19482          0        5         BROOKFIELD PARK GWY   \n",
      "19483          0        5         BROOKFIELD PARK GWY   \n",
      "19484          0        5         BROOKFIELD PARK GWY   \n",
      "19485          0        5         BROOKFIELD PARK GWY   \n",
      "19486          0        5         BROOKFIELD PARK GWY   \n",
      "19487          0        5         BROOKFIELD PARK GWY   \n",
      "19488          0        5         BROOKFIELD PARK GWY   \n",
      "19489          0        5         BROOKFIELD PARK GWY   \n",
      "19490          0        5         BROOKFIELD PARK GWY   \n",
      "19491          0        5         BROOKFIELD PARK GWY   \n",
      "19492          0        5         BROOKFIELD PARK GWY   \n",
      "19493          0        5         BROOKFIELD PARK GWY   \n",
      "19495          0        5         BROOKFIELD PARK GWY   \n",
      "19630     91.573        4                  KISSENA BL   \n",
      "20221  9,005,041        3                     NAVY ST   \n",
      "20687    331.387        3  SHIRLEY CHISOLM PARK PATHS   \n",
      "20731          0        3                       58 ST   \n",
      "20732          0        3                       58 ST   \n",
      "20733          0        3                       58 ST   \n",
      "20734          0        3                       58 ST   \n",
      "20736          0        3                       57 ST   \n",
      "20737          0        3                       57 ST   \n",
      "20738          0        3                       57 ST   \n",
      "20739          0        3                       57 ST   \n",
      "\n",
      "                          FromStreet                       ToStreet  \\\n",
      "19480    BROOKFIELD PARK ENTRY DRIVE            BROOKFIELD PARK GWY   \n",
      "19481    BROOKFIELD PARK ENTRY DRIVE            BROOKFIELD PARK GWY   \n",
      "19482    BROOKFIELD PARK ENTRY DRIVE            BROOKFIELD PARK GWY   \n",
      "19483    BROOKFIELD PARK ENTRY DRIVE            BROOKFIELD PARK GWY   \n",
      "19484    BROOKFIELD PARK ENTRY DRIVE            BROOKFIELD PARK GWY   \n",
      "19485    BROOKFIELD PARK ENTRY DRIVE            BROOKFIELD PARK GWY   \n",
      "19486    BROOKFIELD PARK ENTRY DRIVE            BROOKFIELD PARK GWY   \n",
      "19487    BROOKFIELD PARK ENTRY DRIVE            BROOKFIELD PARK GWY   \n",
      "19488    BROOKFIELD PARK ENTRY DRIVE            BROOKFIELD PARK GWY   \n",
      "19489    BROOKFIELD PARK ENTRY DRIVE            BROOKFIELD PARK GWY   \n",
      "19490    BROOKFIELD PARK ENTRY DRIVE            BROOKFIELD PARK GWY   \n",
      "19491    BROOKFIELD PARK ENTRY DRIVE            BROOKFIELD PARK GWY   \n",
      "19492    BROOKFIELD PARK ENTRY DRIVE            BROOKFIELD PARK GWY   \n",
      "19493    BROOKFIELD PARK ENTRY DRIVE            BROOKFIELD PARK GWY   \n",
      "19495    BROOKFIELD PARK ENTRY DRIVE            BROOKFIELD PARK GWY   \n",
      "19630                          56 AV              BOOTH MEMORIAL AV   \n",
      "20221                    FLUSHING AV                       SANDS ST   \n",
      "20687  SHIRLEY CHISOLM PARK GREENWAY  SHIRLEY CHISOLM PARK GREENWAY   \n",
      "20731                           3 AV                           7 AV   \n",
      "20732                           3 AV                           7 AV   \n",
      "20733                           3 AV                           7 AV   \n",
      "20734                           3 AV                           7 AV   \n",
      "20736                           7 AV                           3 AV   \n",
      "20737                           7 AV                           3 AV   \n",
      "20738                           7 AV                           3 AV   \n",
      "20739                           7 AV                           3 AV   \n",
      "\n",
      "      BikeDirection  LaneCount    FacilityType  \n",
      "19480             2          2       Dirt Path  \n",
      "19481             2          2       Dirt Path  \n",
      "19482             2          2       Dirt Path  \n",
      "19483             2          2       Dirt Path  \n",
      "19484             2          2       Dirt Path  \n",
      "19485             2          2       Dirt Path  \n",
      "19486             2          2       Dirt Path  \n",
      "19487             2          2       Dirt Path  \n",
      "19488             2          2       Dirt Path  \n",
      "19489             2          2       Dirt Path  \n",
      "19490             2          2       Dirt Path  \n",
      "19491             2          2       Dirt Path  \n",
      "19492             2          2       Dirt Path  \n",
      "19493             2          2       Dirt Path  \n",
      "19495             2          2       Dirt Path  \n",
      "19630             2          2  Protected Path  \n",
      "20221             2          3        Greenway  \n",
      "20687             2          2       Dirt Path  \n",
      "20731             R          1        Standard  \n",
      "20732             R          1        Standard  \n",
      "20733             R          1        Standard  \n",
      "20734             R          1        Standard  \n",
      "20736             L          1             NaN  \n",
      "20737             L          1             NaN  \n",
      "20738             L          1             NaN  \n",
      "20739             L          1             NaN  \n"
     ]
    }
   ],
   "source": [
    "# Finding duplicate rows \n",
    "duplicate_rows = ny_bicycle_routes.duplicated(keep='first')\n",
    "\n",
    "# Counting the number of duplicate rows\n",
    "num_duplicate_rows = duplicate_rows.sum()\n",
    "print(f\"Number of duplicate rows: {num_duplicate_rows}\")\n",
    "\n",
    "# Displaying the duplicate rows\n",
    "if num_duplicate_rows > 0:\n",
    "    print(\"\\nDuplicate Rows:\")\n",
    "    print(ny_bicycle_routes[duplicate_rows])"
   ]
  },
  {
   "cell_type": "code",
   "execution_count": 77,
   "id": "1757a353",
   "metadata": {},
   "outputs": [
    {
     "name": "stdout",
     "output_type": "stream",
     "text": [
      "Number of duplicate rows dropped: 26\n"
     ]
    }
   ],
   "source": [
    "# Drop all duplicate rows\n",
    "cleaned_ny_bicycle_routes = ny_bicycle_routes.drop_duplicates(keep='first')\n",
    "\n",
    "# Print the number of duplicate rows that were removed\n",
    "number_of_duplicates_dropped = len(ny_bicycle_routes) - len(cleaned_ny_bicycle_routes)\n",
    "print(f\"Number of duplicate rows dropped: {number_of_duplicates_dropped}\")"
   ]
  },
  {
   "cell_type": "code",
   "execution_count": 78,
   "id": "32c19904",
   "metadata": {},
   "outputs": [
    {
     "name": "stdout",
     "output_type": "stream",
     "text": [
      "Index(['SegmentID', 'Borough', 'Street', 'FromStreet', 'ToStreet',\n",
      "       'BikeDirection', 'LaneCount', 'FacilityType'],\n",
      "      dtype='object')\n"
     ]
    }
   ],
   "source": [
    "# View the Column Names\n",
    "column_names = cleaned_ny_bicycle_routes.columns\n",
    "print(column_names)"
   ]
  },
  {
   "cell_type": "code",
   "execution_count": 79,
   "id": "6976157b",
   "metadata": {},
   "outputs": [
    {
     "name": "stdout",
     "output_type": "stream",
     "text": [
      "      SegmentID  Borough                          Street       FromStreet  \\\n",
      "0            53        5  CONFERENCE HOUSE PARK GREENWAY       HYLAN BLVD   \n",
      "1            57        5  CONFERENCE HOUSE PARK GREENWAY       HYLAN BLVD   \n",
      "2            59        5  CONFERENCE HOUSE PARK GREENWAY       HYLAN BLVD   \n",
      "3            61        5  CONFERENCE HOUSE PARK GREENWAY       HYLAN BLVD   \n",
      "4            64        5  CONFERENCE HOUSE PARK GREENWAY       HYLAN BLVD   \n",
      "...         ...      ...                             ...              ...   \n",
      "20819   233.514        4                   NORTHERN BLVD  DOUGLASTON PKWY   \n",
      "20820   233.466        4                   CROSS IS PKWY    NORTHERN BLVD   \n",
      "20821   163.713        3                   VANDERBILT AV       PACIFIC ST   \n",
      "20822   163.714        3                   VANDERBILT AV       PACIFIC ST   \n",
      "20823   163.712        3                   VANDERBILT AV       PACIFIC ST   \n",
      "\n",
      "            ToStreet BikeDirection  LaneCount    FacilityType  \n",
      "0      SWINNERTON ST             2          2        Greenway  \n",
      "1      SWINNERTON ST             2          2        Greenway  \n",
      "2      SWINNERTON ST             2          2        Greenway  \n",
      "3      SWINNERTON ST             2          2        Greenway  \n",
      "4      SWINNERTON ST             2          2        Greenway  \n",
      "...              ...           ...        ...             ...  \n",
      "20819         223 ST             2          2  Protected Path  \n",
      "20820      TOTTEN AV             2          2        Greenway  \n",
      "20821    ATLANTIC AV             2          2        Curbside  \n",
      "20822    ATLANTIC AV             2          2        Curbside  \n",
      "20823    ATLANTIC AV             2          2        Curbside  \n",
      "\n",
      "[20798 rows x 8 columns]\n"
     ]
    }
   ],
   "source": [
    "# Print the cleaned DataFrame\n",
    "print(cleaned_ny_bicycle_routes)"
   ]
  },
  {
   "cell_type": "code",
   "execution_count": 80,
   "id": "26ce4626",
   "metadata": {},
   "outputs": [],
   "source": [
    "import os\n",
    "\n",
    "# Define the directory where you want to save the CSV file\n",
    "output_directory = '/Users/haticegormez/Downloads/Group_4_Team_Project/Data/EP_Data/New York'\n",
    "\n",
    "# Specify the full file path, including the directory and filename\n",
    "csv_file_path = os.path.join(output_directory, 'cleaned_ny_bicycle_routes.csv')\n",
    "\n",
    "# Export the DataFrame to the specified file path\n",
    "cleaned_ny_bicycle_routes.to_csv(csv_file_path, index=False)"
   ]
  },
  {
   "cell_type": "markdown",
   "id": "2b92a8d6",
   "metadata": {},
   "source": [
    "### Sydney Bicycle Routes"
   ]
  },
  {
   "cell_type": "markdown",
   "id": "202c9233",
   "metadata": {},
   "source": [
    "## Summary of Steps\n",
    "\n",
    "### syd_bicycle_count_sites DataFrame:\n",
    "\n",
    "##### Each row is uniquely identified by OBJECTID and SiteID.\n",
    "##### The OBJECTID and SiteID columns contain no duplicate values.\n",
    "##### There are no missing values in these columns.\n",
    "##### OBJECTID and SiteID columns are not identical. So I kept both columns"
   ]
  },
  {
   "cell_type": "code",
   "execution_count": 85,
   "id": "7e556e6b",
   "metadata": {
    "scrolled": true
   },
   "outputs": [
    {
     "data": {
      "text/html": [
       "<div>\n",
       "<style scoped>\n",
       "    .dataframe tbody tr th:only-of-type {\n",
       "        vertical-align: middle;\n",
       "    }\n",
       "\n",
       "    .dataframe tbody tr th {\n",
       "        vertical-align: top;\n",
       "    }\n",
       "\n",
       "    .dataframe thead th {\n",
       "        text-align: right;\n",
       "    }\n",
       "</style>\n",
       "<table border=\"1\" class=\"dataframe\">\n",
       "  <thead>\n",
       "    <tr style=\"text-align: right;\">\n",
       "      <th></th>\n",
       "      <th>Longitude</th>\n",
       "      <th>Latitude</th>\n",
       "      <th>Index</th>\n",
       "      <th>LocationID</th>\n",
       "      <th>IntersectionLocation</th>\n",
       "    </tr>\n",
       "  </thead>\n",
       "  <tbody>\n",
       "    <tr>\n",
       "      <th>0</th>\n",
       "      <td>151.204168</td>\n",
       "      <td>-33.882846</td>\n",
       "      <td>1</td>\n",
       "      <td>1</td>\n",
       "      <td>Intersection of Broadway, Lee Street, Quay Str...</td>\n",
       "    </tr>\n",
       "    <tr>\n",
       "      <th>1</th>\n",
       "      <td>151.208601</td>\n",
       "      <td>-33.878286</td>\n",
       "      <td>2</td>\n",
       "      <td>2</td>\n",
       "      <td>Intersection of Castlereagh Street and Goulbur...</td>\n",
       "    </tr>\n",
       "    <tr>\n",
       "      <th>2</th>\n",
       "      <td>151.205783</td>\n",
       "      <td>-33.863364</td>\n",
       "      <td>3</td>\n",
       "      <td>3</td>\n",
       "      <td>Intersection of Grosvenor Street and Glouceste...</td>\n",
       "    </tr>\n",
       "    <tr>\n",
       "      <th>3</th>\n",
       "      <td>151.209897</td>\n",
       "      <td>-33.873292</td>\n",
       "      <td>4</td>\n",
       "      <td>4</td>\n",
       "      <td>Intersection of Elizabeth Street and Park Street</td>\n",
       "    </tr>\n",
       "    <tr>\n",
       "      <th>4</th>\n",
       "      <td>151.209083</td>\n",
       "      <td>-33.879797</td>\n",
       "      <td>5</td>\n",
       "      <td>5</td>\n",
       "      <td>Intersection of Elizabeth Street, Wentworth Av...</td>\n",
       "    </tr>\n",
       "  </tbody>\n",
       "</table>\n",
       "</div>"
      ],
      "text/plain": [
       "    Longitude   Latitude  Index  LocationID  \\\n",
       "0  151.204168 -33.882846      1           1   \n",
       "1  151.208601 -33.878286      2           2   \n",
       "2  151.205783 -33.863364      3           3   \n",
       "3  151.209897 -33.873292      4           4   \n",
       "4  151.209083 -33.879797      5           5   \n",
       "\n",
       "                                IntersectionLocation  \n",
       "0  Intersection of Broadway, Lee Street, Quay Str...  \n",
       "1  Intersection of Castlereagh Street and Goulbur...  \n",
       "2  Intersection of Grosvenor Street and Glouceste...  \n",
       "3   Intersection of Elizabeth Street and Park Street  \n",
       "4  Intersection of Elizabeth Street, Wentworth Av...  "
      ]
     },
     "execution_count": 85,
     "metadata": {},
     "output_type": "execute_result"
    }
   ],
   "source": [
    "# View the DataFrame\n",
    "syd_bicycle_count_sites.head()"
   ]
  },
  {
   "cell_type": "code",
   "execution_count": 82,
   "id": "5b850b58",
   "metadata": {},
   "outputs": [
    {
     "name": "stdout",
     "output_type": "stream",
     "text": [
      "OBJECTID and SiteID columns are not identical.\n"
     ]
    }
   ],
   "source": [
    "# Check if OBJECTID and SiteID have the same values across all rows\n",
    "columns_are_identical = syd_bicycle_count_sites['OBJECTID'].equals(syd_bicycle_count_sites['SiteID'])\n",
    "\n",
    "if columns_are_identical:\n",
    "    print(\"OBJECTID and SiteID columns are identical. One of them can be dropped.\")\n",
    "    # Drop one of the columns, for example, SiteID\n",
    "    syd_bicycle_count_sites = syd_bicycle_count_sites.drop('SiteID', axis=1)\n",
    "else:\n",
    "    print(\"OBJECTID and SiteID columns are not identical.\")"
   ]
  },
  {
   "cell_type": "code",
   "execution_count": 83,
   "id": "eb261497",
   "metadata": {},
   "outputs": [
    {
     "data": {
      "text/html": [
       "<div>\n",
       "<style scoped>\n",
       "    .dataframe tbody tr th:only-of-type {\n",
       "        vertical-align: middle;\n",
       "    }\n",
       "\n",
       "    .dataframe tbody tr th {\n",
       "        vertical-align: top;\n",
       "    }\n",
       "\n",
       "    .dataframe thead th {\n",
       "        text-align: right;\n",
       "    }\n",
       "</style>\n",
       "<table border=\"1\" class=\"dataframe\">\n",
       "  <thead>\n",
       "    <tr style=\"text-align: right;\">\n",
       "      <th></th>\n",
       "      <th>Longitude</th>\n",
       "      <th>Latitude</th>\n",
       "      <th>Index</th>\n",
       "      <th>LocationID</th>\n",
       "      <th>IntersectionLocation</th>\n",
       "    </tr>\n",
       "  </thead>\n",
       "  <tbody>\n",
       "    <tr>\n",
       "      <th>0</th>\n",
       "      <td>151.204168</td>\n",
       "      <td>-33.882846</td>\n",
       "      <td>1</td>\n",
       "      <td>1</td>\n",
       "      <td>Intersection of Broadway, Lee Street, Quay Str...</td>\n",
       "    </tr>\n",
       "    <tr>\n",
       "      <th>1</th>\n",
       "      <td>151.208601</td>\n",
       "      <td>-33.878286</td>\n",
       "      <td>2</td>\n",
       "      <td>2</td>\n",
       "      <td>Intersection of Castlereagh Street and Goulbur...</td>\n",
       "    </tr>\n",
       "    <tr>\n",
       "      <th>2</th>\n",
       "      <td>151.205783</td>\n",
       "      <td>-33.863364</td>\n",
       "      <td>3</td>\n",
       "      <td>3</td>\n",
       "      <td>Intersection of Grosvenor Street and Glouceste...</td>\n",
       "    </tr>\n",
       "    <tr>\n",
       "      <th>3</th>\n",
       "      <td>151.209897</td>\n",
       "      <td>-33.873292</td>\n",
       "      <td>4</td>\n",
       "      <td>4</td>\n",
       "      <td>Intersection of Elizabeth Street and Park Street</td>\n",
       "    </tr>\n",
       "    <tr>\n",
       "      <th>4</th>\n",
       "      <td>151.209083</td>\n",
       "      <td>-33.879797</td>\n",
       "      <td>5</td>\n",
       "      <td>5</td>\n",
       "      <td>Intersection of Elizabeth Street, Wentworth Av...</td>\n",
       "    </tr>\n",
       "  </tbody>\n",
       "</table>\n",
       "</div>"
      ],
      "text/plain": [
       "    Longitude   Latitude  Index  LocationID  \\\n",
       "0  151.204168 -33.882846      1           1   \n",
       "1  151.208601 -33.878286      2           2   \n",
       "2  151.205783 -33.863364      3           3   \n",
       "3  151.209897 -33.873292      4           4   \n",
       "4  151.209083 -33.879797      5           5   \n",
       "\n",
       "                                IntersectionLocation  \n",
       "0  Intersection of Broadway, Lee Street, Quay Str...  \n",
       "1  Intersection of Castlereagh Street and Goulbur...  \n",
       "2  Intersection of Grosvenor Street and Glouceste...  \n",
       "3   Intersection of Elizabeth Street and Park Street  \n",
       "4  Intersection of Elizabeth Street, Wentworth Av...  "
      ]
     },
     "execution_count": 83,
     "metadata": {},
     "output_type": "execute_result"
    }
   ],
   "source": [
    "# Rename the Column Names\n",
    "syd_bicycle_count_sites = syd_bicycle_count_sites.rename(columns={\n",
    "    'X': 'Longitude',\n",
    "    'Y': 'Latitude',\n",
    "    'OBJECTID': 'Index',\n",
    "    'SiteID': 'LocationID',\n",
    "    'Intersection': 'IntersectionLocation'\n",
    "})\n",
    "\n",
    "# View the DataFrame\n",
    "syd_bicycle_count_sites.head()"
   ]
  },
  {
   "cell_type": "code",
   "execution_count": 86,
   "id": "fe7ddb82",
   "metadata": {},
   "outputs": [
    {
     "data": {
      "text/html": [
       "<div>\n",
       "<style scoped>\n",
       "    .dataframe tbody tr th:only-of-type {\n",
       "        vertical-align: middle;\n",
       "    }\n",
       "\n",
       "    .dataframe tbody tr th {\n",
       "        vertical-align: top;\n",
       "    }\n",
       "\n",
       "    .dataframe thead th {\n",
       "        text-align: right;\n",
       "    }\n",
       "</style>\n",
       "<table border=\"1\" class=\"dataframe\">\n",
       "  <thead>\n",
       "    <tr style=\"text-align: right;\">\n",
       "      <th></th>\n",
       "      <th>Longitude</th>\n",
       "      <th>Latitude</th>\n",
       "      <th>Index</th>\n",
       "      <th>LocationID</th>\n",
       "      <th>IntersectionLocation</th>\n",
       "    </tr>\n",
       "  </thead>\n",
       "  <tbody>\n",
       "    <tr>\n",
       "      <th>0</th>\n",
       "      <td>151.204168</td>\n",
       "      <td>-33.882846</td>\n",
       "      <td>1</td>\n",
       "      <td>1</td>\n",
       "      <td>Intersection of Broadway, Lee Street, Quay Str...</td>\n",
       "    </tr>\n",
       "    <tr>\n",
       "      <th>1</th>\n",
       "      <td>151.208601</td>\n",
       "      <td>-33.878286</td>\n",
       "      <td>2</td>\n",
       "      <td>2</td>\n",
       "      <td>Intersection of Castlereagh Street and Goulbur...</td>\n",
       "    </tr>\n",
       "    <tr>\n",
       "      <th>2</th>\n",
       "      <td>151.205783</td>\n",
       "      <td>-33.863364</td>\n",
       "      <td>3</td>\n",
       "      <td>3</td>\n",
       "      <td>Intersection of Grosvenor Street and Glouceste...</td>\n",
       "    </tr>\n",
       "    <tr>\n",
       "      <th>3</th>\n",
       "      <td>151.209897</td>\n",
       "      <td>-33.873292</td>\n",
       "      <td>4</td>\n",
       "      <td>4</td>\n",
       "      <td>Intersection of Elizabeth Street and Park Street</td>\n",
       "    </tr>\n",
       "    <tr>\n",
       "      <th>4</th>\n",
       "      <td>151.209083</td>\n",
       "      <td>-33.879797</td>\n",
       "      <td>5</td>\n",
       "      <td>5</td>\n",
       "      <td>Intersection of Elizabeth Street, Wentworth Av...</td>\n",
       "    </tr>\n",
       "  </tbody>\n",
       "</table>\n",
       "</div>"
      ],
      "text/plain": [
       "    Longitude   Latitude  Index  LocationID  \\\n",
       "0  151.204168 -33.882846      1           1   \n",
       "1  151.208601 -33.878286      2           2   \n",
       "2  151.205783 -33.863364      3           3   \n",
       "3  151.209897 -33.873292      4           4   \n",
       "4  151.209083 -33.879797      5           5   \n",
       "\n",
       "                                IntersectionLocation  \n",
       "0  Intersection of Broadway, Lee Street, Quay Str...  \n",
       "1  Intersection of Castlereagh Street and Goulbur...  \n",
       "2  Intersection of Grosvenor Street and Glouceste...  \n",
       "3   Intersection of Elizabeth Street and Park Street  \n",
       "4  Intersection of Elizabeth Street, Wentworth Av...  "
      ]
     },
     "execution_count": 86,
     "metadata": {},
     "output_type": "execute_result"
    }
   ],
   "source": [
    "# Rename the DataFrame\n",
    "cleaned_syd_bicycle_count_sites = syd_bicycle_count_sites\n",
    "\n",
    "# View the DataFrame\n",
    "cleaned_syd_bicycle_count_sites.head()"
   ]
  },
  {
   "cell_type": "code",
   "execution_count": 88,
   "id": "4a36a8d5",
   "metadata": {},
   "outputs": [],
   "source": [
    "import os\n",
    "\n",
    "# Define the directory where you want to save the CSV file\n",
    "output_directory = '/Users/haticegormez/Downloads/Group_4_Team_Project/Data/EP_Data/Sydney'\n",
    "\n",
    "# Specify the full file path, including the directory and filename\n",
    "csv_file_path = os.path.join(output_directory, 'cleaned_syd_bicycle_count_sites.csv')\n",
    "\n",
    "# Export the DataFrame to the specified file path\n",
    "cleaned_syd_bicycle_count_sites.to_csv(csv_file_path, index=False)"
   ]
  },
  {
   "cell_type": "markdown",
   "id": "947c1a9b",
   "metadata": {},
   "source": [
    "### Sydney Bicycle Count Surveys"
   ]
  },
  {
   "cell_type": "markdown",
   "id": "dcdcb8fa",
   "metadata": {},
   "source": [
    "### For syd_bicycle_count_surveys DataFrame:\n",
    "\n",
    "##### The ObjectId2 column is a unique identifier with no duplicates, ensuring the integrity of the dataset.\n",
    "##### There are no missing values in the ObjectId2 column."
   ]
  },
  {
   "cell_type": "code",
   "execution_count": 89,
   "id": "6d3e9b62",
   "metadata": {},
   "outputs": [
    {
     "data": {
      "text/html": [
       "<div>\n",
       "<style scoped>\n",
       "    .dataframe tbody tr th:only-of-type {\n",
       "        vertical-align: middle;\n",
       "    }\n",
       "\n",
       "    .dataframe tbody tr th {\n",
       "        vertical-align: top;\n",
       "    }\n",
       "\n",
       "    .dataframe thead th {\n",
       "        text-align: right;\n",
       "    }\n",
       "</style>\n",
       "<table border=\"1\" class=\"dataframe\">\n",
       "  <thead>\n",
       "    <tr style=\"text-align: right;\">\n",
       "      <th></th>\n",
       "      <th>SiteID</th>\n",
       "      <th>Month</th>\n",
       "      <th>Year</th>\n",
       "      <th>TotalCount</th>\n",
       "      <th>ObjectId2</th>\n",
       "      <th>Time_0600</th>\n",
       "      <th>Time_0700</th>\n",
       "      <th>Time_0800</th>\n",
       "      <th>Time_1600</th>\n",
       "      <th>Time_1700</th>\n",
       "      <th>Time_1800</th>\n",
       "    </tr>\n",
       "  </thead>\n",
       "  <tbody>\n",
       "    <tr>\n",
       "      <th>0</th>\n",
       "      <td>51</td>\n",
       "      <td>March</td>\n",
       "      <td>2010</td>\n",
       "      <td>263</td>\n",
       "      <td>1</td>\n",
       "      <td>12</td>\n",
       "      <td>45</td>\n",
       "      <td>56</td>\n",
       "      <td>27</td>\n",
       "      <td>56</td>\n",
       "      <td>67</td>\n",
       "    </tr>\n",
       "    <tr>\n",
       "      <th>1</th>\n",
       "      <td>1</td>\n",
       "      <td>October</td>\n",
       "      <td>2015</td>\n",
       "      <td>383</td>\n",
       "      <td>2</td>\n",
       "      <td>37</td>\n",
       "      <td>69</td>\n",
       "      <td>100</td>\n",
       "      <td>47</td>\n",
       "      <td>68</td>\n",
       "      <td>62</td>\n",
       "    </tr>\n",
       "    <tr>\n",
       "      <th>2</th>\n",
       "      <td>52</td>\n",
       "      <td>March</td>\n",
       "      <td>2010</td>\n",
       "      <td>136</td>\n",
       "      <td>3</td>\n",
       "      <td>7</td>\n",
       "      <td>18</td>\n",
       "      <td>31</td>\n",
       "      <td>29</td>\n",
       "      <td>30</td>\n",
       "      <td>21</td>\n",
       "    </tr>\n",
       "    <tr>\n",
       "      <th>3</th>\n",
       "      <td>53</td>\n",
       "      <td>March</td>\n",
       "      <td>2010</td>\n",
       "      <td>333</td>\n",
       "      <td>4</td>\n",
       "      <td>25</td>\n",
       "      <td>86</td>\n",
       "      <td>93</td>\n",
       "      <td>15</td>\n",
       "      <td>62</td>\n",
       "      <td>52</td>\n",
       "    </tr>\n",
       "    <tr>\n",
       "      <th>4</th>\n",
       "      <td>2</td>\n",
       "      <td>October</td>\n",
       "      <td>2015</td>\n",
       "      <td>447</td>\n",
       "      <td>5</td>\n",
       "      <td>32</td>\n",
       "      <td>75</td>\n",
       "      <td>72</td>\n",
       "      <td>56</td>\n",
       "      <td>114</td>\n",
       "      <td>98</td>\n",
       "    </tr>\n",
       "  </tbody>\n",
       "</table>\n",
       "</div>"
      ],
      "text/plain": [
       "   SiteID    Month  Year  TotalCount  ObjectId2  Time_0600  Time_0700  \\\n",
       "0      51    March  2010         263          1         12         45   \n",
       "1       1  October  2015         383          2         37         69   \n",
       "2      52    March  2010         136          3          7         18   \n",
       "3      53    March  2010         333          4         25         86   \n",
       "4       2  October  2015         447          5         32         75   \n",
       "\n",
       "   Time_0800  Time_1600  Time_1700  Time_1800  \n",
       "0         56         27         56         67  \n",
       "1        100         47         68         62  \n",
       "2         31         29         30         21  \n",
       "3         93         15         62         52  \n",
       "4         72         56        114         98  "
      ]
     },
     "execution_count": 89,
     "metadata": {},
     "output_type": "execute_result"
    }
   ],
   "source": [
    "# View the DataFrame\n",
    "syd_bicycle_count_surveys.head()"
   ]
  },
  {
   "cell_type": "code",
   "execution_count": 90,
   "id": "654fcaed",
   "metadata": {},
   "outputs": [
    {
     "name": "stdout",
     "output_type": "stream",
     "text": [
      "Index(['SiteID', 'Month', 'Year', 'TotalCount', 'ObjectId2', 'Time_0600',\n",
      "       'Time_0700', 'Time_0800', 'Time_1600', 'Time_1700', 'Time_1800'],\n",
      "      dtype='object')\n"
     ]
    }
   ],
   "source": [
    "# View the Column Names\n",
    "column_names = syd_bicycle_count_surveys.columns\n",
    "print(column_names)"
   ]
  },
  {
   "cell_type": "code",
   "execution_count": 91,
   "id": "9c3ff4ad",
   "metadata": {},
   "outputs": [
    {
     "data": {
      "text/html": [
       "<div>\n",
       "<style scoped>\n",
       "    .dataframe tbody tr th:only-of-type {\n",
       "        vertical-align: middle;\n",
       "    }\n",
       "\n",
       "    .dataframe tbody tr th {\n",
       "        vertical-align: top;\n",
       "    }\n",
       "\n",
       "    .dataframe thead th {\n",
       "        text-align: right;\n",
       "    }\n",
       "</style>\n",
       "<table border=\"1\" class=\"dataframe\">\n",
       "  <thead>\n",
       "    <tr style=\"text-align: right;\">\n",
       "      <th></th>\n",
       "      <th>SiteID</th>\n",
       "      <th>Month</th>\n",
       "      <th>Year</th>\n",
       "      <th>Total number of bicycles</th>\n",
       "      <th>ObjectId2</th>\n",
       "      <th>Time_06:00</th>\n",
       "      <th>Time_07:00</th>\n",
       "      <th>Time_08:00</th>\n",
       "      <th>Time_16:00</th>\n",
       "      <th>Time_17:00</th>\n",
       "      <th>Time_18:00</th>\n",
       "    </tr>\n",
       "  </thead>\n",
       "  <tbody>\n",
       "    <tr>\n",
       "      <th>0</th>\n",
       "      <td>51</td>\n",
       "      <td>March</td>\n",
       "      <td>2010</td>\n",
       "      <td>263</td>\n",
       "      <td>1</td>\n",
       "      <td>12</td>\n",
       "      <td>45</td>\n",
       "      <td>56</td>\n",
       "      <td>27</td>\n",
       "      <td>56</td>\n",
       "      <td>67</td>\n",
       "    </tr>\n",
       "    <tr>\n",
       "      <th>1</th>\n",
       "      <td>1</td>\n",
       "      <td>October</td>\n",
       "      <td>2015</td>\n",
       "      <td>383</td>\n",
       "      <td>2</td>\n",
       "      <td>37</td>\n",
       "      <td>69</td>\n",
       "      <td>100</td>\n",
       "      <td>47</td>\n",
       "      <td>68</td>\n",
       "      <td>62</td>\n",
       "    </tr>\n",
       "    <tr>\n",
       "      <th>2</th>\n",
       "      <td>52</td>\n",
       "      <td>March</td>\n",
       "      <td>2010</td>\n",
       "      <td>136</td>\n",
       "      <td>3</td>\n",
       "      <td>7</td>\n",
       "      <td>18</td>\n",
       "      <td>31</td>\n",
       "      <td>29</td>\n",
       "      <td>30</td>\n",
       "      <td>21</td>\n",
       "    </tr>\n",
       "    <tr>\n",
       "      <th>3</th>\n",
       "      <td>53</td>\n",
       "      <td>March</td>\n",
       "      <td>2010</td>\n",
       "      <td>333</td>\n",
       "      <td>4</td>\n",
       "      <td>25</td>\n",
       "      <td>86</td>\n",
       "      <td>93</td>\n",
       "      <td>15</td>\n",
       "      <td>62</td>\n",
       "      <td>52</td>\n",
       "    </tr>\n",
       "    <tr>\n",
       "      <th>4</th>\n",
       "      <td>2</td>\n",
       "      <td>October</td>\n",
       "      <td>2015</td>\n",
       "      <td>447</td>\n",
       "      <td>5</td>\n",
       "      <td>32</td>\n",
       "      <td>75</td>\n",
       "      <td>72</td>\n",
       "      <td>56</td>\n",
       "      <td>114</td>\n",
       "      <td>98</td>\n",
       "    </tr>\n",
       "  </tbody>\n",
       "</table>\n",
       "</div>"
      ],
      "text/plain": [
       "   SiteID    Month  Year  Total number of bicycles  ObjectId2  Time_06:00  \\\n",
       "0      51    March  2010                       263          1          12   \n",
       "1       1  October  2015                       383          2          37   \n",
       "2      52    March  2010                       136          3           7   \n",
       "3      53    March  2010                       333          4          25   \n",
       "4       2  October  2015                       447          5          32   \n",
       "\n",
       "   Time_07:00  Time_08:00  Time_16:00  Time_17:00  Time_18:00  \n",
       "0          45          56          27          56          67  \n",
       "1          69         100          47          68          62  \n",
       "2          18          31          29          30          21  \n",
       "3          86          93          15          62          52  \n",
       "4          75          72          56         114          98  "
      ]
     },
     "execution_count": 91,
     "metadata": {},
     "output_type": "execute_result"
    }
   ],
   "source": [
    "# Rename the Column Names\n",
    "syd_bicycle_count_surveys = syd_bicycle_count_surveys.rename(columns={\n",
    "    'SiteID': 'SiteID',\n",
    "    'Month': 'Month',\n",
    "    'Year': 'Year',\n",
    "    'TotalCount': 'Total number of bicycles',\n",
    "    'ObjectId2': 'ObjectId2',\n",
    "    'Time_0600': 'Time_06:00',\n",
    "    'Time_0700': 'Time_07:00',\n",
    "    'Time_0800': 'Time_08:00',\n",
    "    'Time_1600': 'Time_16:00',\n",
    "    'Time_1700': 'Time_17:00',\n",
    "    'Time_1800': 'Time_18:00'\n",
    "})\n",
    "\n",
    "# View the DataFrame\n",
    "syd_bicycle_count_surveys.head()"
   ]
  },
  {
   "cell_type": "code",
   "execution_count": 92,
   "id": "f35b6f45",
   "metadata": {},
   "outputs": [
    {
     "name": "stdout",
     "output_type": "stream",
     "text": [
      "Missing values in each column:\n",
      " SiteID                      0\n",
      "Month                       0\n",
      "Year                        0\n",
      "Total number of bicycles    0\n",
      "ObjectId2                   0\n",
      "Time_06:00                  0\n",
      "Time_07:00                  0\n",
      "Time_08:00                  0\n",
      "Time_16:00                  0\n",
      "Time_17:00                  0\n",
      "Time_18:00                  0\n",
      "dtype: int64\n"
     ]
    }
   ],
   "source": [
    "# Check for missing values\n",
    "missing_values = syd_bicycle_count_surveys.isnull().sum()\n",
    "print(\"Missing values in each column:\\n\", missing_values)"
   ]
  },
  {
   "cell_type": "code",
   "execution_count": 93,
   "id": "f9d5f8f3",
   "metadata": {},
   "outputs": [
    {
     "name": "stdout",
     "output_type": "stream",
     "text": [
      "Duplicates in 'ObjectId2':  False\n"
     ]
    }
   ],
   "source": [
    "# Check for uniqueness in 'ObjectId2'\n",
    "objectid2_duplicates = syd_bicycle_count_surveys['ObjectId2'].duplicated().any()\n",
    "print(\"Duplicates in 'ObjectId2': \", objectid2_duplicates)"
   ]
  },
  {
   "cell_type": "code",
   "execution_count": 94,
   "id": "967e8a18",
   "metadata": {},
   "outputs": [
    {
     "data": {
      "text/html": [
       "<div>\n",
       "<style scoped>\n",
       "    .dataframe tbody tr th:only-of-type {\n",
       "        vertical-align: middle;\n",
       "    }\n",
       "\n",
       "    .dataframe tbody tr th {\n",
       "        vertical-align: top;\n",
       "    }\n",
       "\n",
       "    .dataframe thead th {\n",
       "        text-align: right;\n",
       "    }\n",
       "</style>\n",
       "<table border=\"1\" class=\"dataframe\">\n",
       "  <thead>\n",
       "    <tr style=\"text-align: right;\">\n",
       "      <th></th>\n",
       "      <th>SiteID</th>\n",
       "      <th>Month</th>\n",
       "      <th>Year</th>\n",
       "      <th>Total number of bicycles</th>\n",
       "      <th>ObjectId2</th>\n",
       "      <th>Time_06:00</th>\n",
       "      <th>Time_07:00</th>\n",
       "      <th>Time_08:00</th>\n",
       "      <th>Time_16:00</th>\n",
       "      <th>Time_17:00</th>\n",
       "      <th>Time_18:00</th>\n",
       "    </tr>\n",
       "  </thead>\n",
       "  <tbody>\n",
       "    <tr>\n",
       "      <th>0</th>\n",
       "      <td>51</td>\n",
       "      <td>March</td>\n",
       "      <td>2010</td>\n",
       "      <td>263</td>\n",
       "      <td>1</td>\n",
       "      <td>12</td>\n",
       "      <td>45</td>\n",
       "      <td>56</td>\n",
       "      <td>27</td>\n",
       "      <td>56</td>\n",
       "      <td>67</td>\n",
       "    </tr>\n",
       "    <tr>\n",
       "      <th>1</th>\n",
       "      <td>1</td>\n",
       "      <td>October</td>\n",
       "      <td>2015</td>\n",
       "      <td>383</td>\n",
       "      <td>2</td>\n",
       "      <td>37</td>\n",
       "      <td>69</td>\n",
       "      <td>100</td>\n",
       "      <td>47</td>\n",
       "      <td>68</td>\n",
       "      <td>62</td>\n",
       "    </tr>\n",
       "    <tr>\n",
       "      <th>2</th>\n",
       "      <td>52</td>\n",
       "      <td>March</td>\n",
       "      <td>2010</td>\n",
       "      <td>136</td>\n",
       "      <td>3</td>\n",
       "      <td>7</td>\n",
       "      <td>18</td>\n",
       "      <td>31</td>\n",
       "      <td>29</td>\n",
       "      <td>30</td>\n",
       "      <td>21</td>\n",
       "    </tr>\n",
       "    <tr>\n",
       "      <th>3</th>\n",
       "      <td>53</td>\n",
       "      <td>March</td>\n",
       "      <td>2010</td>\n",
       "      <td>333</td>\n",
       "      <td>4</td>\n",
       "      <td>25</td>\n",
       "      <td>86</td>\n",
       "      <td>93</td>\n",
       "      <td>15</td>\n",
       "      <td>62</td>\n",
       "      <td>52</td>\n",
       "    </tr>\n",
       "    <tr>\n",
       "      <th>4</th>\n",
       "      <td>2</td>\n",
       "      <td>October</td>\n",
       "      <td>2015</td>\n",
       "      <td>447</td>\n",
       "      <td>5</td>\n",
       "      <td>32</td>\n",
       "      <td>75</td>\n",
       "      <td>72</td>\n",
       "      <td>56</td>\n",
       "      <td>114</td>\n",
       "      <td>98</td>\n",
       "    </tr>\n",
       "  </tbody>\n",
       "</table>\n",
       "</div>"
      ],
      "text/plain": [
       "   SiteID    Month  Year  Total number of bicycles  ObjectId2  Time_06:00  \\\n",
       "0      51    March  2010                       263          1          12   \n",
       "1       1  October  2015                       383          2          37   \n",
       "2      52    March  2010                       136          3           7   \n",
       "3      53    March  2010                       333          4          25   \n",
       "4       2  October  2015                       447          5          32   \n",
       "\n",
       "   Time_07:00  Time_08:00  Time_16:00  Time_17:00  Time_18:00  \n",
       "0          45          56          27          56          67  \n",
       "1          69         100          47          68          62  \n",
       "2          18          31          29          30          21  \n",
       "3          86          93          15          62          52  \n",
       "4          75          72          56         114          98  "
      ]
     },
     "execution_count": 94,
     "metadata": {},
     "output_type": "execute_result"
    }
   ],
   "source": [
    "# Rename the DataFrame\n",
    "cleaned_syd_bicycle_count_surveys = syd_bicycle_count_surveys\n",
    "\n",
    "# View the DataFrame\n",
    "cleaned_syd_bicycle_count_surveys.head()"
   ]
  },
  {
   "cell_type": "code",
   "execution_count": 95,
   "id": "a0924423",
   "metadata": {},
   "outputs": [
    {
     "name": "stdout",
     "output_type": "stream",
     "text": [
      "Index(['SiteID', 'Month', 'Year', 'Total number of bicycles', 'ObjectId2',\n",
      "       'Time_06:00', 'Time_07:00', 'Time_08:00', 'Time_16:00', 'Time_17:00',\n",
      "       'Time_18:00'],\n",
      "      dtype='object')\n"
     ]
    }
   ],
   "source": [
    "# View the Column Names\n",
    "column_names = cleaned_syd_bicycle_count_surveys.columns\n",
    "print(column_names)"
   ]
  }
 ],
 "metadata": {
  "kernelspec": {
   "display_name": "Python 3 (ipykernel)",
   "language": "python",
   "name": "python3"
  },
  "language_info": {
   "codemirror_mode": {
    "name": "ipython",
    "version": 3
   },
   "file_extension": ".py",
   "mimetype": "text/x-python",
   "name": "python",
   "nbconvert_exporter": "python",
   "pygments_lexer": "ipython3",
   "version": "3.10.11"
  }
 },
 "nbformat": 4,
 "nbformat_minor": 5
}
